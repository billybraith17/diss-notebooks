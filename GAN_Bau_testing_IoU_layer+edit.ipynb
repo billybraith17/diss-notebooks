{
  "nbformat": 4,
  "nbformat_minor": 0,
  "metadata": {
    "colab": {
      "provenance": [],
      "machine_shape": "hm"
    },
    "kernelspec": {
      "name": "python3",
      "display_name": "Python 3"
    },
    "language_info": {
      "name": "python"
    },
    "gpuClass": "standard",
    "accelerator": "GPU"
  },
  "cells": [
    {
      "cell_type": "code",
      "source": [
        "pip install git+https://github.com/billybraith17/billiespnet"
      ],
      "metadata": {
        "id": "_CzJ2t3J0d45",
        "colab": {
          "base_uri": "https://localhost:8080/"
        },
        "outputId": "66fc3cd7-8fb0-492a-90ed-60afa29f6bbb"
      },
      "execution_count": null,
      "outputs": [
        {
          "output_type": "stream",
          "name": "stdout",
          "text": [
            "Looking in indexes: https://pypi.org/simple, https://us-python.pkg.dev/colab-wheels/public/simple/\n",
            "Collecting git+https://github.com/billybraith17/billiespnet\n",
            "  Cloning https://github.com/billybraith17/billiespnet to /tmp/pip-req-build-o1co0u06\n",
            "  Running command git clone -q https://github.com/billybraith17/billiespnet /tmp/pip-req-build-o1co0u06\n",
            "  Running command git submodule update --init --recursive -q\n",
            "Requirement already satisfied: setuptools>=38.5.1 in /usr/local/lib/python3.7/dist-packages (from espnet==202205) (57.4.0)\n",
            "Requirement already satisfied: packaging in /usr/local/lib/python3.7/dist-packages (from espnet==202205) (21.3)\n",
            "Collecting configargparse>=1.2.1\n",
            "  Downloading ConfigArgParse-1.5.3-py3-none-any.whl (20 kB)\n",
            "Requirement already satisfied: typeguard>=2.7.0 in /usr/local/lib/python3.7/dist-packages (from espnet==202205) (2.7.1)\n",
            "Collecting humanfriendly\n",
            "  Downloading humanfriendly-10.0-py2.py3-none-any.whl (86 kB)\n",
            "\u001b[K     |████████████████████████████████| 86 kB 4.2 MB/s \n",
            "\u001b[?25hRequirement already satisfied: scipy>=1.4.1 in /usr/local/lib/python3.7/dist-packages (from espnet==202205) (1.7.3)\n",
            "Requirement already satisfied: filelock in /usr/local/lib/python3.7/dist-packages (from espnet==202205) (3.8.0)\n",
            "Requirement already satisfied: librosa>=0.8.0 in /usr/local/lib/python3.7/dist-packages (from espnet==202205) (0.8.1)\n",
            "Collecting jamo==0.4.1\n",
            "  Downloading jamo-0.4.1-py3-none-any.whl (9.5 kB)\n",
            "Requirement already satisfied: PyYAML>=5.1.2 in /usr/local/lib/python3.7/dist-packages (from espnet==202205) (6.0)\n",
            "Requirement already satisfied: soundfile>=0.10.2 in /usr/local/lib/python3.7/dist-packages (from espnet==202205) (0.10.3.post1)\n",
            "Requirement already satisfied: h5py>=2.10.0 in /usr/local/lib/python3.7/dist-packages (from espnet==202205) (3.1.0)\n",
            "Collecting kaldiio>=2.17.0\n",
            "  Downloading kaldiio-2.17.2.tar.gz (24 kB)\n",
            "Requirement already satisfied: torch>=1.3.0 in /usr/local/lib/python3.7/dist-packages (from espnet==202205) (1.12.1+cu113)\n",
            "Collecting torch_complex\n",
            "  Downloading torch_complex-0.4.3-py3-none-any.whl (9.1 kB)\n",
            "Requirement already satisfied: nltk>=3.4.5 in /usr/local/lib/python3.7/dist-packages (from espnet==202205) (3.7)\n",
            "Requirement already satisfied: protobuf<=3.20.1 in /usr/local/lib/python3.7/dist-packages (from espnet==202205) (3.17.3)\n",
            "Collecting sentencepiece\n",
            "  Downloading sentencepiece-0.1.97-cp37-cp37m-manylinux_2_17_x86_64.manylinux2014_x86_64.whl (1.3 MB)\n",
            "\u001b[K     |████████████████████████████████| 1.3 MB 54.2 MB/s \n",
            "\u001b[?25hCollecting ctc-segmentation<1.8,>=1.6.6\n",
            "  Downloading ctc_segmentation-1.7.3.tar.gz (73 kB)\n",
            "\u001b[K     |████████████████████████████████| 73 kB 1.9 MB/s \n",
            "\u001b[?25h  Installing build dependencies ... \u001b[?25l\u001b[?25hdone\n",
            "  Getting requirements to build wheel ... \u001b[?25l\u001b[?25hdone\n",
            "    Preparing wheel metadata ... \u001b[?25l\u001b[?25hdone\n",
            "Collecting pyworld>=0.2.10\n",
            "  Downloading pyworld-0.3.0.tar.gz (212 kB)\n",
            "\u001b[K     |████████████████████████████████| 212 kB 59.5 MB/s \n",
            "\u001b[?25h  Installing build dependencies ... \u001b[?25l\u001b[?25hdone\n",
            "  Getting requirements to build wheel ... \u001b[?25l\u001b[?25hdone\n",
            "    Preparing wheel metadata ... \u001b[?25l\u001b[?25hdone\n",
            "Collecting pypinyin<=0.44.0\n",
            "  Downloading pypinyin-0.44.0-py2.py3-none-any.whl (1.3 MB)\n",
            "\u001b[K     |████████████████████████████████| 1.3 MB 44.4 MB/s \n",
            "\u001b[?25hCollecting espnet_tts_frontend\n",
            "  Downloading espnet_tts_frontend-0.0.3-py3-none-any.whl (11 kB)\n",
            "Collecting ci_sdr\n",
            "  Downloading ci_sdr-0.0.2.tar.gz (15 kB)\n",
            "Collecting pytorch_wpe\n",
            "  Downloading pytorch_wpe-0.0.1-py3-none-any.whl (8.1 kB)\n",
            "Collecting fast-bss-eval==0.1.3\n",
            "  Downloading fast_bss_eval-0.1.3.tar.gz (33 kB)\n",
            "Requirement already satisfied: numpy in /usr/local/lib/python3.7/dist-packages (from fast-bss-eval==0.1.3->espnet==202205) (1.21.6)\n",
            "Requirement already satisfied: Cython in /usr/local/lib/python3.7/dist-packages (from ctc-segmentation<1.8,>=1.6.6->espnet==202205) (0.29.32)\n",
            "Requirement already satisfied: cached-property in /usr/local/lib/python3.7/dist-packages (from h5py>=2.10.0->espnet==202205) (1.5.2)\n",
            "Requirement already satisfied: audioread>=2.0.0 in /usr/local/lib/python3.7/dist-packages (from librosa>=0.8.0->espnet==202205) (3.0.0)\n",
            "Requirement already satisfied: numba>=0.43.0 in /usr/local/lib/python3.7/dist-packages (from librosa>=0.8.0->espnet==202205) (0.56.2)\n",
            "Requirement already satisfied: resampy>=0.2.2 in /usr/local/lib/python3.7/dist-packages (from librosa>=0.8.0->espnet==202205) (0.4.0)\n",
            "Requirement already satisfied: scikit-learn!=0.19.0,>=0.14.0 in /usr/local/lib/python3.7/dist-packages (from librosa>=0.8.0->espnet==202205) (1.0.2)\n",
            "Requirement already satisfied: joblib>=0.14 in /usr/local/lib/python3.7/dist-packages (from librosa>=0.8.0->espnet==202205) (1.1.0)\n",
            "Requirement already satisfied: pooch>=1.0 in /usr/local/lib/python3.7/dist-packages (from librosa>=0.8.0->espnet==202205) (1.6.0)\n",
            "Requirement already satisfied: decorator>=3.0.0 in /usr/local/lib/python3.7/dist-packages (from librosa>=0.8.0->espnet==202205) (4.4.2)\n",
            "Requirement already satisfied: regex>=2021.8.3 in /usr/local/lib/python3.7/dist-packages (from nltk>=3.4.5->espnet==202205) (2022.6.2)\n",
            "Requirement already satisfied: tqdm in /usr/local/lib/python3.7/dist-packages (from nltk>=3.4.5->espnet==202205) (4.64.1)\n",
            "Requirement already satisfied: click in /usr/local/lib/python3.7/dist-packages (from nltk>=3.4.5->espnet==202205) (7.1.2)\n",
            "Requirement already satisfied: importlib-metadata in /usr/local/lib/python3.7/dist-packages (from numba>=0.43.0->librosa>=0.8.0->espnet==202205) (4.12.0)\n",
            "Requirement already satisfied: llvmlite<0.40,>=0.39.0dev0 in /usr/local/lib/python3.7/dist-packages (from numba>=0.43.0->librosa>=0.8.0->espnet==202205) (0.39.1)\n",
            "Requirement already satisfied: pyparsing!=3.0.5,>=2.0.2 in /usr/local/lib/python3.7/dist-packages (from packaging->espnet==202205) (3.0.9)\n",
            "Requirement already satisfied: appdirs>=1.3.0 in /usr/local/lib/python3.7/dist-packages (from pooch>=1.0->librosa>=0.8.0->espnet==202205) (1.4.4)\n",
            "Requirement already satisfied: requests>=2.19.0 in /usr/local/lib/python3.7/dist-packages (from pooch>=1.0->librosa>=0.8.0->espnet==202205) (2.23.0)\n",
            "Requirement already satisfied: six>=1.9 in /usr/local/lib/python3.7/dist-packages (from protobuf<=3.20.1->espnet==202205) (1.15.0)\n",
            "Requirement already satisfied: chardet<4,>=3.0.2 in /usr/local/lib/python3.7/dist-packages (from requests>=2.19.0->pooch>=1.0->librosa>=0.8.0->espnet==202205) (3.0.4)\n",
            "Requirement already satisfied: urllib3!=1.25.0,!=1.25.1,<1.26,>=1.21.1 in /usr/local/lib/python3.7/dist-packages (from requests>=2.19.0->pooch>=1.0->librosa>=0.8.0->espnet==202205) (1.24.3)\n",
            "Requirement already satisfied: certifi>=2017.4.17 in /usr/local/lib/python3.7/dist-packages (from requests>=2.19.0->pooch>=1.0->librosa>=0.8.0->espnet==202205) (2022.6.15)\n",
            "Requirement already satisfied: idna<3,>=2.5 in /usr/local/lib/python3.7/dist-packages (from requests>=2.19.0->pooch>=1.0->librosa>=0.8.0->espnet==202205) (2.10)\n",
            "Requirement already satisfied: threadpoolctl>=2.0.0 in /usr/local/lib/python3.7/dist-packages (from scikit-learn!=0.19.0,>=0.14.0->librosa>=0.8.0->espnet==202205) (3.1.0)\n",
            "Requirement already satisfied: cffi>=1.0 in /usr/local/lib/python3.7/dist-packages (from soundfile>=0.10.2->espnet==202205) (1.15.1)\n",
            "Requirement already satisfied: pycparser in /usr/local/lib/python3.7/dist-packages (from cffi>=1.0->soundfile>=0.10.2->espnet==202205) (2.21)\n",
            "Requirement already satisfied: typing-extensions in /usr/local/lib/python3.7/dist-packages (from torch>=1.3.0->espnet==202205) (4.1.1)\n",
            "Collecting einops\n",
            "  Downloading einops-0.4.1-py3-none-any.whl (28 kB)\n",
            "Collecting jaconv\n",
            "  Downloading jaconv-0.3.tar.gz (15 kB)\n",
            "Collecting unidecode>=1.0.22\n",
            "  Downloading Unidecode-1.3.4-py3-none-any.whl (235 kB)\n",
            "\u001b[K     |████████████████████████████████| 235 kB 57.0 MB/s \n",
            "\u001b[?25hRequirement already satisfied: inflect>=1.0.0 in /usr/local/lib/python3.7/dist-packages (from espnet_tts_frontend->espnet==202205) (2.1.0)\n",
            "Collecting g2p-en\n",
            "  Downloading g2p_en-2.1.0-py3-none-any.whl (3.1 MB)\n",
            "\u001b[K     |████████████████████████████████| 3.1 MB 53.8 MB/s \n",
            "\u001b[?25hCollecting distance>=0.1.3\n",
            "  Downloading Distance-0.1.3.tar.gz (180 kB)\n",
            "\u001b[K     |████████████████████████████████| 180 kB 63.6 MB/s \n",
            "\u001b[?25hRequirement already satisfied: zipp>=0.5 in /usr/local/lib/python3.7/dist-packages (from importlib-metadata->numba>=0.43.0->librosa>=0.8.0->espnet==202205) (3.8.1)\n",
            "Building wheels for collected packages: espnet, fast-bss-eval, ctc-segmentation, kaldiio, pyworld, ci-sdr, distance, jaconv\n",
            "  Building wheel for espnet (setup.py) ... \u001b[?25l\u001b[?25hdone\n",
            "  Created wheel for espnet: filename=espnet-202205-py3-none-any.whl size=1089462 sha256=1696baacacd20dae5ce211e1a940a91d57ba090fdafbfc7b57a3940dadd32b34\n",
            "  Stored in directory: /tmp/pip-ephem-wheel-cache-6mqecl0d/wheels/da/3c/cd/c9ce49d39e91d2dd024f37100d25b8baa41d1bdac6c844a86c\n",
            "  Building wheel for fast-bss-eval (setup.py) ... \u001b[?25l\u001b[?25hdone\n",
            "  Created wheel for fast-bss-eval: filename=fast_bss_eval-0.1.3-py3-none-any.whl size=44261 sha256=19fa196d4b73b83924272fec6775cf8573e1ddb076991c4bf7ff7a62189b944d\n",
            "  Stored in directory: /root/.cache/pip/wheels/45/38/82/6507c8f1765284b45fac38f334621435b633499f27c813e3f1\n",
            "  Building wheel for ctc-segmentation (PEP 517) ... \u001b[?25l\u001b[?25hdone\n",
            "  Created wheel for ctc-segmentation: filename=ctc_segmentation-1.7.3-cp37-cp37m-linux_x86_64.whl size=116122 sha256=c7cd655402c051185c5725b8feb97a21c9455777d2e1f2c5d88eead32bb7cab2\n",
            "  Stored in directory: /root/.cache/pip/wheels/ea/75/dd/20a877c8ca5efbf5f19d9ff1cfd5c7e0934f55b70aec99f795\n",
            "  Building wheel for kaldiio (setup.py) ... \u001b[?25l\u001b[?25hdone\n",
            "  Created wheel for kaldiio: filename=kaldiio-2.17.2-py3-none-any.whl size=24471 sha256=eff7f4db6542255aadaf612c99ff9df105485a9c89bd1f1f8fb6ed6f1bed0d1b\n",
            "  Stored in directory: /root/.cache/pip/wheels/04/07/e8/45641287c59bf6ce41e22259f8680b521c31e6306cb88392ac\n",
            "  Building wheel for pyworld (PEP 517) ... \u001b[?25l\u001b[?25hdone\n",
            "  Created wheel for pyworld: filename=pyworld-0.3.0-cp37-cp37m-linux_x86_64.whl size=609490 sha256=38b5c936ce9f01d9bc03e5b36047499a61152cd703d367c42b6f67615ef9af7b\n",
            "  Stored in directory: /root/.cache/pip/wheels/e7/7c/11/c775fffa0e1e7b05a6604b4323408a77f80fb4ab304d96b5c6\n",
            "  Building wheel for ci-sdr (setup.py) ... \u001b[?25l\u001b[?25hdone\n",
            "  Created wheel for ci-sdr: filename=ci_sdr-0.0.2-py3-none-any.whl size=15277 sha256=8f34c27e3378c3ae8057cc991441fd6041b0d51756c4f34165400b42b755ca18\n",
            "  Stored in directory: /root/.cache/pip/wheels/b4/ca/94/53aa51e44584908b10dcc98dc57628cabe7a0ed324746eea2e\n",
            "  Building wheel for distance (setup.py) ... \u001b[?25l\u001b[?25hdone\n",
            "  Created wheel for distance: filename=Distance-0.1.3-py3-none-any.whl size=16276 sha256=8be948519e3940ebb26b4b42a47f89cc0bcb9fc9fe3ad016f9fb0ccf0c81b873\n",
            "  Stored in directory: /root/.cache/pip/wheels/b2/10/1b/96fca621a1be378e2fe104cfb0d160bb6cdf3d04a3d35266cc\n",
            "  Building wheel for jaconv (setup.py) ... \u001b[?25l\u001b[?25hdone\n",
            "  Created wheel for jaconv: filename=jaconv-0.3-py3-none-any.whl size=15564 sha256=83da8978466410f6f322d68b76460991dd27eb86f213735b78008804ae060a49\n",
            "  Stored in directory: /root/.cache/pip/wheels/8f/4f/c2/a2a3b14d0e94f855f4aa8887bf0267bee9ecfb8e62a9ee2d92\n",
            "Successfully built espnet fast-bss-eval ctc-segmentation kaldiio pyworld ci-sdr distance jaconv\n",
            "Installing collected packages: distance, unidecode, pypinyin, jaconv, g2p-en, einops, torch-complex, sentencepiece, pyworld, pytorch-wpe, kaldiio, jamo, humanfriendly, fast-bss-eval, espnet-tts-frontend, ctc-segmentation, configargparse, ci-sdr, espnet\n",
            "Successfully installed ci-sdr-0.0.2 configargparse-1.5.3 ctc-segmentation-1.7.3 distance-0.1.3 einops-0.4.1 espnet-202205 espnet-tts-frontend-0.0.3 fast-bss-eval-0.1.3 g2p-en-2.1.0 humanfriendly-10.0 jaconv-0.3 jamo-0.4.1 kaldiio-2.17.2 pypinyin-0.44.0 pytorch-wpe-0.0.1 pyworld-0.3.0 sentencepiece-0.1.97 torch-complex-0.4.3 unidecode-1.3.4\n"
          ]
        }
      ]
    },
    {
      "cell_type": "code",
      "execution_count": null,
      "metadata": {
        "id": "RvNwM0Ecg4ac",
        "colab": {
          "base_uri": "https://localhost:8080/"
        },
        "outputId": "59c6e39d-6498-4ac9-d3c2-9feb5d5a3fa8"
      },
      "outputs": [
        {
          "output_type": "stream",
          "name": "stdout",
          "text": [
            "Looking in indexes: https://pypi.org/simple, https://us-python.pkg.dev/colab-wheels/public/simple/\n",
            "Requirement already satisfied: torch in /usr/local/lib/python3.7/dist-packages (1.12.1+cu113)\n",
            "Requirement already satisfied: espnet in /usr/local/lib/python3.7/dist-packages (202205)\n",
            "Collecting espnet_model_zoo\n",
            "  Downloading espnet_model_zoo-0.1.7-py3-none-any.whl (19 kB)\n",
            "Collecting parallel_wavegan==0.5.4\n",
            "  Downloading parallel_wavegan-0.5.4.tar.gz (68 kB)\n",
            "\u001b[K     |████████████████████████████████| 68 kB 3.3 MB/s \n",
            "\u001b[?25hRequirement already satisfied: setuptools>=38.5.1 in /usr/local/lib/python3.7/dist-packages (from parallel_wavegan==0.5.4) (57.4.0)\n",
            "Requirement already satisfied: librosa>=0.8.0 in /usr/local/lib/python3.7/dist-packages (from parallel_wavegan==0.5.4) (0.8.1)\n",
            "Requirement already satisfied: soundfile>=0.10.2 in /usr/local/lib/python3.7/dist-packages (from parallel_wavegan==0.5.4) (0.10.3.post1)\n",
            "Collecting tensorboardX>=1.8\n",
            "  Downloading tensorboardX-2.5.1-py2.py3-none-any.whl (125 kB)\n",
            "\u001b[K     |████████████████████████████████| 125 kB 12.0 MB/s \n",
            "\u001b[?25hRequirement already satisfied: matplotlib>=3.1.0 in /usr/local/lib/python3.7/dist-packages (from parallel_wavegan==0.5.4) (3.2.2)\n",
            "Requirement already satisfied: PyYAML>=3.12 in /usr/local/lib/python3.7/dist-packages (from parallel_wavegan==0.5.4) (6.0)\n",
            "Requirement already satisfied: tqdm>=4.26.1 in /usr/local/lib/python3.7/dist-packages (from parallel_wavegan==0.5.4) (4.64.1)\n",
            "Requirement already satisfied: kaldiio>=2.14.1 in /usr/local/lib/python3.7/dist-packages (from parallel_wavegan==0.5.4) (2.17.2)\n",
            "Requirement already satisfied: h5py>=2.9.0 in /usr/local/lib/python3.7/dist-packages (from parallel_wavegan==0.5.4) (3.1.0)\n",
            "Collecting yq>=2.10.0\n",
            "  Downloading yq-3.1.0-py3-none-any.whl (17 kB)\n",
            "Requirement already satisfied: gdown in /usr/local/lib/python3.7/dist-packages (from parallel_wavegan==0.5.4) (4.4.0)\n",
            "Requirement already satisfied: filelock in /usr/local/lib/python3.7/dist-packages (from parallel_wavegan==0.5.4) (3.8.0)\n",
            "Requirement already satisfied: typing-extensions in /usr/local/lib/python3.7/dist-packages (from torch) (4.1.1)\n",
            "Requirement already satisfied: numpy>=1.14.5 in /usr/local/lib/python3.7/dist-packages (from h5py>=2.9.0->parallel_wavegan==0.5.4) (1.21.6)\n",
            "Requirement already satisfied: cached-property in /usr/local/lib/python3.7/dist-packages (from h5py>=2.9.0->parallel_wavegan==0.5.4) (1.5.2)\n",
            "Requirement already satisfied: pooch>=1.0 in /usr/local/lib/python3.7/dist-packages (from librosa>=0.8.0->parallel_wavegan==0.5.4) (1.6.0)\n",
            "Requirement already satisfied: packaging>=20.0 in /usr/local/lib/python3.7/dist-packages (from librosa>=0.8.0->parallel_wavegan==0.5.4) (21.3)\n",
            "Requirement already satisfied: scikit-learn!=0.19.0,>=0.14.0 in /usr/local/lib/python3.7/dist-packages (from librosa>=0.8.0->parallel_wavegan==0.5.4) (1.0.2)\n",
            "Requirement already satisfied: scipy>=1.0.0 in /usr/local/lib/python3.7/dist-packages (from librosa>=0.8.0->parallel_wavegan==0.5.4) (1.7.3)\n",
            "Requirement already satisfied: resampy>=0.2.2 in /usr/local/lib/python3.7/dist-packages (from librosa>=0.8.0->parallel_wavegan==0.5.4) (0.4.0)\n",
            "Requirement already satisfied: decorator>=3.0.0 in /usr/local/lib/python3.7/dist-packages (from librosa>=0.8.0->parallel_wavegan==0.5.4) (4.4.2)\n",
            "Requirement already satisfied: numba>=0.43.0 in /usr/local/lib/python3.7/dist-packages (from librosa>=0.8.0->parallel_wavegan==0.5.4) (0.56.2)\n",
            "Requirement already satisfied: joblib>=0.14 in /usr/local/lib/python3.7/dist-packages (from librosa>=0.8.0->parallel_wavegan==0.5.4) (1.1.0)\n",
            "Requirement already satisfied: audioread>=2.0.0 in /usr/local/lib/python3.7/dist-packages (from librosa>=0.8.0->parallel_wavegan==0.5.4) (3.0.0)\n",
            "Requirement already satisfied: cycler>=0.10 in /usr/local/lib/python3.7/dist-packages (from matplotlib>=3.1.0->parallel_wavegan==0.5.4) (0.11.0)\n",
            "Requirement already satisfied: python-dateutil>=2.1 in /usr/local/lib/python3.7/dist-packages (from matplotlib>=3.1.0->parallel_wavegan==0.5.4) (2.8.2)\n",
            "Requirement already satisfied: kiwisolver>=1.0.1 in /usr/local/lib/python3.7/dist-packages (from matplotlib>=3.1.0->parallel_wavegan==0.5.4) (1.4.4)\n",
            "Requirement already satisfied: pyparsing!=2.0.4,!=2.1.2,!=2.1.6,>=2.0.1 in /usr/local/lib/python3.7/dist-packages (from matplotlib>=3.1.0->parallel_wavegan==0.5.4) (3.0.9)\n",
            "Requirement already satisfied: importlib-metadata in /usr/local/lib/python3.7/dist-packages (from numba>=0.43.0->librosa>=0.8.0->parallel_wavegan==0.5.4) (4.12.0)\n",
            "Requirement already satisfied: llvmlite<0.40,>=0.39.0dev0 in /usr/local/lib/python3.7/dist-packages (from numba>=0.43.0->librosa>=0.8.0->parallel_wavegan==0.5.4) (0.39.1)\n",
            "Requirement already satisfied: appdirs>=1.3.0 in /usr/local/lib/python3.7/dist-packages (from pooch>=1.0->librosa>=0.8.0->parallel_wavegan==0.5.4) (1.4.4)\n",
            "Requirement already satisfied: requests>=2.19.0 in /usr/local/lib/python3.7/dist-packages (from pooch>=1.0->librosa>=0.8.0->parallel_wavegan==0.5.4) (2.23.0)\n",
            "Requirement already satisfied: six>=1.5 in /usr/local/lib/python3.7/dist-packages (from python-dateutil>=2.1->matplotlib>=3.1.0->parallel_wavegan==0.5.4) (1.15.0)\n",
            "Requirement already satisfied: urllib3!=1.25.0,!=1.25.1,<1.26,>=1.21.1 in /usr/local/lib/python3.7/dist-packages (from requests>=2.19.0->pooch>=1.0->librosa>=0.8.0->parallel_wavegan==0.5.4) (1.24.3)\n",
            "Requirement already satisfied: certifi>=2017.4.17 in /usr/local/lib/python3.7/dist-packages (from requests>=2.19.0->pooch>=1.0->librosa>=0.8.0->parallel_wavegan==0.5.4) (2022.6.15)\n",
            "Requirement already satisfied: idna<3,>=2.5 in /usr/local/lib/python3.7/dist-packages (from requests>=2.19.0->pooch>=1.0->librosa>=0.8.0->parallel_wavegan==0.5.4) (2.10)\n",
            "Requirement already satisfied: chardet<4,>=3.0.2 in /usr/local/lib/python3.7/dist-packages (from requests>=2.19.0->pooch>=1.0->librosa>=0.8.0->parallel_wavegan==0.5.4) (3.0.4)\n",
            "Requirement already satisfied: threadpoolctl>=2.0.0 in /usr/local/lib/python3.7/dist-packages (from scikit-learn!=0.19.0,>=0.14.0->librosa>=0.8.0->parallel_wavegan==0.5.4) (3.1.0)\n",
            "Requirement already satisfied: cffi>=1.0 in /usr/local/lib/python3.7/dist-packages (from soundfile>=0.10.2->parallel_wavegan==0.5.4) (1.15.1)\n",
            "Requirement already satisfied: pycparser in /usr/local/lib/python3.7/dist-packages (from cffi>=1.0->soundfile>=0.10.2->parallel_wavegan==0.5.4) (2.21)\n",
            "Requirement already satisfied: protobuf<=3.20.1,>=3.8.0 in /usr/local/lib/python3.7/dist-packages (from tensorboardX>=1.8->parallel_wavegan==0.5.4) (3.17.3)\n",
            "Collecting xmltodict>=0.11.0\n",
            "  Downloading xmltodict-0.13.0-py2.py3-none-any.whl (10.0 kB)\n",
            "Requirement already satisfied: toml>=0.10.0 in /usr/local/lib/python3.7/dist-packages (from yq>=2.10.0->parallel_wavegan==0.5.4) (0.10.2)\n",
            "Collecting argcomplete>=1.8.1\n",
            "  Downloading argcomplete-2.0.0-py2.py3-none-any.whl (37 kB)\n",
            "Requirement already satisfied: zipp>=0.5 in /usr/local/lib/python3.7/dist-packages (from importlib-metadata->numba>=0.43.0->librosa>=0.8.0->parallel_wavegan==0.5.4) (3.8.1)\n",
            "Requirement already satisfied: pytorch-wpe in /usr/local/lib/python3.7/dist-packages (from espnet) (0.0.1)\n",
            "Requirement already satisfied: typeguard>=2.7.0 in /usr/local/lib/python3.7/dist-packages (from espnet) (2.7.1)\n",
            "Requirement already satisfied: torch-complex in /usr/local/lib/python3.7/dist-packages (from espnet) (0.4.3)\n",
            "Requirement already satisfied: configargparse>=1.2.1 in /usr/local/lib/python3.7/dist-packages (from espnet) (1.5.3)\n",
            "Requirement already satisfied: pypinyin<=0.44.0 in /usr/local/lib/python3.7/dist-packages (from espnet) (0.44.0)\n",
            "Requirement already satisfied: ctc-segmentation<1.8,>=1.6.6 in /usr/local/lib/python3.7/dist-packages (from espnet) (1.7.3)\n",
            "Requirement already satisfied: nltk>=3.4.5 in /usr/local/lib/python3.7/dist-packages (from espnet) (3.7)\n",
            "Requirement already satisfied: humanfriendly in /usr/local/lib/python3.7/dist-packages (from espnet) (10.0)\n",
            "Requirement already satisfied: espnet-tts-frontend in /usr/local/lib/python3.7/dist-packages (from espnet) (0.0.3)\n",
            "Requirement already satisfied: ci-sdr in /usr/local/lib/python3.7/dist-packages (from espnet) (0.0.2)\n",
            "Requirement already satisfied: fast-bss-eval==0.1.3 in /usr/local/lib/python3.7/dist-packages (from espnet) (0.1.3)\n",
            "Requirement already satisfied: pyworld>=0.2.10 in /usr/local/lib/python3.7/dist-packages (from espnet) (0.3.0)\n",
            "Requirement already satisfied: jamo==0.4.1 in /usr/local/lib/python3.7/dist-packages (from espnet) (0.4.1)\n",
            "Requirement already satisfied: sentencepiece in /usr/local/lib/python3.7/dist-packages (from espnet) (0.1.97)\n",
            "Requirement already satisfied: Cython in /usr/local/lib/python3.7/dist-packages (from ctc-segmentation<1.8,>=1.6.6->espnet) (0.29.32)\n",
            "Requirement already satisfied: click in /usr/local/lib/python3.7/dist-packages (from nltk>=3.4.5->espnet) (7.1.2)\n",
            "Requirement already satisfied: regex>=2021.8.3 in /usr/local/lib/python3.7/dist-packages (from nltk>=3.4.5->espnet) (2022.6.2)\n",
            "Collecting huggingface-hub\n",
            "  Downloading huggingface_hub-0.9.1-py3-none-any.whl (120 kB)\n",
            "\u001b[K     |████████████████████████████████| 120 kB 50.4 MB/s \n",
            "\u001b[?25hRequirement already satisfied: pandas in /usr/local/lib/python3.7/dist-packages (from espnet_model_zoo) (1.3.5)\n",
            "Requirement already satisfied: einops in /usr/local/lib/python3.7/dist-packages (from ci-sdr->espnet) (0.4.1)\n",
            "Requirement already satisfied: jaconv in /usr/local/lib/python3.7/dist-packages (from espnet-tts-frontend->espnet) (0.3)\n",
            "Requirement already satisfied: g2p-en in /usr/local/lib/python3.7/dist-packages (from espnet-tts-frontend->espnet) (2.1.0)\n",
            "Requirement already satisfied: unidecode>=1.0.22 in /usr/local/lib/python3.7/dist-packages (from espnet-tts-frontend->espnet) (1.3.4)\n",
            "Requirement already satisfied: inflect>=1.0.0 in /usr/local/lib/python3.7/dist-packages (from espnet-tts-frontend->espnet) (2.1.0)\n",
            "Requirement already satisfied: distance>=0.1.3 in /usr/local/lib/python3.7/dist-packages (from g2p-en->espnet-tts-frontend->espnet) (0.1.3)\n",
            "Requirement already satisfied: beautifulsoup4 in /usr/local/lib/python3.7/dist-packages (from gdown->parallel_wavegan==0.5.4) (4.6.3)\n",
            "Requirement already satisfied: pytz>=2017.3 in /usr/local/lib/python3.7/dist-packages (from pandas->espnet_model_zoo) (2022.2.1)\n",
            "Requirement already satisfied: PySocks!=1.5.7,>=1.5.6 in /usr/local/lib/python3.7/dist-packages (from requests>=2.19.0->pooch>=1.0->librosa>=0.8.0->parallel_wavegan==0.5.4) (1.7.1)\n",
            "Building wheels for collected packages: parallel-wavegan\n",
            "  Building wheel for parallel-wavegan (setup.py) ... \u001b[?25l\u001b[?25hdone\n",
            "  Created wheel for parallel-wavegan: filename=parallel_wavegan-0.5.4-py3-none-any.whl size=71010 sha256=d5ccec633e05ebbd1bdd8e4d9e6edccd700b72a314b5a1b5c71f76fd16ab5e9f\n",
            "  Stored in directory: /root/.cache/pip/wheels/5e/76/4d/8d938995675ca8cc9352214c9f23c57a505fe3bcd46ce3b138\n",
            "Successfully built parallel-wavegan\n",
            "Installing collected packages: xmltodict, argcomplete, yq, tensorboardX, huggingface-hub, parallel-wavegan, espnet-model-zoo\n",
            "Successfully installed argcomplete-2.0.0 espnet-model-zoo-0.1.7 huggingface-hub-0.9.1 parallel-wavegan-0.5.4 tensorboardX-2.5.1 xmltodict-0.13.0 yq-3.1.0\n"
          ]
        }
      ],
      "source": [
        "pip install torch espnet espnet_model_zoo parallel_wavegan==0.5.4"
      ]
    },
    {
      "cell_type": "code",
      "source": [
        "%%bash\n",
        "!(stat -t /usr/local/lib/*/dist-packages/google/colab > /dev/null 2>&1) && exit\n",
        "pip install ninja 2>> install.log\n",
        "git clone https://github.com/SIDN-IAP/global-model-repr.git tutorial_code 2>> install.log\n",
        "# git clone https://github.com/billybraith17/global-model-repr.git tutorial_code 2>> install.log"
      ],
      "metadata": {
        "id": "VxIZkC-7keAd",
        "colab": {
          "base_uri": "https://localhost:8080/"
        },
        "outputId": "4bc713c9-04ca-49b7-991c-2bfa235eeeb9"
      },
      "execution_count": null,
      "outputs": [
        {
          "output_type": "stream",
          "name": "stdout",
          "text": [
            "Looking in indexes: https://pypi.org/simple, https://us-python.pkg.dev/colab-wheels/public/simple/\n",
            "Collecting ninja\n",
            "  Downloading ninja-1.10.2.3-py2.py3-none-manylinux_2_5_x86_64.manylinux1_x86_64.whl (108 kB)\n",
            "Installing collected packages: ninja\n",
            "Successfully installed ninja-1.10.2.3\n"
          ]
        }
      ]
    },
    {
      "cell_type": "code",
      "source": [
        "try: # set up path\n",
        "    import google.colab, sys, torch\n",
        "    sys.path.append('/content/tutorial_code')\n",
        "    if not torch.cuda.is_available():\n",
        "        print(\"Change runtime type to include a GPU.\")\n",
        "except:\n",
        "    pass"
      ],
      "metadata": {
        "id": "ZzQNB5nikhAC"
      },
      "execution_count": null,
      "outputs": []
    },
    {
      "cell_type": "code",
      "source": [
        "%matplotlib inline\n",
        "import matplotlib.pyplot as plt\n",
        "import matplotlib as mpl"
      ],
      "metadata": {
        "id": "mhOKz_lMOAmD"
      },
      "execution_count": null,
      "outputs": []
    },
    {
      "cell_type": "code",
      "source": [
        "import torch\n",
        "\n",
        "device = torch.device('cuda' if torch.cuda.is_available() else 'cpu')\n",
        "print('Running pytorch', torch.__version__, 'using', device.type)"
      ],
      "metadata": {
        "id": "4V4F8d3OOK6g",
        "colab": {
          "base_uri": "https://localhost:8080/"
        },
        "outputId": "1d2ab12b-ba01-44da-f68f-1380043e7ca9"
      },
      "execution_count": null,
      "outputs": [
        {
          "output_type": "stream",
          "name": "stdout",
          "text": [
            "Running pytorch 1.12.1+cu113 using cuda\n"
          ]
        }
      ]
    },
    {
      "cell_type": "code",
      "source": [
        "import torchvision\n",
        "import torch.hub\n",
        "\n",
        "# using the global-model-repr package\n",
        "from netdissect import nethook, proggan"
      ],
      "metadata": {
        "id": "7EfUeMRoOO1N"
      },
      "execution_count": null,
      "outputs": []
    },
    {
      "cell_type": "code",
      "source": [
        "# def from_pretrained2(\n",
        "#     model_tag: Optional[str] = None,\n",
        "#     vocoder_tag: Optional[str] = None,\n",
        "#     **kwargs: Optional[Any],\n",
        "# ):\n",
        "\"\"\"Build Text2Speech instance from the pretrained model.\n",
        "Args:\n",
        "    model_tag (Optional[str]): Model tag of the pretrained models.\n",
        "        Currently, the tags of espnet_model_zoo are supported.\n",
        "    vocoder_tag (Optional[str]): Vocoder tag of the pretrained vocoders.\n",
        "        Currently, the tags of parallel_wavegan are supported, which should\n",
        "        start with the prefix \"parallel_wavegan/\".\n",
        "Returns:\n",
        "    Text2Speech: Text2Speech instance.\n",
        "\"\"\"\n",
        "\n",
        "from espnet2.bin.tts_inference import Text2Speech\n",
        "\n",
        "model_tag = 'kan-bayashi/vctk_xvector_conformer_fastspeech2' #@param [\"kan-bayashi/vctk_gst_tacotron2\", \"kan-bayashi/vctk_gst_transformer\", \"kan-bayashi/vctk_xvector_tacotron2\", \"kan-bayashi/vctk_xvector_transformer\", \"kan-bayashi/vctk_xvector_conformer_fastspeech2\", \"kan-bayashi/vctk_gst+xvector_tacotron2\", \"kan-bayashi/vctk_gst+xvector_transformer\", \"kan-bayashi/vctk_gst+xvector_conformer_fastspeech2\", \"kan-bayashi/vctk_multi_spk_vits\", \"kan-bayashi/vctk_full_band_multi_spk_vits\", \"kan-bayashi/libritts_xvector_transformer\", \"kan-bayashi/libritts_xvector_conformer_fastspeech2\", \"kan-bayashi/libritts_gst+xvector_transformer\", \"kan-bayashi/libritts_gst+xvector_conformer_fastspeech2\", \"kan-bayashi/libritts_xvector_vits\"] {type:\"string\"}\n",
        "vocoder_tag = \"parallel_wavegan/vctk_hifigan.v1\"  #@param [\"none\", \"parallel_wavegan/vctk_parallel_wavegan.v1.long\", \"parallel_wavegan/vctk_multi_band_melgan.v2\", \"parallel_wavegan/vctk_style_melgan.v1\", \"parallel_wavegan/vctk_hifigan.v1\", \"parallel_wavegan/libritts_parallel_wavegan.v1.long\", \"parallel_wavegan/libritts_multi_band_melgan.v2\", \"parallel_wavegan/libritts_hifigan.v1\", \"parallel_wavegan/libritts_style_melgan.v1\"] {type:\"string\"}\n",
        "kwargs = {\n",
        "    # Only for Tacotron 2 & Transformer\n",
        "    \"threshold\" : 0.5,\n",
        "    # Only for Tacotron 2\n",
        "    \"minlenratio\" : 0.0,\n",
        "    \"maxlenratio\" : 10.0,\n",
        "    \"use_att_constraint\" : False,\n",
        "    \"backward_window\" : 1,\n",
        "    \"forward_window\" : 3,\n",
        "    # Only for FastSpeech & FastSpeech2 & VITS\n",
        "    \"speed_control_alpha\" : 1.0,\n",
        "    # Only for VITS\n",
        "    \"noise_scale\" : 0.333,\n",
        "    \"noise_scale_dur\" : 0.333,\n",
        "}\n",
        "\n",
        "# print(kwargs[\"noise_scale\"])\n",
        "# model_tag: Optional[str] = None\n",
        "# vocoder_tag: Optional[str] = None\n",
        "# **kwargs: Optional[Any]\n",
        "\n",
        "\n",
        "if model_tag is not None:\n",
        "    try:\n",
        "        from espnet_model_zoo.downloader import ModelDownloader\n",
        "\n",
        "    except ImportError:\n",
        "        logging.error(\n",
        "            \"`espnet_model_zoo` is not installed. \"\n",
        "            \"Please install via `pip install -U espnet_model_zoo`.\"\n",
        "        )\n",
        "        raise\n",
        "    d = ModelDownloader()\n",
        "    kwargs.update(**d.download_and_unpack(model_tag))\n",
        "\n",
        "if vocoder_tag is not None:\n",
        "    if vocoder_tag.startswith(\"parallel_wavegan/\"):\n",
        "        try:\n",
        "            from parallel_wavegan.utils import download_pretrained_model\n",
        "\n",
        "        except ImportError:\n",
        "            logging.error(\n",
        "                \"`parallel_wavegan` is not installed. \"\n",
        "                \"Please install via `pip install -U parallel_wavegan`.\"\n",
        "            )\n",
        "            raise\n",
        "\n",
        "        from parallel_wavegan import __version__\n",
        "        from packaging.version import parse as V\n",
        "        from pathlib import Path\n",
        "\n",
        "        # NOTE(kan-bayashi): Filelock download is supported from 0.5.2\n",
        "        assert V(__version__) > V(\"0.5.1\"), (\n",
        "            \"Please install the latest parallel_wavegan \"\n",
        "            \"via `pip install -U parallel_wavegan`.\"\n",
        "        )\n",
        "        vocoder_tag = vocoder_tag.replace(\"parallel_wavegan/\", \"\")\n",
        "        vocoder_file = download_pretrained_model(vocoder_tag)\n",
        "        vocoder_config = Path(vocoder_file).parent / \"config.yml\"\n",
        "        kwargs.update(vocoder_config=vocoder_config, vocoder_file=vocoder_file)\n",
        "\n",
        "    else:\n",
        "        raise ValueError(f\"{vocoder_tag} is unsupported format.\")\n",
        "\n",
        "# __init__\n",
        "text2speech = Text2Speech(**kwargs)"
      ],
      "metadata": {
        "id": "46CeL7EIlN7C",
        "colab": {
          "base_uri": "https://localhost:8080/"
        },
        "outputId": "d4d020e3-0dd8-4b4b-d123-4155c2f9fad2"
      },
      "execution_count": null,
      "outputs": [
        {
          "output_type": "stream",
          "name": "stderr",
          "text": [
            "[nltk_data] Downloading package averaged_perceptron_tagger to\n",
            "[nltk_data]     /root/nltk_data...\n",
            "[nltk_data]   Unzipping taggers/averaged_perceptron_tagger.zip.\n",
            "[nltk_data] Downloading package cmudict to /root/nltk_data...\n",
            "[nltk_data]   Unzipping corpora/cmudict.zip.\n",
            "https://zenodo.org/record/4394602/files/tts_train_xvector_conformer_fastspeech2_transformer_teacher_raw_phn_tacotron_g2p_en_no_space_train.loss.ave.zip?download=1: 100%|██████████| 270M/270M [00:32<00:00, 8.69MB/s]\n",
            "Downloading...\n",
            "From: https://drive.google.com/uc?id=1oVOC4Vf0DYLdDp4r7GChfgj7Xh5xd0ex\n",
            "To: /root/.cache/parallel_wavegan/vctk_hifigan.v1.tar.gz\n",
            "100%|██████████| 916M/916M [00:17<00:00, 52.1MB/s]\n",
            "WARNING:root:Fallback to conformer_pos_enc_layer_type = 'legacy_rel_pos' due to the compatibility. If you want to use the new one, please use conformer_pos_enc_layer_type = 'latest'.\n",
            "WARNING:root:Fallback to conformer_self_attn_layer_type = 'legacy_rel_selfattn' due to the compatibility. If you want to use the new one, please use conformer_pos_enc_layer_type = 'latest'.\n"
          ]
        }
      ]
    },
    {
      "cell_type": "code",
      "source": [
        "# Wrap the vocoder\n",
        "from netdissect import nethook\n",
        "layer = 'vocoder.blocks.7.convs1.2.1'    #@param [\"vocoder.last_conv_layers.0\", \"vocoder.last_conv_layers.1\", \"vocoder.last_conv_layers.2\", \"vocoder.last_conv_layers.3\", \"vocoder.conv_layers.6.conv\", \"vocoder.conv_layers.6.conv1x1_aux\", \"vocoder.conv_layers.6.conv1x1_out\", \"vocoder.conv_layers.6.conv1x1_skip\", \"vocoder.first_conv\", \"vocoder.upsample_net.conv_in\", \"vocoder.upsample_net.upsample.up_layers.6\", \"vocoder.upsample_net.upsample.up_layers.7\", \"vocoder.melgan.0\", \"vocoder.melgan.19.stack.4\", \"vocoder.melgan.23\", \"vocoder.pqmf.pad_fn\", \"vocoder.blocks.7.upsample\", \"vocoder.output_conv.1\", \"vocoder.blocks.11.convs2.0.1\", \"vocoder.output_conv.2\", \"vocoder.blocks.0.convs1.1.1\", \"vocoder.blocks.1.convs1.1.1\", \"vocoder.blocks.4.convs1.1.1\", \"vocoder.blocks.7.convs1.1.1\", \"vocoder.blocks.7.convs1.2.1\", \"vocoder.blocks.8.convs1.2.1\", \"vocoder.blocks.9.convs1.1.1\", \"vocoder.blocks.9.convs2.1.1\",  \"vocoder.blocks.10.convs1.1.1\",  \"vocoder.blocks.10.convs2.1.1\", \"vocoder.blocks.11.convs2.1.1\", \"vocoder.blocks.0.convs1.1.0\", \"vocoder.blocks.1.convs1.1.0\", \"vocoder.blocks.4.convs1.1.0\", \"vocoder.blocks.7.convs1.1.0\", \"vocoder.blocks.7.convs1.2.0\", \"vocoder.blocks.8.convs1.2.0\", \"vocoder.blocks.9.convs1.1.0\", \"vocoder.blocks.9.convs2.1.0\",  \"vocoder.blocks.10.convs1.1.0\",  \"vocoder.blocks.10.convs2.1.0\", \"vocoder.blocks.11.convs2.1.0\"] {type:\"string\"}\n",
        "\n",
        "\n",
        "# Don't re-wrap it, if it's already wrapped (e.g., if you press enter twice)\n",
        "if not isinstance(text2speech.vocoder, nethook.InstrumentedModel):\n",
        "    text2speech.vocoder = nethook.InstrumentedModel(text2speech.vocoder)\n",
        "text2speech.vocoder.retain_layer(layer)"
      ],
      "metadata": {
        "id": "NsnfVGDxxeN7"
      },
      "execution_count": null,
      "outputs": []
    },
    {
      "cell_type": "code",
      "source": [
        "text2speech.vocoder\n",
        "\n",
        "# text2speech.vocoder.retain_layer('vocoder')"
      ],
      "metadata": {
        "id": "W_1FJ68l9M7Q",
        "colab": {
          "base_uri": "https://localhost:8080/"
        },
        "outputId": "6296651d-986d-41b7-9e74-2269bc9de5d0"
      },
      "execution_count": null,
      "outputs": [
        {
          "output_type": "execute_result",
          "data": {
            "text/plain": [
              "InstrumentedModel(\n",
              "  (model): ParallelWaveGANPretrainedVocoder(\n",
              "    (vocoder): HiFiGANGenerator(\n",
              "      (input_conv): Conv1d(80, 512, kernel_size=(7,), stride=(1,), padding=(3,))\n",
              "      (upsamples): ModuleList(\n",
              "        (0): Sequential(\n",
              "          (0): LeakyReLU(negative_slope=0.1)\n",
              "          (1): ConvTranspose1d(512, 256, kernel_size=(10,), stride=(5,), padding=(3,), output_padding=(1,))\n",
              "        )\n",
              "        (1): Sequential(\n",
              "          (0): LeakyReLU(negative_slope=0.1)\n",
              "          (1): ConvTranspose1d(256, 128, kernel_size=(10,), stride=(5,), padding=(3,), output_padding=(1,))\n",
              "        )\n",
              "        (2): Sequential(\n",
              "          (0): LeakyReLU(negative_slope=0.1)\n",
              "          (1): ConvTranspose1d(128, 64, kernel_size=(8,), stride=(4,), padding=(2,))\n",
              "        )\n",
              "        (3): Sequential(\n",
              "          (0): LeakyReLU(negative_slope=0.1)\n",
              "          (1): ConvTranspose1d(64, 32, kernel_size=(6,), stride=(3,), padding=(2,), output_padding=(1,))\n",
              "        )\n",
              "      )\n",
              "      (blocks): ModuleList(\n",
              "        (0): HiFiGANResidualBlock(\n",
              "          (convs1): ModuleList(\n",
              "            (0): Sequential(\n",
              "              (0): LeakyReLU(negative_slope=0.1)\n",
              "              (1): Conv1d(256, 256, kernel_size=(3,), stride=(1,), padding=(1,))\n",
              "            )\n",
              "            (1): Sequential(\n",
              "              (0): LeakyReLU(negative_slope=0.1)\n",
              "              (1): Conv1d(256, 256, kernel_size=(3,), stride=(1,), padding=(3,), dilation=(3,))\n",
              "            )\n",
              "            (2): Sequential(\n",
              "              (0): LeakyReLU(negative_slope=0.1)\n",
              "              (1): Conv1d(256, 256, kernel_size=(3,), stride=(1,), padding=(5,), dilation=(5,))\n",
              "            )\n",
              "          )\n",
              "          (convs2): ModuleList(\n",
              "            (0): Sequential(\n",
              "              (0): LeakyReLU(negative_slope=0.1)\n",
              "              (1): Conv1d(256, 256, kernel_size=(3,), stride=(1,), padding=(1,))\n",
              "            )\n",
              "            (1): Sequential(\n",
              "              (0): LeakyReLU(negative_slope=0.1)\n",
              "              (1): Conv1d(256, 256, kernel_size=(3,), stride=(1,), padding=(1,))\n",
              "            )\n",
              "            (2): Sequential(\n",
              "              (0): LeakyReLU(negative_slope=0.1)\n",
              "              (1): Conv1d(256, 256, kernel_size=(3,), stride=(1,), padding=(1,))\n",
              "            )\n",
              "          )\n",
              "        )\n",
              "        (1): HiFiGANResidualBlock(\n",
              "          (convs1): ModuleList(\n",
              "            (0): Sequential(\n",
              "              (0): LeakyReLU(negative_slope=0.1)\n",
              "              (1): Conv1d(256, 256, kernel_size=(7,), stride=(1,), padding=(3,))\n",
              "            )\n",
              "            (1): Sequential(\n",
              "              (0): LeakyReLU(negative_slope=0.1)\n",
              "              (1): Conv1d(256, 256, kernel_size=(7,), stride=(1,), padding=(9,), dilation=(3,))\n",
              "            )\n",
              "            (2): Sequential(\n",
              "              (0): LeakyReLU(negative_slope=0.1)\n",
              "              (1): Conv1d(256, 256, kernel_size=(7,), stride=(1,), padding=(15,), dilation=(5,))\n",
              "            )\n",
              "          )\n",
              "          (convs2): ModuleList(\n",
              "            (0): Sequential(\n",
              "              (0): LeakyReLU(negative_slope=0.1)\n",
              "              (1): Conv1d(256, 256, kernel_size=(7,), stride=(1,), padding=(3,))\n",
              "            )\n",
              "            (1): Sequential(\n",
              "              (0): LeakyReLU(negative_slope=0.1)\n",
              "              (1): Conv1d(256, 256, kernel_size=(7,), stride=(1,), padding=(3,))\n",
              "            )\n",
              "            (2): Sequential(\n",
              "              (0): LeakyReLU(negative_slope=0.1)\n",
              "              (1): Conv1d(256, 256, kernel_size=(7,), stride=(1,), padding=(3,))\n",
              "            )\n",
              "          )\n",
              "        )\n",
              "        (2): HiFiGANResidualBlock(\n",
              "          (convs1): ModuleList(\n",
              "            (0): Sequential(\n",
              "              (0): LeakyReLU(negative_slope=0.1)\n",
              "              (1): Conv1d(256, 256, kernel_size=(11,), stride=(1,), padding=(5,))\n",
              "            )\n",
              "            (1): Sequential(\n",
              "              (0): LeakyReLU(negative_slope=0.1)\n",
              "              (1): Conv1d(256, 256, kernel_size=(11,), stride=(1,), padding=(15,), dilation=(3,))\n",
              "            )\n",
              "            (2): Sequential(\n",
              "              (0): LeakyReLU(negative_slope=0.1)\n",
              "              (1): Conv1d(256, 256, kernel_size=(11,), stride=(1,), padding=(25,), dilation=(5,))\n",
              "            )\n",
              "          )\n",
              "          (convs2): ModuleList(\n",
              "            (0): Sequential(\n",
              "              (0): LeakyReLU(negative_slope=0.1)\n",
              "              (1): Conv1d(256, 256, kernel_size=(11,), stride=(1,), padding=(5,))\n",
              "            )\n",
              "            (1): Sequential(\n",
              "              (0): LeakyReLU(negative_slope=0.1)\n",
              "              (1): Conv1d(256, 256, kernel_size=(11,), stride=(1,), padding=(5,))\n",
              "            )\n",
              "            (2): Sequential(\n",
              "              (0): LeakyReLU(negative_slope=0.1)\n",
              "              (1): Conv1d(256, 256, kernel_size=(11,), stride=(1,), padding=(5,))\n",
              "            )\n",
              "          )\n",
              "        )\n",
              "        (3): HiFiGANResidualBlock(\n",
              "          (convs1): ModuleList(\n",
              "            (0): Sequential(\n",
              "              (0): LeakyReLU(negative_slope=0.1)\n",
              "              (1): Conv1d(128, 128, kernel_size=(3,), stride=(1,), padding=(1,))\n",
              "            )\n",
              "            (1): Sequential(\n",
              "              (0): LeakyReLU(negative_slope=0.1)\n",
              "              (1): Conv1d(128, 128, kernel_size=(3,), stride=(1,), padding=(3,), dilation=(3,))\n",
              "            )\n",
              "            (2): Sequential(\n",
              "              (0): LeakyReLU(negative_slope=0.1)\n",
              "              (1): Conv1d(128, 128, kernel_size=(3,), stride=(1,), padding=(5,), dilation=(5,))\n",
              "            )\n",
              "          )\n",
              "          (convs2): ModuleList(\n",
              "            (0): Sequential(\n",
              "              (0): LeakyReLU(negative_slope=0.1)\n",
              "              (1): Conv1d(128, 128, kernel_size=(3,), stride=(1,), padding=(1,))\n",
              "            )\n",
              "            (1): Sequential(\n",
              "              (0): LeakyReLU(negative_slope=0.1)\n",
              "              (1): Conv1d(128, 128, kernel_size=(3,), stride=(1,), padding=(1,))\n",
              "            )\n",
              "            (2): Sequential(\n",
              "              (0): LeakyReLU(negative_slope=0.1)\n",
              "              (1): Conv1d(128, 128, kernel_size=(3,), stride=(1,), padding=(1,))\n",
              "            )\n",
              "          )\n",
              "        )\n",
              "        (4): HiFiGANResidualBlock(\n",
              "          (convs1): ModuleList(\n",
              "            (0): Sequential(\n",
              "              (0): LeakyReLU(negative_slope=0.1)\n",
              "              (1): Conv1d(128, 128, kernel_size=(7,), stride=(1,), padding=(3,))\n",
              "            )\n",
              "            (1): Sequential(\n",
              "              (0): LeakyReLU(negative_slope=0.1)\n",
              "              (1): Conv1d(128, 128, kernel_size=(7,), stride=(1,), padding=(9,), dilation=(3,))\n",
              "            )\n",
              "            (2): Sequential(\n",
              "              (0): LeakyReLU(negative_slope=0.1)\n",
              "              (1): Conv1d(128, 128, kernel_size=(7,), stride=(1,), padding=(15,), dilation=(5,))\n",
              "            )\n",
              "          )\n",
              "          (convs2): ModuleList(\n",
              "            (0): Sequential(\n",
              "              (0): LeakyReLU(negative_slope=0.1)\n",
              "              (1): Conv1d(128, 128, kernel_size=(7,), stride=(1,), padding=(3,))\n",
              "            )\n",
              "            (1): Sequential(\n",
              "              (0): LeakyReLU(negative_slope=0.1)\n",
              "              (1): Conv1d(128, 128, kernel_size=(7,), stride=(1,), padding=(3,))\n",
              "            )\n",
              "            (2): Sequential(\n",
              "              (0): LeakyReLU(negative_slope=0.1)\n",
              "              (1): Conv1d(128, 128, kernel_size=(7,), stride=(1,), padding=(3,))\n",
              "            )\n",
              "          )\n",
              "        )\n",
              "        (5): HiFiGANResidualBlock(\n",
              "          (convs1): ModuleList(\n",
              "            (0): Sequential(\n",
              "              (0): LeakyReLU(negative_slope=0.1)\n",
              "              (1): Conv1d(128, 128, kernel_size=(11,), stride=(1,), padding=(5,))\n",
              "            )\n",
              "            (1): Sequential(\n",
              "              (0): LeakyReLU(negative_slope=0.1)\n",
              "              (1): Conv1d(128, 128, kernel_size=(11,), stride=(1,), padding=(15,), dilation=(3,))\n",
              "            )\n",
              "            (2): Sequential(\n",
              "              (0): LeakyReLU(negative_slope=0.1)\n",
              "              (1): Conv1d(128, 128, kernel_size=(11,), stride=(1,), padding=(25,), dilation=(5,))\n",
              "            )\n",
              "          )\n",
              "          (convs2): ModuleList(\n",
              "            (0): Sequential(\n",
              "              (0): LeakyReLU(negative_slope=0.1)\n",
              "              (1): Conv1d(128, 128, kernel_size=(11,), stride=(1,), padding=(5,))\n",
              "            )\n",
              "            (1): Sequential(\n",
              "              (0): LeakyReLU(negative_slope=0.1)\n",
              "              (1): Conv1d(128, 128, kernel_size=(11,), stride=(1,), padding=(5,))\n",
              "            )\n",
              "            (2): Sequential(\n",
              "              (0): LeakyReLU(negative_slope=0.1)\n",
              "              (1): Conv1d(128, 128, kernel_size=(11,), stride=(1,), padding=(5,))\n",
              "            )\n",
              "          )\n",
              "        )\n",
              "        (6): HiFiGANResidualBlock(\n",
              "          (convs1): ModuleList(\n",
              "            (0): Sequential(\n",
              "              (0): LeakyReLU(negative_slope=0.1)\n",
              "              (1): Conv1d(64, 64, kernel_size=(3,), stride=(1,), padding=(1,))\n",
              "            )\n",
              "            (1): Sequential(\n",
              "              (0): LeakyReLU(negative_slope=0.1)\n",
              "              (1): Conv1d(64, 64, kernel_size=(3,), stride=(1,), padding=(3,), dilation=(3,))\n",
              "            )\n",
              "            (2): Sequential(\n",
              "              (0): LeakyReLU(negative_slope=0.1)\n",
              "              (1): Conv1d(64, 64, kernel_size=(3,), stride=(1,), padding=(5,), dilation=(5,))\n",
              "            )\n",
              "          )\n",
              "          (convs2): ModuleList(\n",
              "            (0): Sequential(\n",
              "              (0): LeakyReLU(negative_slope=0.1)\n",
              "              (1): Conv1d(64, 64, kernel_size=(3,), stride=(1,), padding=(1,))\n",
              "            )\n",
              "            (1): Sequential(\n",
              "              (0): LeakyReLU(negative_slope=0.1)\n",
              "              (1): Conv1d(64, 64, kernel_size=(3,), stride=(1,), padding=(1,))\n",
              "            )\n",
              "            (2): Sequential(\n",
              "              (0): LeakyReLU(negative_slope=0.1)\n",
              "              (1): Conv1d(64, 64, kernel_size=(3,), stride=(1,), padding=(1,))\n",
              "            )\n",
              "          )\n",
              "        )\n",
              "        (7): HiFiGANResidualBlock(\n",
              "          (convs1): ModuleList(\n",
              "            (0): Sequential(\n",
              "              (0): LeakyReLU(negative_slope=0.1)\n",
              "              (1): Conv1d(64, 64, kernel_size=(7,), stride=(1,), padding=(3,))\n",
              "            )\n",
              "            (1): Sequential(\n",
              "              (0): LeakyReLU(negative_slope=0.1)\n",
              "              (1): Conv1d(64, 64, kernel_size=(7,), stride=(1,), padding=(9,), dilation=(3,))\n",
              "            )\n",
              "            (2): Sequential(\n",
              "              (0): LeakyReLU(negative_slope=0.1)\n",
              "              (1): Conv1d(64, 64, kernel_size=(7,), stride=(1,), padding=(15,), dilation=(5,))\n",
              "            )\n",
              "          )\n",
              "          (convs2): ModuleList(\n",
              "            (0): Sequential(\n",
              "              (0): LeakyReLU(negative_slope=0.1)\n",
              "              (1): Conv1d(64, 64, kernel_size=(7,), stride=(1,), padding=(3,))\n",
              "            )\n",
              "            (1): Sequential(\n",
              "              (0): LeakyReLU(negative_slope=0.1)\n",
              "              (1): Conv1d(64, 64, kernel_size=(7,), stride=(1,), padding=(3,))\n",
              "            )\n",
              "            (2): Sequential(\n",
              "              (0): LeakyReLU(negative_slope=0.1)\n",
              "              (1): Conv1d(64, 64, kernel_size=(7,), stride=(1,), padding=(3,))\n",
              "            )\n",
              "          )\n",
              "        )\n",
              "        (8): HiFiGANResidualBlock(\n",
              "          (convs1): ModuleList(\n",
              "            (0): Sequential(\n",
              "              (0): LeakyReLU(negative_slope=0.1)\n",
              "              (1): Conv1d(64, 64, kernel_size=(11,), stride=(1,), padding=(5,))\n",
              "            )\n",
              "            (1): Sequential(\n",
              "              (0): LeakyReLU(negative_slope=0.1)\n",
              "              (1): Conv1d(64, 64, kernel_size=(11,), stride=(1,), padding=(15,), dilation=(3,))\n",
              "            )\n",
              "            (2): Sequential(\n",
              "              (0): LeakyReLU(negative_slope=0.1)\n",
              "              (1): Conv1d(64, 64, kernel_size=(11,), stride=(1,), padding=(25,), dilation=(5,))\n",
              "            )\n",
              "          )\n",
              "          (convs2): ModuleList(\n",
              "            (0): Sequential(\n",
              "              (0): LeakyReLU(negative_slope=0.1)\n",
              "              (1): Conv1d(64, 64, kernel_size=(11,), stride=(1,), padding=(5,))\n",
              "            )\n",
              "            (1): Sequential(\n",
              "              (0): LeakyReLU(negative_slope=0.1)\n",
              "              (1): Conv1d(64, 64, kernel_size=(11,), stride=(1,), padding=(5,))\n",
              "            )\n",
              "            (2): Sequential(\n",
              "              (0): LeakyReLU(negative_slope=0.1)\n",
              "              (1): Conv1d(64, 64, kernel_size=(11,), stride=(1,), padding=(5,))\n",
              "            )\n",
              "          )\n",
              "        )\n",
              "        (9): HiFiGANResidualBlock(\n",
              "          (convs1): ModuleList(\n",
              "            (0): Sequential(\n",
              "              (0): LeakyReLU(negative_slope=0.1)\n",
              "              (1): Conv1d(32, 32, kernel_size=(3,), stride=(1,), padding=(1,))\n",
              "            )\n",
              "            (1): Sequential(\n",
              "              (0): LeakyReLU(negative_slope=0.1)\n",
              "              (1): Conv1d(32, 32, kernel_size=(3,), stride=(1,), padding=(3,), dilation=(3,))\n",
              "            )\n",
              "            (2): Sequential(\n",
              "              (0): LeakyReLU(negative_slope=0.1)\n",
              "              (1): Conv1d(32, 32, kernel_size=(3,), stride=(1,), padding=(5,), dilation=(5,))\n",
              "            )\n",
              "          )\n",
              "          (convs2): ModuleList(\n",
              "            (0): Sequential(\n",
              "              (0): LeakyReLU(negative_slope=0.1)\n",
              "              (1): Conv1d(32, 32, kernel_size=(3,), stride=(1,), padding=(1,))\n",
              "            )\n",
              "            (1): Sequential(\n",
              "              (0): LeakyReLU(negative_slope=0.1)\n",
              "              (1): Conv1d(32, 32, kernel_size=(3,), stride=(1,), padding=(1,))\n",
              "            )\n",
              "            (2): Sequential(\n",
              "              (0): LeakyReLU(negative_slope=0.1)\n",
              "              (1): Conv1d(32, 32, kernel_size=(3,), stride=(1,), padding=(1,))\n",
              "            )\n",
              "          )\n",
              "        )\n",
              "        (10): HiFiGANResidualBlock(\n",
              "          (convs1): ModuleList(\n",
              "            (0): Sequential(\n",
              "              (0): LeakyReLU(negative_slope=0.1)\n",
              "              (1): Conv1d(32, 32, kernel_size=(7,), stride=(1,), padding=(3,))\n",
              "            )\n",
              "            (1): Sequential(\n",
              "              (0): LeakyReLU(negative_slope=0.1)\n",
              "              (1): Conv1d(32, 32, kernel_size=(7,), stride=(1,), padding=(9,), dilation=(3,))\n",
              "            )\n",
              "            (2): Sequential(\n",
              "              (0): LeakyReLU(negative_slope=0.1)\n",
              "              (1): Conv1d(32, 32, kernel_size=(7,), stride=(1,), padding=(15,), dilation=(5,))\n",
              "            )\n",
              "          )\n",
              "          (convs2): ModuleList(\n",
              "            (0): Sequential(\n",
              "              (0): LeakyReLU(negative_slope=0.1)\n",
              "              (1): Conv1d(32, 32, kernel_size=(7,), stride=(1,), padding=(3,))\n",
              "            )\n",
              "            (1): Sequential(\n",
              "              (0): LeakyReLU(negative_slope=0.1)\n",
              "              (1): Conv1d(32, 32, kernel_size=(7,), stride=(1,), padding=(3,))\n",
              "            )\n",
              "            (2): Sequential(\n",
              "              (0): LeakyReLU(negative_slope=0.1)\n",
              "              (1): Conv1d(32, 32, kernel_size=(7,), stride=(1,), padding=(3,))\n",
              "            )\n",
              "          )\n",
              "        )\n",
              "        (11): HiFiGANResidualBlock(\n",
              "          (convs1): ModuleList(\n",
              "            (0): Sequential(\n",
              "              (0): LeakyReLU(negative_slope=0.1)\n",
              "              (1): Conv1d(32, 32, kernel_size=(11,), stride=(1,), padding=(5,))\n",
              "            )\n",
              "            (1): Sequential(\n",
              "              (0): LeakyReLU(negative_slope=0.1)\n",
              "              (1): Conv1d(32, 32, kernel_size=(11,), stride=(1,), padding=(15,), dilation=(3,))\n",
              "            )\n",
              "            (2): Sequential(\n",
              "              (0): LeakyReLU(negative_slope=0.1)\n",
              "              (1): Conv1d(32, 32, kernel_size=(11,), stride=(1,), padding=(25,), dilation=(5,))\n",
              "            )\n",
              "          )\n",
              "          (convs2): ModuleList(\n",
              "            (0): Sequential(\n",
              "              (0): LeakyReLU(negative_slope=0.1)\n",
              "              (1): Conv1d(32, 32, kernel_size=(11,), stride=(1,), padding=(5,))\n",
              "            )\n",
              "            (1): Sequential(\n",
              "              (0): LeakyReLU(negative_slope=0.1)\n",
              "              (1): Conv1d(32, 32, kernel_size=(11,), stride=(1,), padding=(5,))\n",
              "            )\n",
              "            (2): Sequential(\n",
              "              (0): LeakyReLU(negative_slope=0.1)\n",
              "              (1): Conv1d(32, 32, kernel_size=(11,), stride=(1,), padding=(5,))\n",
              "            )\n",
              "          )\n",
              "        )\n",
              "      )\n",
              "      (output_conv): Sequential(\n",
              "        (0): LeakyReLU(negative_slope=0.01)\n",
              "        (1): Conv1d(32, 1, kernel_size=(7,), stride=(1,), padding=(3,))\n",
              "        (2): Tanh()\n",
              "      )\n",
              "    )\n",
              "  )\n",
              ")"
            ]
          },
          "metadata": {},
          "execution_count": 10
        }
      ]
    },
    {
      "cell_type": "code",
      "source": [
        "import glob\n",
        "import os\n",
        "import numpy as np\n",
        "import kaldiio\n",
        "\n",
        "# Get model directory path\n",
        "from espnet_model_zoo.downloader import ModelDownloader\n",
        "d = ModelDownloader()\n",
        "model_dir = os.path.dirname(d.download_and_unpack(model_tag)[\"train_config\"])\n",
        "\n",
        "# X-vector selection\n",
        "# We only need the x-vector part at that's what this model uses. The ones with\n",
        "spembs = None\n",
        "if text2speech.use_spembs:\n",
        "  xvector_ark = [p for p in glob.glob(f\"{model_dir}/../../dump/**/spk_xvector.ark\", recursive=True) if \"tr\" in p][0]\n",
        "  xvectors = {k: v for k, v in kaldiio.load_ark(xvector_ark)}\n",
        "  spks = list(xvectors.keys())"
      ],
      "metadata": {
        "id": "T-1QugLj-7xZ"
      },
      "execution_count": null,
      "outputs": []
    },
    {
      "cell_type": "code",
      "source": [
        "from netdissect import tally\n",
        "x = \"Please call Stella. Ask her too.\"\n",
        "\n",
        "# To collect stats, define a function that returns 2d [samples, units]\n",
        "def compute_samples(index):\n",
        "    # print(index)\n",
        "    spk = spks[int(index[0])]\n",
        "    spembs = xvectors[spk]\n",
        "    wav = text2speech(x, spembs=spembs)[\"wav\"]\n",
        "    acts = text2speech.vocoder.retained_layer(layer)\n",
        "    acts = torch.flatten(acts, start_dim=1)\n",
        "    acts_stack = acts\n",
        "    # print(acts.shape)\n",
        "    # print(acts)\n",
        "    # acts_stack = acts[0]\n",
        "\n",
        "    for i in index[1:]:\n",
        "      spk = spks[int(i)]\n",
        "      spembs = xvectors[spk]\n",
        "      wav = text2speech(x, spembs=spembs)[\"wav\"]\n",
        "      # acts = model.retained_layer('layer4') # get the activations, and flatten\n",
        "      acts = text2speech.vocoder.retained_layer(layer)\n",
        "      # print(acts[0].shape)\n",
        "      # print(acts)\n",
        "      acts = torch.flatten(acts, start_dim=1)\n",
        "\n",
        "      acts_stack = torch.cat((acts_stack, acts), 0)\n",
        "      # print(acts_stack.shape)\n",
        "    return acts_stack\n",
        "\n",
        "\n",
        "from torch.utils.data import TensorDataset\n",
        "# Define our batch of inputs to the model\n",
        "# zds = TensorDataset(torch.linspace(0, 49, 50))\n",
        "# this also works\n",
        "zds = torch.linspace(0, 107, 108)\n",
        "\n",
        "# Then tally_quantile will run your function over the whole dataset to collect quantile stats\n",
        "# rq = tally.tally_quantile(compute_samples, zds, batch_size=10)\n",
        "\n",
        "# Print out the median value for the first 20 channels\n",
        "# print(rq.quantiles(0.9)[:20])\n",
        "# print(rq.mean())"
      ],
      "metadata": {
        "id": "RL7ZU-2UkKF0"
      },
      "execution_count": null,
      "outputs": []
    },
    {
      "cell_type": "code",
      "source": [
        "# print(rq.quantiles(1)[:20])"
      ],
      "metadata": {
        "id": "_zwxMn-nneXz"
      },
      "execution_count": null,
      "outputs": []
    },
    {
      "cell_type": "code",
      "source": [
        "# Then tally_quantile will run your function over the whole dataset to collect quantile stats\n",
        "rq = tally.tally_quantile(compute_samples, zds, batch_size=10)\n",
        "\n",
        "# Print out the median value for the first 20 channels\n",
        "print(rq.quantiles(0.99).shape)"
      ],
      "metadata": {
        "colab": {
          "base_uri": "https://localhost:8080/"
        },
        "id": "6X8Ol4nFJS2Z",
        "outputId": "5b334004-f5f7-482b-b391-a2b74d596a78"
      },
      "execution_count": null,
      "outputs": [
        {
          "output_type": "stream",
          "name": "stderr",
          "text": [
            "\r  0%|          | 0/11 [00:00<?, ?it/s]/usr/local/lib/python3.7/dist-packages/espnet2/torch_utils/device_funcs.py:29: UserWarning: The given NumPy array is not writable, and PyTorch does not support non-writable tensors. This means writing to this tensor will result in undefined behavior. You may want to copy the array to protect its data or make it writable before converting it to a tensor. This type of warning will be suppressed for the rest of this program. (Triggered internally at  ../torch/csrc/utils/tensor_numpy.cpp:172.)\n",
            "  return to_device(torch.from_numpy(data), device, dtype, non_blocking, copy)\n"
          ]
        },
        {
          "output_type": "stream",
          "name": "stdout",
          "text": [
            "torch.Size([640000])\n"
          ]
        }
      ]
    },
    {
      "cell_type": "code",
      "source": [
        "topk = tally.tally_topk(compute_samples, zds)\n",
        "topk.result()[1].shape"
      ],
      "metadata": {
        "colab": {
          "base_uri": "https://localhost:8080/"
        },
        "id": "YEPMIw9XhrNA",
        "outputId": "18a40d53-210b-4cc9-9e85-42c4c0aec82b"
      },
      "execution_count": null,
      "outputs": [
        {
          "output_type": "stream",
          "name": "stderr",
          "text": []
        },
        {
          "output_type": "execute_result",
          "data": {
            "text/plain": [
              "torch.Size([640000, 100])"
            ]
          },
          "metadata": {},
          "execution_count": 14
        }
      ]
    },
    {
      "cell_type": "code",
      "source": [
        "text2speech.vocoder.retained_layer(layer).shape"
      ],
      "metadata": {
        "id": "YLCLh5tn5Pc7",
        "colab": {
          "base_uri": "https://localhost:8080/"
        },
        "outputId": "85670ddb-d853-4142-d16a-309536273185"
      },
      "execution_count": null,
      "outputs": [
        {
          "output_type": "execute_result",
          "data": {
            "text/plain": [
              "torch.Size([1, 64, 10000])"
            ]
          },
          "metadata": {},
          "execution_count": 15
        }
      ]
    },
    {
      "cell_type": "code",
      "source": [
        "topk.result()[1]"
      ],
      "metadata": {
        "id": "uVj6n0SImK4P",
        "colab": {
          "base_uri": "https://localhost:8080/"
        },
        "outputId": "92985e6b-4bbe-4a14-f3dc-b7e8acc67544"
      },
      "execution_count": null,
      "outputs": [
        {
          "output_type": "execute_result",
          "data": {
            "text/plain": [
              "tensor([[ 86,  60,  24,  ...,  54,   1,  84],\n",
              "        [ 42,  24,   9,  ...,  39,  53,  62],\n",
              "        [ 84,  42,  74,  ...,  41,   5,  36],\n",
              "        ...,\n",
              "        [  2,  98, 105,  ...,  49,  15,  60],\n",
              "        [  2,  91,  33,  ...,  96,  56,  53],\n",
              "        [ 33,   2,  79,  ...,  98,  19,  22]])"
            ]
          },
          "metadata": {},
          "execution_count": 16
        }
      ]
    },
    {
      "cell_type": "code",
      "source": [
        "topk.result()[0]"
      ],
      "metadata": {
        "id": "TzSEAPTipuBg",
        "colab": {
          "base_uri": "https://localhost:8080/"
        },
        "outputId": "da5826f1-2dd8-40b8-fbf4-018ed652cf26"
      },
      "execution_count": null,
      "outputs": [
        {
          "output_type": "execute_result",
          "data": {
            "text/plain": [
              "tensor([[ 0.1696,  0.0834,  0.0642,  ..., -0.1190, -0.1202, -0.1289],\n",
              "        [ 0.0842,  0.0445,  0.0374,  ..., -0.1900, -0.2051, -0.2116],\n",
              "        [ 0.1456,  0.1282,  0.1007,  ..., -0.1156, -0.1160, -0.1197],\n",
              "        ...,\n",
              "        [ 1.0330,  0.4251,  0.3361,  ..., -0.7525, -0.7858, -0.7922],\n",
              "        [ 1.0480,  0.3974,  0.3046,  ..., -0.8288, -0.9122, -0.9425],\n",
              "        [ 0.6343,  0.6240,  0.4065,  ..., -0.8183, -0.8272, -0.8362]])"
            ]
          },
          "metadata": {},
          "execution_count": 17
        }
      ]
    },
    {
      "cell_type": "code",
      "source": [
        "southern_units = {0, 3, 4, 6, 7, 14, 30, 31, 41}\n",
        "s_african_units = {82, 86, 93, 99}\n",
        "indian = {21, 24, 107}\n",
        "scottish = {9, 11, 15, 19, 20, 22, 25, 28, 33, 35, 36, 37, 38, 44, 45, 48, 54, 57, 58}\n",
        "irish = {18, 39, 56, 61, 65, 67, 81, 95, 105}\n",
        "dublin = {18, 61, 65, 95}\n",
        "n_irish = {12, 34, 62, 63, 73, 100}\n",
        "belfast = {12, 34, 62, 63, 73}\n",
        "cali = {64, 68, 69, 85}\n",
        "yorkshire = {40, 43, 60}\n",
        "NE = {42, 50, 55, 59}\n",
        "canada = {71, 72, 76, 80, 83, 84, 97, 104}\n",
        "\n",
        "female = {0, 3,4,5,6, 8, 9, 10, 12, 13, 14, 17, 21, 22, 23, 26, 30, 34, 35, 37, 38, 39, 40, 41, 42, 49, 50, 53, 55, 56, 61, 63, 64, 65, 66, 68, 69, 70, 72, 74, 75, 76, 77, 78, 80, 81,82, 84, 85, 86, 88, 89, 90, 92,93,94,95,96,97, 100, 102,103}\n",
        "male = {1, 2, 7, 11, 15, 16, 18, 19, 20, 24, 25, 27, 28, 29, 31, 32, 33, 36, 43, 44, 45, 46, 47, 48, 51, 52, 54, 57, 58, 59, 60, 62, 67, 71, 73, 79, 83, 87, 91, 98, 99, 101, 104, 105, 106, 107}"
      ],
      "metadata": {
        "id": "-UvrIRQx1lCX"
      },
      "execution_count": null,
      "outputs": []
    },
    {
      "cell_type": "code",
      "source": [
        "# selecting the first 5 indices from the first row / unit\n",
        "top = topk.result()[1][0][0:5]\n",
        "print(top)\n",
        "# casting from tensor to set\n",
        "top = set(top.tolist())\n",
        "\n",
        "# calculating IoU\n",
        "num = top.intersection(southern_units)\n",
        "print(num)\n",
        "den = top.union(southern_units)\n",
        "print(den)\n",
        "IoU = len(num) / len(den)\n",
        "print(IoU)"
      ],
      "metadata": {
        "id": "k3zqnOrvS1ug",
        "colab": {
          "base_uri": "https://localhost:8080/"
        },
        "outputId": "8de036b9-594b-4bf3-ecd1-26ea24c5936d"
      },
      "execution_count": null,
      "outputs": [
        {
          "output_type": "stream",
          "name": "stdout",
          "text": [
            "tensor([86, 60, 24, 15,  0])\n",
            "{0}\n",
            "{0, 3, 4, 6, 7, 41, 14, 15, 86, 24, 60, 30, 31}\n",
            "0.07692307692307693\n"
          ]
        }
      ]
    },
    {
      "cell_type": "code",
      "source": [
        "# Quick method\n",
        "# iterating st we can calculate the IoU for all units in the layer\n",
        "IoU_list = []\n",
        "chosen_property = male\n",
        "result = topk.result()[1]\n",
        "result = result.tolist()\n",
        "# len(result)\n",
        "\n",
        "for i in range(0, topk.result()[1].shape[0]):\n",
        "  top = result[i][0:5]\n",
        "  top = set(top)\n",
        "  num = top.intersection(chosen_property)\n",
        "  den = top.union(chosen_property)\n",
        "  IoU_list.append(len(num) / len(den))\n",
        "  # print(i)\n",
        "\n",
        "# top = set(top.tolist())\n",
        "# for i in range(0, topk.result()[1].shape[0]):\n",
        "#   num = top.intersection(southern_units)\n",
        "#   den = top.union(southern_units)\n",
        "#   IoU_list.append(len(num) / len(den))\n",
        "#   print(i)"
      ],
      "metadata": {
        "id": "ZMQFxedW3exi"
      },
      "execution_count": null,
      "outputs": []
    },
    {
      "cell_type": "code",
      "source": [
        "# same as above but to zero units\n",
        "IoU_list_z = []\n",
        "property_z = female\n",
        "\n",
        "for i in range(0, topk.result()[1].shape[0]):\n",
        "  top = result[i][0:5]\n",
        "  top = set(top)\n",
        "  num = top.intersection(property_z)\n",
        "  den = top.union(property_z)\n",
        "  IoU_list_z.append(len(num) / len(den))\n",
        "  # print(i)"
      ],
      "metadata": {
        "id": "m4IPauTcgLpm"
      },
      "execution_count": null,
      "outputs": []
    },
    {
      "cell_type": "code",
      "source": [
        "len(IoU_list)"
      ],
      "metadata": {
        "id": "ttmevsO_WqM8",
        "colab": {
          "base_uri": "https://localhost:8080/"
        },
        "outputId": "90fd32fa-e717-45fb-90f5-07aa6efc128e"
      },
      "execution_count": null,
      "outputs": [
        {
          "output_type": "execute_result",
          "data": {
            "text/plain": [
              "640000"
            ]
          },
          "metadata": {},
          "execution_count": 22
        }
      ]
    },
    {
      "cell_type": "code",
      "source": [
        "# IoU_list"
      ],
      "metadata": {
        "id": "HY0PGAfma9uA"
      },
      "execution_count": null,
      "outputs": []
    },
    {
      "cell_type": "code",
      "source": [
        "# setting the number of units we want to change the actication to the top 1% quantile for and printing their indices\n",
        "n_units = 50000\n",
        "IoU_list = torch.tensor(IoU_list)\n",
        "top_IoU = torch.topk(IoU_list, n_units)\n",
        "# print(layer, '\\n', top_IoU, '\\n')\n",
        "rand_IoU = torch.randint(0, len(IoU_list), (n_units,))"
      ],
      "metadata": {
        "id": "-8g9BI6-wli7"
      },
      "execution_count": null,
      "outputs": []
    },
    {
      "cell_type": "code",
      "source": [
        "# setting the number of units we want to change the activations of to 0 and printing their indices\n",
        "n_units_z = 5000\n",
        "IoU_list_z = torch.tensor(IoU_list_z)\n",
        "top_IoU_z = torch.topk(IoU_list_z, n_units_z)\n",
        "print(layer, '\\n', top_IoU_z, '\\n')\n",
        "rand_IoU_z = torch.randint(0, len(IoU_list), (n_units_z,))\n"
      ],
      "metadata": {
        "id": "h3oehcdug7O4",
        "colab": {
          "base_uri": "https://localhost:8080/"
        },
        "outputId": "bb112a6c-426e-4260-cf7e-fe1199b56f4c"
      },
      "execution_count": null,
      "outputs": [
        {
          "output_type": "stream",
          "name": "stdout",
          "text": [
            "vocoder.blocks.7.convs1.2.1 \n",
            " torch.return_types.topk(\n",
            "values=tensor([0.0806, 0.0806, 0.0806,  ..., 0.0806, 0.0806, 0.0806]),\n",
            "indices=tensor([ 7037,  6672,  6991,  ..., 22582, 22391,  8279])) \n",
            "\n"
          ]
        }
      ]
    },
    {
      "cell_type": "code",
      "source": [
        "# top_IoU[1][1]"
      ],
      "metadata": {
        "id": "vtzBOB_hDl9i"
      },
      "execution_count": null,
      "outputs": []
    },
    {
      "cell_type": "code",
      "source": [
        "# defining functions to get the unit's index from the number layer and its index from topk\n",
        "def index_map(layer1, idx):\n",
        "    div = text2speech.vocoder.retained_layer(layer1).shape[2]\n",
        "    first = idx//div\n",
        "    second = idx%div\n",
        "    return [0, first, second]\n",
        "\n",
        "\n",
        "# index_map_list(layer, top_IoU[1].numpy())"
      ],
      "metadata": {
        "id": "fygAjW4E-XSO"
      },
      "execution_count": null,
      "outputs": []
    },
    {
      "cell_type": "code",
      "source": [
        "# function to set units to the top 1% quantile\n",
        "def change_units(data, model):\n",
        "    for i in range(0, n_units_z):\n",
        "#     if want to only change the top IoU nodes\n",
        "      temp = index_map(layer, top_IoU_z[1][i])\n",
        "      # if want to change the same number of random nodes\n",
        "      # temp = index_map(layer, rand_IoU_z[i])\n",
        "      data[0, temp[1], temp[2]] = 0\n",
        "\n",
        "    quant = rq.quantiles(0.99)\n",
        "    for i in range(0, n_units):\n",
        "#     if want to only change the top IoU nodes\n",
        "      temp = index_map(layer, top_IoU[1][i])\n",
        "      # if want to change the same number of random nodes\n",
        "      # temp = index_map(layer, rand_IoU[i])\n",
        "      data[0, temp[1], temp[2]] = quant[top_IoU[1][i]]\n",
        "\n",
        "    return data\n",
        "\n",
        "# setting units to top 1%\n",
        "text2speech.vocoder.edit_layer(layer, rule=change_units)\n",
        "\n",
        "\n",
        "# # function to set units to 0\n",
        "# def zero_units(data, model):\n",
        "#     for i in range(0, n_units_z):\n",
        "#       temp = index_map(layer, top_IoU_z[1][i])\n",
        "#       data[0, temp[1], temp[2]] = 0\n",
        "\n",
        "#     return data\n",
        "\n",
        "# setting units to top 1%\n",
        "# text2speech.vocoder.edit_layer(layer, rule=zero_units)"
      ],
      "metadata": {
        "id": "ZSpxxaAFxhoG"
      },
      "execution_count": null,
      "outputs": []
    },
    {
      "cell_type": "code",
      "source": [
        "spk = spks[10]\n",
        "spembs = xvectors[spk]\n",
        "print(f\"selected spk: {spk}\")"
      ],
      "metadata": {
        "id": "H99_WrL5AMoj",
        "colab": {
          "base_uri": "https://localhost:8080/"
        },
        "outputId": "a9b9424f-bede-4675-9967-fdba821cbf25"
      },
      "execution_count": null,
      "outputs": [
        {
          "output_type": "stream",
          "name": "stdout",
          "text": [
            "selected spk: p236\n"
          ]
        }
      ]
    },
    {
      "cell_type": "code",
      "source": [
        "import soundfile as sf\n",
        "import time\n",
        "# x = \"Please call Stella. Ask her to bring these things with her from the store:  Six spoons of fresh snow peas, five thick slabs of blue cheese, and maybe a snack for her brother Bob.  We also need a small plastic snake and a big toy frog for the kids.  She can scoop these things into three red bags, and we will go meet her Wednesday at the train station.\"\n",
        "x = \"Please call Stella.  Ask her too.\"\n",
        "# __call__\n",
        "wav = text2speech(x, spembs=spembs)[\"wav\"]\n",
        "# print(text2speech(x, spembs=spembs)[\"feat_gen\"].shape)\n",
        "# print(text2speech(x, spembs=spembs)[\"feat_gen_denorm\"].shape)\n",
        "\n",
        "sf.write(\"out.wav\", wav.numpy(), 24000, \"PCM_16\")\n",
        "\n",
        "# Display the audio file below\n",
        "from IPython.display import display, Audio\n",
        "display(Audio(wav.view(-1).cpu().numpy(), rate=24000))"
      ],
      "metadata": {
        "id": "ftrSC8cZACsv",
        "colab": {
          "base_uri": "https://localhost:8080/",
          "height": 106
        },
        "outputId": "9fc5451b-a066-4c29-c298-22c22f6d86f3"
      },
      "execution_count": null,
      "outputs": [
        {
          "output_type": "stream",
          "name": "stderr",
          "text": [
            "/usr/local/lib/python3.7/dist-packages/ipykernel_launcher.py:4: UserWarning: __floordiv__ is deprecated, and its behavior will change in a future version of pytorch. It currently rounds toward 0 (like the 'trunc' function NOT 'floor'). This results in incorrect rounding for negative values. To keep the current behavior, use torch.div(a, b, rounding_mode='trunc'), or for actual floor division, use torch.div(a, b, rounding_mode='floor').\n",
            "  after removing the cwd from sys.path.\n"
          ]
        },
        {
          "output_type": "display_data",
          "data": {
            "text/plain": [
              "<IPython.lib.display.Audio object>"
            ],
            "text/html": [
              "\n",
              "                <audio  controls=\"controls\" >\n",
              "                    <source src=\"data:audio/wav;base64,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\" type=\"audio/wav\" />\n",
              "                    Your browser does not support the audio element.\n",
              "                </audio>\n",
              "              "
            ]
          },
          "metadata": {}
        }
      ]
    },
    {
      "cell_type": "code",
      "source": [
        "text2speech.vocoder.remove_edits()"
      ],
      "metadata": {
        "id": "AuKV2b-ZmkWK"
      },
      "execution_count": null,
      "outputs": []
    },
    {
      "cell_type": "code",
      "source": [
        "x = \"Please call Stella.  Ask her too.\"\n",
        "# __call__\n",
        "wav = text2speech(x, spembs=spembs)[\"wav\"]\n",
        "# print(text2speech(x, spembs=spembs)[\"feat_gen\"].shape)\n",
        "# print(text2speech(x, spembs=spembs)[\"feat_gen_denorm\"].shape)\n",
        "\n",
        "sf.write(\"out.wav\", wav.numpy(), 24000, \"PCM_16\")\n",
        "\n",
        "# Display the audio file below\n",
        "from IPython.display import display, Audio\n",
        "display(Audio(wav.view(-1).cpu().numpy(), rate=24000))"
      ],
      "metadata": {
        "id": "TFfWv6gXAbQJ",
        "colab": {
          "base_uri": "https://localhost:8080/",
          "height": 52
        },
        "outputId": "0c3cef4b-6fb1-48b4-b2be-c3b1f9c6e8ee"
      },
      "execution_count": null,
      "outputs": [
        {
          "output_type": "display_data",
          "data": {
            "text/plain": [
              "<IPython.lib.display.Audio object>"
            ],
            "text/html": [
              "\n",
              "                <audio  controls=\"controls\" >\n",
              "                    <source src=\"data:audio/wav;base64,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\" type=\"audio/wav\" />\n",
              "                    Your browser does not support the audio element.\n",
              "                </audio>\n",
              "              "
            ]
          },
          "metadata": {}
        }
      ]
    },
    {
      "cell_type": "code",
      "source": [
        "# testing the units had chage to e.g. 1 when we edited them using our new function\n",
        "text2speech.vocoder.retained_layer(layer)[0][30][500:520]"
      ],
      "metadata": {
        "colab": {
          "base_uri": "https://localhost:8080/"
        },
        "id": "hbvx656gE_vX",
        "outputId": "bb198a42-563b-4b4e-834b-cd2ec0379e85"
      },
      "execution_count": null,
      "outputs": [
        {
          "output_type": "execute_result",
          "data": {
            "text/plain": [
              "tensor([1.2840, 1.4238, 1.3848, 1.6113, 1.3814, 1.5934, 1.3483, 1.4226, 1.4910,\n",
              "        1.5604, 1.4348, 1.5434, 1.4218, 1.4007, 1.4654, 1.6396, 1.3522, 1.4603,\n",
              "        1.4629, 1.5300])"
            ]
          },
          "metadata": {},
          "execution_count": 35
        }
      ]
    },
    {
      "cell_type": "code",
      "source": [
        "text2speech.vocoder.retained_layer(layer).shape"
      ],
      "metadata": {
        "id": "HK2UBTWrFbQ9",
        "colab": {
          "base_uri": "https://localhost:8080/"
        },
        "outputId": "d623fd40-8df2-48f3-edc5-3e49115ad312"
      },
      "execution_count": null,
      "outputs": [
        {
          "output_type": "execute_result",
          "data": {
            "text/plain": [
              "torch.Size([1, 64, 10000])"
            ]
          },
          "metadata": {},
          "execution_count": 36
        }
      ]
    },
    {
      "cell_type": "code",
      "source": [
        "import librosa\n",
        "\n",
        "# librosa.feature.mfcc(y=y, sr=sr)\n",
        "\n"
      ],
      "metadata": {
        "id": "BmkuEayi6cWG"
      },
      "execution_count": null,
      "outputs": []
    }
  ]
}