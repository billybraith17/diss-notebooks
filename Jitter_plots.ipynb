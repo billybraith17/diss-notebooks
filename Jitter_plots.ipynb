{
  "nbformat": 4,
  "nbformat_minor": 0,
  "metadata": {
    "colab": {
      "provenance": [],
      "machine_shape": "hm"
    },
    "kernelspec": {
      "name": "python3",
      "display_name": "Python 3"
    },
    "language_info": {
      "name": "python"
    },
    "gpuClass": "standard",
    "accelerator": "GPU"
  },
  "cells": [
    {
      "cell_type": "code",
      "source": [
        "pip install git+https://github.com/billybraith17/billiespnet"
      ],
      "metadata": {
        "id": "_CzJ2t3J0d45",
        "colab": {
          "base_uri": "https://localhost:8080/"
        },
        "outputId": "947928a0-93df-407a-e547-f2a3349ca573"
      },
      "execution_count": null,
      "outputs": [
        {
          "output_type": "stream",
          "name": "stdout",
          "text": [
            "Looking in indexes: https://pypi.org/simple, https://us-python.pkg.dev/colab-wheels/public/simple/\n",
            "Collecting git+https://github.com/billybraith17/billiespnet\n",
            "  Cloning https://github.com/billybraith17/billiespnet to /tmp/pip-req-build-t8e3zx09\n",
            "  Running command git clone -q https://github.com/billybraith17/billiespnet /tmp/pip-req-build-t8e3zx09\n",
            "  Running command git submodule update --init --recursive -q\n",
            "Requirement already satisfied: setuptools>=38.5.1 in /usr/local/lib/python3.7/dist-packages (from espnet==202205) (57.4.0)\n",
            "Requirement already satisfied: packaging in /usr/local/lib/python3.7/dist-packages (from espnet==202205) (21.3)\n",
            "Collecting configargparse>=1.2.1\n",
            "  Downloading ConfigArgParse-1.5.3-py3-none-any.whl (20 kB)\n",
            "Requirement already satisfied: typeguard>=2.7.0 in /usr/local/lib/python3.7/dist-packages (from espnet==202205) (2.7.1)\n",
            "Collecting humanfriendly\n",
            "  Downloading humanfriendly-10.0-py2.py3-none-any.whl (86 kB)\n",
            "\u001b[K     |████████████████████████████████| 86 kB 3.2 MB/s \n",
            "\u001b[?25hRequirement already satisfied: scipy>=1.4.1 in /usr/local/lib/python3.7/dist-packages (from espnet==202205) (1.7.3)\n",
            "Requirement already satisfied: filelock in /usr/local/lib/python3.7/dist-packages (from espnet==202205) (3.8.0)\n",
            "Requirement already satisfied: librosa>=0.8.0 in /usr/local/lib/python3.7/dist-packages (from espnet==202205) (0.8.1)\n",
            "Collecting jamo==0.4.1\n",
            "  Downloading jamo-0.4.1-py3-none-any.whl (9.5 kB)\n",
            "Requirement already satisfied: PyYAML>=5.1.2 in /usr/local/lib/python3.7/dist-packages (from espnet==202205) (6.0)\n",
            "Requirement already satisfied: soundfile>=0.10.2 in /usr/local/lib/python3.7/dist-packages (from espnet==202205) (0.10.3.post1)\n",
            "Requirement already satisfied: h5py>=2.10.0 in /usr/local/lib/python3.7/dist-packages (from espnet==202205) (3.1.0)\n",
            "Collecting kaldiio>=2.17.0\n",
            "  Downloading kaldiio-2.17.2.tar.gz (24 kB)\n",
            "Requirement already satisfied: torch>=1.3.0 in /usr/local/lib/python3.7/dist-packages (from espnet==202205) (1.12.1+cu113)\n",
            "Collecting torch_complex\n",
            "  Downloading torch_complex-0.4.3-py3-none-any.whl (9.1 kB)\n",
            "Requirement already satisfied: nltk>=3.4.5 in /usr/local/lib/python3.7/dist-packages (from espnet==202205) (3.7)\n",
            "Requirement already satisfied: protobuf<=3.20.1 in /usr/local/lib/python3.7/dist-packages (from espnet==202205) (3.17.3)\n",
            "Collecting sentencepiece\n",
            "  Downloading sentencepiece-0.1.97-cp37-cp37m-manylinux_2_17_x86_64.manylinux2014_x86_64.whl (1.3 MB)\n",
            "\u001b[K     |████████████████████████████████| 1.3 MB 31.7 MB/s \n",
            "\u001b[?25hCollecting ctc-segmentation<1.8,>=1.6.6\n",
            "  Downloading ctc_segmentation-1.7.3.tar.gz (73 kB)\n",
            "\u001b[K     |████████████████████████████████| 73 kB 2.5 MB/s \n",
            "\u001b[?25h  Installing build dependencies ... \u001b[?25l\u001b[?25hdone\n",
            "  Getting requirements to build wheel ... \u001b[?25l\u001b[?25hdone\n",
            "    Preparing wheel metadata ... \u001b[?25l\u001b[?25hdone\n",
            "Collecting pyworld>=0.2.10\n",
            "  Downloading pyworld-0.3.0.tar.gz (212 kB)\n",
            "\u001b[K     |████████████████████████████████| 212 kB 93.2 MB/s \n",
            "\u001b[?25h  Installing build dependencies ... \u001b[?25l\u001b[?25hdone\n",
            "  Getting requirements to build wheel ... \u001b[?25l\u001b[?25hdone\n",
            "    Preparing wheel metadata ... \u001b[?25l\u001b[?25hdone\n",
            "Collecting pypinyin<=0.44.0\n",
            "  Downloading pypinyin-0.44.0-py2.py3-none-any.whl (1.3 MB)\n",
            "\u001b[K     |████████████████████████████████| 1.3 MB 68.9 MB/s \n",
            "\u001b[?25hCollecting espnet_tts_frontend\n",
            "  Downloading espnet_tts_frontend-0.0.3-py3-none-any.whl (11 kB)\n",
            "Collecting ci_sdr\n",
            "  Downloading ci_sdr-0.0.0.tar.gz (15 kB)\n",
            "Collecting pytorch_wpe\n",
            "  Downloading pytorch_wpe-0.0.1-py3-none-any.whl (8.1 kB)\n",
            "Collecting fast-bss-eval==0.1.3\n",
            "  Downloading fast_bss_eval-0.1.3.tar.gz (33 kB)\n",
            "Requirement already satisfied: numpy in /usr/local/lib/python3.7/dist-packages (from fast-bss-eval==0.1.3->espnet==202205) (1.21.6)\n",
            "Requirement already satisfied: Cython in /usr/local/lib/python3.7/dist-packages (from ctc-segmentation<1.8,>=1.6.6->espnet==202205) (0.29.32)\n",
            "Requirement already satisfied: cached-property in /usr/local/lib/python3.7/dist-packages (from h5py>=2.10.0->espnet==202205) (1.5.2)\n",
            "Requirement already satisfied: decorator>=3.0.0 in /usr/local/lib/python3.7/dist-packages (from librosa>=0.8.0->espnet==202205) (4.4.2)\n",
            "Requirement already satisfied: joblib>=0.14 in /usr/local/lib/python3.7/dist-packages (from librosa>=0.8.0->espnet==202205) (1.1.0)\n",
            "Requirement already satisfied: resampy>=0.2.2 in /usr/local/lib/python3.7/dist-packages (from librosa>=0.8.0->espnet==202205) (0.4.0)\n",
            "Requirement already satisfied: numba>=0.43.0 in /usr/local/lib/python3.7/dist-packages (from librosa>=0.8.0->espnet==202205) (0.56.0)\n",
            "Requirement already satisfied: audioread>=2.0.0 in /usr/local/lib/python3.7/dist-packages (from librosa>=0.8.0->espnet==202205) (3.0.0)\n",
            "Requirement already satisfied: pooch>=1.0 in /usr/local/lib/python3.7/dist-packages (from librosa>=0.8.0->espnet==202205) (1.6.0)\n",
            "Requirement already satisfied: scikit-learn!=0.19.0,>=0.14.0 in /usr/local/lib/python3.7/dist-packages (from librosa>=0.8.0->espnet==202205) (1.0.2)\n",
            "Requirement already satisfied: click in /usr/local/lib/python3.7/dist-packages (from nltk>=3.4.5->espnet==202205) (7.1.2)\n",
            "Requirement already satisfied: tqdm in /usr/local/lib/python3.7/dist-packages (from nltk>=3.4.5->espnet==202205) (4.64.0)\n",
            "Requirement already satisfied: regex>=2021.8.3 in /usr/local/lib/python3.7/dist-packages (from nltk>=3.4.5->espnet==202205) (2022.6.2)\n",
            "Requirement already satisfied: importlib-metadata in /usr/local/lib/python3.7/dist-packages (from numba>=0.43.0->librosa>=0.8.0->espnet==202205) (4.12.0)\n",
            "Requirement already satisfied: llvmlite<0.40,>=0.39.0dev0 in /usr/local/lib/python3.7/dist-packages (from numba>=0.43.0->librosa>=0.8.0->espnet==202205) (0.39.0)\n",
            "Requirement already satisfied: pyparsing!=3.0.5,>=2.0.2 in /usr/local/lib/python3.7/dist-packages (from packaging->espnet==202205) (3.0.9)\n",
            "Requirement already satisfied: appdirs>=1.3.0 in /usr/local/lib/python3.7/dist-packages (from pooch>=1.0->librosa>=0.8.0->espnet==202205) (1.4.4)\n",
            "Requirement already satisfied: requests>=2.19.0 in /usr/local/lib/python3.7/dist-packages (from pooch>=1.0->librosa>=0.8.0->espnet==202205) (2.23.0)\n",
            "Requirement already satisfied: six>=1.9 in /usr/local/lib/python3.7/dist-packages (from protobuf<=3.20.1->espnet==202205) (1.15.0)\n",
            "Requirement already satisfied: chardet<4,>=3.0.2 in /usr/local/lib/python3.7/dist-packages (from requests>=2.19.0->pooch>=1.0->librosa>=0.8.0->espnet==202205) (3.0.4)\n",
            "Requirement already satisfied: idna<3,>=2.5 in /usr/local/lib/python3.7/dist-packages (from requests>=2.19.0->pooch>=1.0->librosa>=0.8.0->espnet==202205) (2.10)\n",
            "Requirement already satisfied: certifi>=2017.4.17 in /usr/local/lib/python3.7/dist-packages (from requests>=2.19.0->pooch>=1.0->librosa>=0.8.0->espnet==202205) (2022.6.15)\n",
            "Requirement already satisfied: urllib3!=1.25.0,!=1.25.1,<1.26,>=1.21.1 in /usr/local/lib/python3.7/dist-packages (from requests>=2.19.0->pooch>=1.0->librosa>=0.8.0->espnet==202205) (1.24.3)\n",
            "Requirement already satisfied: threadpoolctl>=2.0.0 in /usr/local/lib/python3.7/dist-packages (from scikit-learn!=0.19.0,>=0.14.0->librosa>=0.8.0->espnet==202205) (3.1.0)\n",
            "Requirement already satisfied: cffi>=1.0 in /usr/local/lib/python3.7/dist-packages (from soundfile>=0.10.2->espnet==202205) (1.15.1)\n",
            "Requirement already satisfied: pycparser in /usr/local/lib/python3.7/dist-packages (from cffi>=1.0->soundfile>=0.10.2->espnet==202205) (2.21)\n",
            "Requirement already satisfied: typing-extensions in /usr/local/lib/python3.7/dist-packages (from torch>=1.3.0->espnet==202205) (4.1.1)\n",
            "Collecting einops\n",
            "  Downloading einops-0.4.1-py3-none-any.whl (28 kB)\n",
            "Collecting unidecode>=1.0.22\n",
            "  Downloading Unidecode-1.3.4-py3-none-any.whl (235 kB)\n",
            "\u001b[K     |████████████████████████████████| 235 kB 98.7 MB/s \n",
            "\u001b[?25hCollecting g2p-en\n",
            "  Downloading g2p_en-2.1.0-py3-none-any.whl (3.1 MB)\n",
            "\u001b[K     |████████████████████████████████| 3.1 MB 87.9 MB/s \n",
            "\u001b[?25hCollecting jaconv\n",
            "  Downloading jaconv-0.3.tar.gz (15 kB)\n",
            "Requirement already satisfied: inflect>=1.0.0 in /usr/local/lib/python3.7/dist-packages (from espnet_tts_frontend->espnet==202205) (2.1.0)\n",
            "Collecting distance>=0.1.3\n",
            "  Downloading Distance-0.1.3.tar.gz (180 kB)\n",
            "\u001b[K     |████████████████████████████████| 180 kB 89.5 MB/s \n",
            "\u001b[?25hRequirement already satisfied: zipp>=0.5 in /usr/local/lib/python3.7/dist-packages (from importlib-metadata->numba>=0.43.0->librosa>=0.8.0->espnet==202205) (3.8.1)\n",
            "Building wheels for collected packages: espnet, fast-bss-eval, ctc-segmentation, kaldiio, pyworld, ci-sdr, distance, jaconv\n",
            "  Building wheel for espnet (setup.py) ... \u001b[?25l\u001b[?25hdone\n",
            "  Created wheel for espnet: filename=espnet-202205-py3-none-any.whl size=1089462 sha256=25fa7250f498344f3215c45a5e6524cd4c043d3b23650da35b13758c46b19437\n",
            "  Stored in directory: /tmp/pip-ephem-wheel-cache-hfs5f7lq/wheels/da/3c/cd/c9ce49d39e91d2dd024f37100d25b8baa41d1bdac6c844a86c\n",
            "  Building wheel for fast-bss-eval (setup.py) ... \u001b[?25l\u001b[?25hdone\n",
            "  Created wheel for fast-bss-eval: filename=fast_bss_eval-0.1.3-py3-none-any.whl size=44261 sha256=a701036af688ed3e4b7d6e65140230cdb63f3405d9101e538cfd99cfd22f64aa\n",
            "  Stored in directory: /root/.cache/pip/wheels/45/38/82/6507c8f1765284b45fac38f334621435b633499f27c813e3f1\n",
            "  Building wheel for ctc-segmentation (PEP 517) ... \u001b[?25l\u001b[?25hdone\n",
            "  Created wheel for ctc-segmentation: filename=ctc_segmentation-1.7.3-cp37-cp37m-linux_x86_64.whl size=116125 sha256=015dfcce2587be45eaca226f198e7517238d5853b2f5f19cfdab77d298ee9c7d\n",
            "  Stored in directory: /root/.cache/pip/wheels/ea/75/dd/20a877c8ca5efbf5f19d9ff1cfd5c7e0934f55b70aec99f795\n",
            "  Building wheel for kaldiio (setup.py) ... \u001b[?25l\u001b[?25hdone\n",
            "  Created wheel for kaldiio: filename=kaldiio-2.17.2-py3-none-any.whl size=24471 sha256=d8a74b4064307e15682e833d4ed05aa877dca715c831c1b20ef5be5ce7c4cc17\n",
            "  Stored in directory: /root/.cache/pip/wheels/04/07/e8/45641287c59bf6ce41e22259f8680b521c31e6306cb88392ac\n",
            "  Building wheel for pyworld (PEP 517) ... \u001b[?25l\u001b[?25hdone\n",
            "  Created wheel for pyworld: filename=pyworld-0.3.0-cp37-cp37m-linux_x86_64.whl size=609489 sha256=77618d97dacf3ec00be3de89d22d4ec3aaeeba415c10ab63f56b24a85d655664\n",
            "  Stored in directory: /root/.cache/pip/wheels/e7/7c/11/c775fffa0e1e7b05a6604b4323408a77f80fb4ab304d96b5c6\n",
            "  Building wheel for ci-sdr (setup.py) ... \u001b[?25l\u001b[?25hdone\n",
            "  Created wheel for ci-sdr: filename=ci_sdr-0.0.0-py3-none-any.whl size=14979 sha256=4f816dd0bdd60f51182a20681b4dd2c5251c32971af33b92e2d2f2e13c1d179e\n",
            "  Stored in directory: /root/.cache/pip/wheels/5f/38/80/2c54c1a4d62cbd3e0871eac9bb5dbb1f93257423888a4ae0ce\n",
            "  Building wheel for distance (setup.py) ... \u001b[?25l\u001b[?25hdone\n",
            "  Created wheel for distance: filename=Distance-0.1.3-py3-none-any.whl size=16276 sha256=3a707285a9378aa19773d592ebe7860410b0b2059443583511ba74f1fd385249\n",
            "  Stored in directory: /root/.cache/pip/wheels/b2/10/1b/96fca621a1be378e2fe104cfb0d160bb6cdf3d04a3d35266cc\n",
            "  Building wheel for jaconv (setup.py) ... \u001b[?25l\u001b[?25hdone\n",
            "  Created wheel for jaconv: filename=jaconv-0.3-py3-none-any.whl size=15564 sha256=4aeb81ccacda19d57cb2f362a831d460388bd77174963ba564f476463c198f50\n",
            "  Stored in directory: /root/.cache/pip/wheels/8f/4f/c2/a2a3b14d0e94f855f4aa8887bf0267bee9ecfb8e62a9ee2d92\n",
            "Successfully built espnet fast-bss-eval ctc-segmentation kaldiio pyworld ci-sdr distance jaconv\n",
            "Installing collected packages: distance, unidecode, pypinyin, jaconv, g2p-en, einops, torch-complex, sentencepiece, pyworld, pytorch-wpe, kaldiio, jamo, humanfriendly, fast-bss-eval, espnet-tts-frontend, ctc-segmentation, configargparse, ci-sdr, espnet\n",
            "Successfully installed ci-sdr-0.0.0 configargparse-1.5.3 ctc-segmentation-1.7.3 distance-0.1.3 einops-0.4.1 espnet-202205 espnet-tts-frontend-0.0.3 fast-bss-eval-0.1.3 g2p-en-2.1.0 humanfriendly-10.0 jaconv-0.3 jamo-0.4.1 kaldiio-2.17.2 pypinyin-0.44.0 pytorch-wpe-0.0.1 pyworld-0.3.0 sentencepiece-0.1.97 torch-complex-0.4.3 unidecode-1.3.4\n"
          ]
        }
      ]
    },
    {
      "cell_type": "code",
      "execution_count": null,
      "metadata": {
        "id": "RvNwM0Ecg4ac",
        "colab": {
          "base_uri": "https://localhost:8080/"
        },
        "outputId": "63e130de-dd2c-4cb6-c58b-3dfb00b0009e"
      },
      "outputs": [
        {
          "output_type": "stream",
          "name": "stdout",
          "text": [
            "Looking in indexes: https://pypi.org/simple, https://us-python.pkg.dev/colab-wheels/public/simple/\n",
            "Requirement already satisfied: torch in /usr/local/lib/python3.7/dist-packages (1.12.1+cu113)\n",
            "Requirement already satisfied: espnet in /usr/local/lib/python3.7/dist-packages (202205)\n",
            "Collecting espnet_model_zoo\n",
            "  Downloading espnet_model_zoo-0.1.7-py3-none-any.whl (19 kB)\n",
            "Collecting parallel_wavegan==0.5.4\n",
            "  Downloading parallel_wavegan-0.5.4.tar.gz (68 kB)\n",
            "\u001b[K     |████████████████████████████████| 68 kB 3.8 MB/s \n",
            "\u001b[?25hRequirement already satisfied: setuptools>=38.5.1 in /usr/local/lib/python3.7/dist-packages (from parallel_wavegan==0.5.4) (57.4.0)\n",
            "Requirement already satisfied: librosa>=0.8.0 in /usr/local/lib/python3.7/dist-packages (from parallel_wavegan==0.5.4) (0.8.1)\n",
            "Requirement already satisfied: soundfile>=0.10.2 in /usr/local/lib/python3.7/dist-packages (from parallel_wavegan==0.5.4) (0.10.3.post1)\n",
            "Collecting tensorboardX>=1.8\n",
            "  Downloading tensorboardX-2.5.1-py2.py3-none-any.whl (125 kB)\n",
            "\u001b[K     |████████████████████████████████| 125 kB 10.5 MB/s \n",
            "\u001b[?25hRequirement already satisfied: matplotlib>=3.1.0 in /usr/local/lib/python3.7/dist-packages (from parallel_wavegan==0.5.4) (3.2.2)\n",
            "Requirement already satisfied: PyYAML>=3.12 in /usr/local/lib/python3.7/dist-packages (from parallel_wavegan==0.5.4) (6.0)\n",
            "Requirement already satisfied: tqdm>=4.26.1 in /usr/local/lib/python3.7/dist-packages (from parallel_wavegan==0.5.4) (4.64.0)\n",
            "Requirement already satisfied: kaldiio>=2.14.1 in /usr/local/lib/python3.7/dist-packages (from parallel_wavegan==0.5.4) (2.17.2)\n",
            "Requirement already satisfied: h5py>=2.9.0 in /usr/local/lib/python3.7/dist-packages (from parallel_wavegan==0.5.4) (3.1.0)\n",
            "Collecting yq>=2.10.0\n",
            "  Downloading yq-3.1.0-py3-none-any.whl (17 kB)\n",
            "Requirement already satisfied: gdown in /usr/local/lib/python3.7/dist-packages (from parallel_wavegan==0.5.4) (4.4.0)\n",
            "Requirement already satisfied: filelock in /usr/local/lib/python3.7/dist-packages (from parallel_wavegan==0.5.4) (3.8.0)\n",
            "Requirement already satisfied: typing-extensions in /usr/local/lib/python3.7/dist-packages (from torch) (4.1.1)\n",
            "Requirement already satisfied: numpy>=1.14.5 in /usr/local/lib/python3.7/dist-packages (from h5py>=2.9.0->parallel_wavegan==0.5.4) (1.21.6)\n",
            "Requirement already satisfied: cached-property in /usr/local/lib/python3.7/dist-packages (from h5py>=2.9.0->parallel_wavegan==0.5.4) (1.5.2)\n",
            "Requirement already satisfied: audioread>=2.0.0 in /usr/local/lib/python3.7/dist-packages (from librosa>=0.8.0->parallel_wavegan==0.5.4) (3.0.0)\n",
            "Requirement already satisfied: decorator>=3.0.0 in /usr/local/lib/python3.7/dist-packages (from librosa>=0.8.0->parallel_wavegan==0.5.4) (4.4.2)\n",
            "Requirement already satisfied: resampy>=0.2.2 in /usr/local/lib/python3.7/dist-packages (from librosa>=0.8.0->parallel_wavegan==0.5.4) (0.4.0)\n",
            "Requirement already satisfied: packaging>=20.0 in /usr/local/lib/python3.7/dist-packages (from librosa>=0.8.0->parallel_wavegan==0.5.4) (21.3)\n",
            "Requirement already satisfied: scipy>=1.0.0 in /usr/local/lib/python3.7/dist-packages (from librosa>=0.8.0->parallel_wavegan==0.5.4) (1.7.3)\n",
            "Requirement already satisfied: pooch>=1.0 in /usr/local/lib/python3.7/dist-packages (from librosa>=0.8.0->parallel_wavegan==0.5.4) (1.6.0)\n",
            "Requirement already satisfied: scikit-learn!=0.19.0,>=0.14.0 in /usr/local/lib/python3.7/dist-packages (from librosa>=0.8.0->parallel_wavegan==0.5.4) (1.0.2)\n",
            "Requirement already satisfied: joblib>=0.14 in /usr/local/lib/python3.7/dist-packages (from librosa>=0.8.0->parallel_wavegan==0.5.4) (1.1.0)\n",
            "Requirement already satisfied: numba>=0.43.0 in /usr/local/lib/python3.7/dist-packages (from librosa>=0.8.0->parallel_wavegan==0.5.4) (0.56.0)\n",
            "Requirement already satisfied: pyparsing!=2.0.4,!=2.1.2,!=2.1.6,>=2.0.1 in /usr/local/lib/python3.7/dist-packages (from matplotlib>=3.1.0->parallel_wavegan==0.5.4) (3.0.9)\n",
            "Requirement already satisfied: kiwisolver>=1.0.1 in /usr/local/lib/python3.7/dist-packages (from matplotlib>=3.1.0->parallel_wavegan==0.5.4) (1.4.4)\n",
            "Requirement already satisfied: cycler>=0.10 in /usr/local/lib/python3.7/dist-packages (from matplotlib>=3.1.0->parallel_wavegan==0.5.4) (0.11.0)\n",
            "Requirement already satisfied: python-dateutil>=2.1 in /usr/local/lib/python3.7/dist-packages (from matplotlib>=3.1.0->parallel_wavegan==0.5.4) (2.8.2)\n",
            "Requirement already satisfied: importlib-metadata in /usr/local/lib/python3.7/dist-packages (from numba>=0.43.0->librosa>=0.8.0->parallel_wavegan==0.5.4) (4.12.0)\n",
            "Requirement already satisfied: llvmlite<0.40,>=0.39.0dev0 in /usr/local/lib/python3.7/dist-packages (from numba>=0.43.0->librosa>=0.8.0->parallel_wavegan==0.5.4) (0.39.0)\n",
            "Requirement already satisfied: requests>=2.19.0 in /usr/local/lib/python3.7/dist-packages (from pooch>=1.0->librosa>=0.8.0->parallel_wavegan==0.5.4) (2.23.0)\n",
            "Requirement already satisfied: appdirs>=1.3.0 in /usr/local/lib/python3.7/dist-packages (from pooch>=1.0->librosa>=0.8.0->parallel_wavegan==0.5.4) (1.4.4)\n",
            "Requirement already satisfied: six>=1.5 in /usr/local/lib/python3.7/dist-packages (from python-dateutil>=2.1->matplotlib>=3.1.0->parallel_wavegan==0.5.4) (1.15.0)\n",
            "Requirement already satisfied: chardet<4,>=3.0.2 in /usr/local/lib/python3.7/dist-packages (from requests>=2.19.0->pooch>=1.0->librosa>=0.8.0->parallel_wavegan==0.5.4) (3.0.4)\n",
            "Requirement already satisfied: urllib3!=1.25.0,!=1.25.1,<1.26,>=1.21.1 in /usr/local/lib/python3.7/dist-packages (from requests>=2.19.0->pooch>=1.0->librosa>=0.8.0->parallel_wavegan==0.5.4) (1.24.3)\n",
            "Requirement already satisfied: certifi>=2017.4.17 in /usr/local/lib/python3.7/dist-packages (from requests>=2.19.0->pooch>=1.0->librosa>=0.8.0->parallel_wavegan==0.5.4) (2022.6.15)\n",
            "Requirement already satisfied: idna<3,>=2.5 in /usr/local/lib/python3.7/dist-packages (from requests>=2.19.0->pooch>=1.0->librosa>=0.8.0->parallel_wavegan==0.5.4) (2.10)\n",
            "Requirement already satisfied: threadpoolctl>=2.0.0 in /usr/local/lib/python3.7/dist-packages (from scikit-learn!=0.19.0,>=0.14.0->librosa>=0.8.0->parallel_wavegan==0.5.4) (3.1.0)\n",
            "Requirement already satisfied: cffi>=1.0 in /usr/local/lib/python3.7/dist-packages (from soundfile>=0.10.2->parallel_wavegan==0.5.4) (1.15.1)\n",
            "Requirement already satisfied: pycparser in /usr/local/lib/python3.7/dist-packages (from cffi>=1.0->soundfile>=0.10.2->parallel_wavegan==0.5.4) (2.21)\n",
            "Requirement already satisfied: protobuf<=3.20.1,>=3.8.0 in /usr/local/lib/python3.7/dist-packages (from tensorboardX>=1.8->parallel_wavegan==0.5.4) (3.17.3)\n",
            "Requirement already satisfied: toml>=0.10.0 in /usr/local/lib/python3.7/dist-packages (from yq>=2.10.0->parallel_wavegan==0.5.4) (0.10.2)\n",
            "Collecting xmltodict>=0.11.0\n",
            "  Downloading xmltodict-0.13.0-py2.py3-none-any.whl (10.0 kB)\n",
            "Collecting argcomplete>=1.8.1\n",
            "  Downloading argcomplete-2.0.0-py2.py3-none-any.whl (37 kB)\n",
            "Requirement already satisfied: zipp>=0.5 in /usr/local/lib/python3.7/dist-packages (from importlib-metadata->numba>=0.43.0->librosa>=0.8.0->parallel_wavegan==0.5.4) (3.8.1)\n",
            "Requirement already satisfied: pypinyin<=0.44.0 in /usr/local/lib/python3.7/dist-packages (from espnet) (0.44.0)\n",
            "Requirement already satisfied: nltk>=3.4.5 in /usr/local/lib/python3.7/dist-packages (from espnet) (3.7)\n",
            "Requirement already satisfied: espnet-tts-frontend in /usr/local/lib/python3.7/dist-packages (from espnet) (0.0.3)\n",
            "Requirement already satisfied: humanfriendly in /usr/local/lib/python3.7/dist-packages (from espnet) (10.0)\n",
            "Requirement already satisfied: configargparse>=1.2.1 in /usr/local/lib/python3.7/dist-packages (from espnet) (1.5.3)\n",
            "Requirement already satisfied: pyworld>=0.2.10 in /usr/local/lib/python3.7/dist-packages (from espnet) (0.3.0)\n",
            "Requirement already satisfied: ctc-segmentation<1.8,>=1.6.6 in /usr/local/lib/python3.7/dist-packages (from espnet) (1.7.3)\n",
            "Requirement already satisfied: ci-sdr in /usr/local/lib/python3.7/dist-packages (from espnet) (0.0.0)\n",
            "Requirement already satisfied: torch-complex in /usr/local/lib/python3.7/dist-packages (from espnet) (0.4.3)\n",
            "Requirement already satisfied: sentencepiece in /usr/local/lib/python3.7/dist-packages (from espnet) (0.1.97)\n",
            "Requirement already satisfied: fast-bss-eval==0.1.3 in /usr/local/lib/python3.7/dist-packages (from espnet) (0.1.3)\n",
            "Requirement already satisfied: pytorch-wpe in /usr/local/lib/python3.7/dist-packages (from espnet) (0.0.1)\n",
            "Requirement already satisfied: typeguard>=2.7.0 in /usr/local/lib/python3.7/dist-packages (from espnet) (2.7.1)\n",
            "Requirement already satisfied: jamo==0.4.1 in /usr/local/lib/python3.7/dist-packages (from espnet) (0.4.1)\n",
            "Requirement already satisfied: Cython in /usr/local/lib/python3.7/dist-packages (from ctc-segmentation<1.8,>=1.6.6->espnet) (0.29.32)\n",
            "Requirement already satisfied: click in /usr/local/lib/python3.7/dist-packages (from nltk>=3.4.5->espnet) (7.1.2)\n",
            "Requirement already satisfied: regex>=2021.8.3 in /usr/local/lib/python3.7/dist-packages (from nltk>=3.4.5->espnet) (2022.6.2)\n",
            "Collecting huggingface-hub\n",
            "  Downloading huggingface_hub-0.9.1-py3-none-any.whl (120 kB)\n",
            "\u001b[K     |████████████████████████████████| 120 kB 56.1 MB/s \n",
            "\u001b[?25hRequirement already satisfied: pandas in /usr/local/lib/python3.7/dist-packages (from espnet_model_zoo) (1.3.5)\n",
            "Requirement already satisfied: einops in /usr/local/lib/python3.7/dist-packages (from ci-sdr->espnet) (0.4.1)\n",
            "Requirement already satisfied: inflect>=1.0.0 in /usr/local/lib/python3.7/dist-packages (from espnet-tts-frontend->espnet) (2.1.0)\n",
            "Requirement already satisfied: g2p-en in /usr/local/lib/python3.7/dist-packages (from espnet-tts-frontend->espnet) (2.1.0)\n",
            "Requirement already satisfied: jaconv in /usr/local/lib/python3.7/dist-packages (from espnet-tts-frontend->espnet) (0.3)\n",
            "Requirement already satisfied: unidecode>=1.0.22 in /usr/local/lib/python3.7/dist-packages (from espnet-tts-frontend->espnet) (1.3.4)\n",
            "Requirement already satisfied: distance>=0.1.3 in /usr/local/lib/python3.7/dist-packages (from g2p-en->espnet-tts-frontend->espnet) (0.1.3)\n",
            "Requirement already satisfied: beautifulsoup4 in /usr/local/lib/python3.7/dist-packages (from gdown->parallel_wavegan==0.5.4) (4.6.3)\n",
            "Requirement already satisfied: pytz>=2017.3 in /usr/local/lib/python3.7/dist-packages (from pandas->espnet_model_zoo) (2022.2.1)\n",
            "Requirement already satisfied: PySocks!=1.5.7,>=1.5.6 in /usr/local/lib/python3.7/dist-packages (from requests>=2.19.0->pooch>=1.0->librosa>=0.8.0->parallel_wavegan==0.5.4) (1.7.1)\n",
            "Building wheels for collected packages: parallel-wavegan\n",
            "  Building wheel for parallel-wavegan (setup.py) ... \u001b[?25l\u001b[?25hdone\n",
            "  Created wheel for parallel-wavegan: filename=parallel_wavegan-0.5.4-py3-none-any.whl size=71010 sha256=c6a15d2a350dd3e6312c35e4b3b52fba512a7f734f8f46681ce17afc329682e2\n",
            "  Stored in directory: /root/.cache/pip/wheels/5e/76/4d/8d938995675ca8cc9352214c9f23c57a505fe3bcd46ce3b138\n",
            "Successfully built parallel-wavegan\n",
            "Installing collected packages: xmltodict, argcomplete, yq, tensorboardX, huggingface-hub, parallel-wavegan, espnet-model-zoo\n",
            "Successfully installed argcomplete-2.0.0 espnet-model-zoo-0.1.7 huggingface-hub-0.9.1 parallel-wavegan-0.5.4 tensorboardX-2.5.1 xmltodict-0.13.0 yq-3.1.0\n"
          ]
        }
      ],
      "source": [
        "pip install torch espnet espnet_model_zoo parallel_wavegan==0.5.4"
      ]
    },
    {
      "cell_type": "code",
      "source": [
        "%%bash\n",
        "!(stat -t /usr/local/lib/*/dist-packages/google/colab > /dev/null 2>&1) && exit\n",
        "pip install ninja 2>> install.log\n",
        "git clone https://github.com/SIDN-IAP/global-model-repr.git tutorial_code 2>> install.log\n",
        "# git clone https://github.com/billybraith17/global-model-repr.git tutorial_code 2>> install.log"
      ],
      "metadata": {
        "id": "VxIZkC-7keAd",
        "colab": {
          "base_uri": "https://localhost:8080/"
        },
        "outputId": "c9a754de-2f98-40b4-bab1-b5c84ec4a28f"
      },
      "execution_count": null,
      "outputs": [
        {
          "output_type": "stream",
          "name": "stdout",
          "text": [
            "Looking in indexes: https://pypi.org/simple, https://us-python.pkg.dev/colab-wheels/public/simple/\n",
            "Collecting ninja\n",
            "  Downloading ninja-1.10.2.3-py2.py3-none-manylinux_2_5_x86_64.manylinux1_x86_64.whl (108 kB)\n",
            "Installing collected packages: ninja\n",
            "Successfully installed ninja-1.10.2.3\n"
          ]
        }
      ]
    },
    {
      "cell_type": "code",
      "source": [
        "try: # set up path\n",
        "    import google.colab, sys, torch\n",
        "    sys.path.append('/content/tutorial_code')\n",
        "    if not torch.cuda.is_available():\n",
        "        print(\"Change runtime type to include a GPU.\")\n",
        "except:\n",
        "    pass"
      ],
      "metadata": {
        "id": "ZzQNB5nikhAC"
      },
      "execution_count": null,
      "outputs": []
    },
    {
      "cell_type": "code",
      "source": [
        "%matplotlib inline\n",
        "import matplotlib.pyplot as plt\n",
        "import matplotlib as mpl"
      ],
      "metadata": {
        "id": "mhOKz_lMOAmD"
      },
      "execution_count": null,
      "outputs": []
    },
    {
      "cell_type": "code",
      "source": [
        "import torch\n",
        "\n",
        "device = torch.device('cuda' if torch.cuda.is_available() else 'cpu')\n",
        "print('Running pytorch', torch.__version__, 'using', device.type)"
      ],
      "metadata": {
        "id": "4V4F8d3OOK6g",
        "colab": {
          "base_uri": "https://localhost:8080/"
        },
        "outputId": "942726cd-a9c9-40b7-d4d0-243d1c616f27"
      },
      "execution_count": null,
      "outputs": [
        {
          "output_type": "stream",
          "name": "stdout",
          "text": [
            "Running pytorch 1.12.1+cu113 using cuda\n"
          ]
        }
      ]
    },
    {
      "cell_type": "code",
      "source": [
        "import torchvision\n",
        "import torch.hub\n",
        "\n",
        "# using the global-model-repr package\n",
        "from netdissect import nethook, proggan"
      ],
      "metadata": {
        "id": "7EfUeMRoOO1N"
      },
      "execution_count": null,
      "outputs": []
    },
    {
      "cell_type": "code",
      "source": [
        "# def from_pretrained2(\n",
        "#     model_tag: Optional[str] = None,\n",
        "#     vocoder_tag: Optional[str] = None,\n",
        "#     **kwargs: Optional[Any],\n",
        "# ):\n",
        "\"\"\"Build Text2Speech instance from the pretrained model.\n",
        "Args:\n",
        "    model_tag (Optional[str]): Model tag of the pretrained models.\n",
        "        Currently, the tags of espnet_model_zoo are supported.\n",
        "    vocoder_tag (Optional[str]): Vocoder tag of the pretrained vocoders.\n",
        "        Currently, the tags of parallel_wavegan are supported, which should\n",
        "        start with the prefix \"parallel_wavegan/\".\n",
        "Returns:\n",
        "    Text2Speech: Text2Speech instance.\n",
        "\"\"\"\n",
        "\n",
        "from espnet2.bin.tts_inference import Text2Speech\n",
        "\n",
        "model_tag = 'kan-bayashi/vctk_xvector_conformer_fastspeech2' #@param [\"kan-bayashi/vctk_gst_tacotron2\", \"kan-bayashi/vctk_gst_transformer\", \"kan-bayashi/vctk_xvector_tacotron2\", \"kan-bayashi/vctk_xvector_transformer\", \"kan-bayashi/vctk_xvector_conformer_fastspeech2\", \"kan-bayashi/vctk_gst+xvector_tacotron2\", \"kan-bayashi/vctk_gst+xvector_transformer\", \"kan-bayashi/vctk_gst+xvector_conformer_fastspeech2\", \"kan-bayashi/vctk_multi_spk_vits\", \"kan-bayashi/vctk_full_band_multi_spk_vits\", \"kan-bayashi/libritts_xvector_transformer\", \"kan-bayashi/libritts_xvector_conformer_fastspeech2\", \"kan-bayashi/libritts_gst+xvector_transformer\", \"kan-bayashi/libritts_gst+xvector_conformer_fastspeech2\", \"kan-bayashi/libritts_xvector_vits\"] {type:\"string\"}\n",
        "vocoder_tag = \"parallel_wavegan/vctk_hifigan.v1\"  #@param [\"none\", \"parallel_wavegan/vctk_parallel_wavegan.v1.long\", \"parallel_wavegan/vctk_multi_band_melgan.v2\", \"parallel_wavegan/vctk_style_melgan.v1\", \"parallel_wavegan/vctk_hifigan.v1\", \"parallel_wavegan/libritts_parallel_wavegan.v1.long\", \"parallel_wavegan/libritts_multi_band_melgan.v2\", \"parallel_wavegan/libritts_hifigan.v1\", \"parallel_wavegan/libritts_style_melgan.v1\"] {type:\"string\"}\n",
        "kwargs = {\n",
        "    # Only for Tacotron 2 & Transformer\n",
        "    \"threshold\" : 0.5,\n",
        "    # Only for Tacotron 2\n",
        "    \"minlenratio\" : 0.0,\n",
        "    \"maxlenratio\" : 10.0,\n",
        "    \"use_att_constraint\" : False,\n",
        "    \"backward_window\" : 1,\n",
        "    \"forward_window\" : 3,\n",
        "    # Only for FastSpeech & FastSpeech2 & VITS\n",
        "    \"speed_control_alpha\" : 1.0,\n",
        "    # Only for VITS\n",
        "    \"noise_scale\" : 0.333,\n",
        "    \"noise_scale_dur\" : 0.333,\n",
        "}\n",
        "\n",
        "# print(kwargs[\"noise_scale\"])\n",
        "# model_tag: Optional[str] = None\n",
        "# vocoder_tag: Optional[str] = None\n",
        "# **kwargs: Optional[Any]\n",
        "\n",
        "\n",
        "if model_tag is not None:\n",
        "    try:\n",
        "        from espnet_model_zoo.downloader import ModelDownloader\n",
        "\n",
        "    except ImportError:\n",
        "        logging.error(\n",
        "            \"`espnet_model_zoo` is not installed. \"\n",
        "            \"Please install via `pip install -U espnet_model_zoo`.\"\n",
        "        )\n",
        "        raise\n",
        "    d = ModelDownloader()\n",
        "    kwargs.update(**d.download_and_unpack(model_tag))\n",
        "\n",
        "if vocoder_tag is not None:\n",
        "    if vocoder_tag.startswith(\"parallel_wavegan/\"):\n",
        "        try:\n",
        "            from parallel_wavegan.utils import download_pretrained_model\n",
        "\n",
        "        except ImportError:\n",
        "            logging.error(\n",
        "                \"`parallel_wavegan` is not installed. \"\n",
        "                \"Please install via `pip install -U parallel_wavegan`.\"\n",
        "            )\n",
        "            raise\n",
        "\n",
        "        from parallel_wavegan import __version__\n",
        "        from packaging.version import parse as V\n",
        "        from pathlib import Path\n",
        "\n",
        "        # NOTE(kan-bayashi): Filelock download is supported from 0.5.2\n",
        "        assert V(__version__) > V(\"0.5.1\"), (\n",
        "            \"Please install the latest parallel_wavegan \"\n",
        "            \"via `pip install -U parallel_wavegan`.\"\n",
        "        )\n",
        "        vocoder_tag = vocoder_tag.replace(\"parallel_wavegan/\", \"\")\n",
        "        vocoder_file = download_pretrained_model(vocoder_tag)\n",
        "        vocoder_config = Path(vocoder_file).parent / \"config.yml\"\n",
        "        kwargs.update(vocoder_config=vocoder_config, vocoder_file=vocoder_file)\n",
        "\n",
        "    else:\n",
        "        raise ValueError(f\"{vocoder_tag} is unsupported format.\")\n",
        "\n",
        "# __init__\n",
        "text2speech = Text2Speech(**kwargs)"
      ],
      "metadata": {
        "id": "46CeL7EIlN7C",
        "colab": {
          "base_uri": "https://localhost:8080/"
        },
        "outputId": "197ddde1-6f1b-4e4a-c332-1db8535ef961"
      },
      "execution_count": null,
      "outputs": [
        {
          "output_type": "stream",
          "name": "stderr",
          "text": [
            "[nltk_data] Downloading package averaged_perceptron_tagger to\n",
            "[nltk_data]     /root/nltk_data...\n",
            "[nltk_data]   Unzipping taggers/averaged_perceptron_tagger.zip.\n",
            "[nltk_data] Downloading package cmudict to /root/nltk_data...\n",
            "[nltk_data]   Unzipping corpora/cmudict.zip.\n",
            "https://zenodo.org/record/4394602/files/tts_train_xvector_conformer_fastspeech2_transformer_teacher_raw_phn_tacotron_g2p_en_no_space_train.loss.ave.zip?download=1: 100%|██████████| 270M/270M [00:48<00:00, 5.82MB/s]\n",
            "Downloading...\n",
            "From: https://drive.google.com/uc?id=1oVOC4Vf0DYLdDp4r7GChfgj7Xh5xd0ex\n",
            "To: /root/.cache/parallel_wavegan/vctk_hifigan.v1.tar.gz\n",
            "100%|██████████| 916M/916M [00:13<00:00, 69.7MB/s]\n",
            "WARNING:root:Fallback to conformer_pos_enc_layer_type = 'legacy_rel_pos' due to the compatibility. If you want to use the new one, please use conformer_pos_enc_layer_type = 'latest'.\n",
            "WARNING:root:Fallback to conformer_self_attn_layer_type = 'legacy_rel_selfattn' due to the compatibility. If you want to use the new one, please use conformer_pos_enc_layer_type = 'latest'.\n"
          ]
        }
      ]
    },
    {
      "cell_type": "code",
      "source": [
        "# Wrap the vocoder\n",
        "from netdissect import nethook\n",
        "layer = 'vocoder.blocks.6.convs1.1.0'    #@param ['vocoder.blocks.6.convs1.1.0', \"vocoder.blocks.5.convs2.0.0\", \"vocoder.blocks.1.convs1.2.0\", \"vocoder.last_conv_layers.0\", \"vocoder.last_conv_layers.1\", \"vocoder.last_conv_layers.2\", \"vocoder.last_conv_layers.3\", \"vocoder.conv_layers.6.conv\", \"vocoder.conv_layers.6.conv1x1_aux\", \"vocoder.conv_layers.6.conv1x1_out\", \"vocoder.conv_layers.6.conv1x1_skip\", \"vocoder.first_conv\", \"vocoder.upsample_net.conv_in\", \"vocoder.upsample_net.upsample.up_layers.6\", \"vocoder.upsample_net.upsample.up_layers.7\", \"vocoder.melgan.0\", \"vocoder.melgan.19.stack.4\", \"vocoder.melgan.23\", \"vocoder.pqmf.pad_fn\", \"vocoder.blocks.7.upsample\", \"vocoder.output_conv.1\", \"vocoder.blocks.11.convs2.0.1\", \"vocoder.output_conv.2\", \"vocoder.blocks.0.convs1.1.1\", \"vocoder.blocks.1.convs1.1.1\", \"vocoder.blocks.4.convs1.1.1\", \"vocoder.blocks.7.convs1.1.1\", \"vocoder.blocks.7.convs1.2.1\", \"vocoder.blocks.8.convs1.2.1\", \"vocoder.blocks.9.convs1.1.1\", \"vocoder.blocks.9.convs2.1.1\",  \"vocoder.blocks.10.convs1.1.1\",  \"vocoder.blocks.10.convs2.1.1\", \"vocoder.blocks.11.convs2.1.1\", \"vocoder.blocks.0.convs1.1.0\", \"vocoder.blocks.1.convs1.1.0\", \"vocoder.blocks.4.convs1.1.0\", \"vocoder.blocks.7.convs1.1.0\", \"vocoder.blocks.7.convs1.2.0\", \"vocoder.blocks.8.convs1.2.0\", \"vocoder.blocks.9.convs1.1.0\", \"vocoder.blocks.9.convs2.1.0\",  \"vocoder.blocks.10.convs1.1.0\",  \"vocoder.blocks.10.convs2.1.0\", \"vocoder.blocks.11.convs2.1.0\"] {type:\"string\"}\n",
        "\n",
        "\n",
        "# Don't re-wrap it, if it's already wrapped (e.g., if you press enter twice)\n",
        "if not isinstance(text2speech.vocoder, nethook.InstrumentedModel):\n",
        "    text2speech.vocoder = nethook.InstrumentedModel(text2speech.vocoder)\n",
        "text2speech.vocoder.retain_layer(layer)"
      ],
      "metadata": {
        "id": "NsnfVGDxxeN7"
      },
      "execution_count": null,
      "outputs": []
    },
    {
      "cell_type": "code",
      "source": [
        "text2speech.vocoder\n",
        "\n",
        "# text2speech.vocoder.retain_layer('vocoder')"
      ],
      "metadata": {
        "id": "W_1FJ68l9M7Q",
        "colab": {
          "base_uri": "https://localhost:8080/"
        },
        "outputId": "3ccb8979-1a77-4dff-e41c-017e69720b62"
      },
      "execution_count": null,
      "outputs": [
        {
          "output_type": "execute_result",
          "data": {
            "text/plain": [
              "InstrumentedModel(\n",
              "  (model): ParallelWaveGANPretrainedVocoder(\n",
              "    (vocoder): HiFiGANGenerator(\n",
              "      (input_conv): Conv1d(80, 512, kernel_size=(7,), stride=(1,), padding=(3,))\n",
              "      (upsamples): ModuleList(\n",
              "        (0): Sequential(\n",
              "          (0): LeakyReLU(negative_slope=0.1)\n",
              "          (1): ConvTranspose1d(512, 256, kernel_size=(10,), stride=(5,), padding=(3,), output_padding=(1,))\n",
              "        )\n",
              "        (1): Sequential(\n",
              "          (0): LeakyReLU(negative_slope=0.1)\n",
              "          (1): ConvTranspose1d(256, 128, kernel_size=(10,), stride=(5,), padding=(3,), output_padding=(1,))\n",
              "        )\n",
              "        (2): Sequential(\n",
              "          (0): LeakyReLU(negative_slope=0.1)\n",
              "          (1): ConvTranspose1d(128, 64, kernel_size=(8,), stride=(4,), padding=(2,))\n",
              "        )\n",
              "        (3): Sequential(\n",
              "          (0): LeakyReLU(negative_slope=0.1)\n",
              "          (1): ConvTranspose1d(64, 32, kernel_size=(6,), stride=(3,), padding=(2,), output_padding=(1,))\n",
              "        )\n",
              "      )\n",
              "      (blocks): ModuleList(\n",
              "        (0): HiFiGANResidualBlock(\n",
              "          (convs1): ModuleList(\n",
              "            (0): Sequential(\n",
              "              (0): LeakyReLU(negative_slope=0.1)\n",
              "              (1): Conv1d(256, 256, kernel_size=(3,), stride=(1,), padding=(1,))\n",
              "            )\n",
              "            (1): Sequential(\n",
              "              (0): LeakyReLU(negative_slope=0.1)\n",
              "              (1): Conv1d(256, 256, kernel_size=(3,), stride=(1,), padding=(3,), dilation=(3,))\n",
              "            )\n",
              "            (2): Sequential(\n",
              "              (0): LeakyReLU(negative_slope=0.1)\n",
              "              (1): Conv1d(256, 256, kernel_size=(3,), stride=(1,), padding=(5,), dilation=(5,))\n",
              "            )\n",
              "          )\n",
              "          (convs2): ModuleList(\n",
              "            (0): Sequential(\n",
              "              (0): LeakyReLU(negative_slope=0.1)\n",
              "              (1): Conv1d(256, 256, kernel_size=(3,), stride=(1,), padding=(1,))\n",
              "            )\n",
              "            (1): Sequential(\n",
              "              (0): LeakyReLU(negative_slope=0.1)\n",
              "              (1): Conv1d(256, 256, kernel_size=(3,), stride=(1,), padding=(1,))\n",
              "            )\n",
              "            (2): Sequential(\n",
              "              (0): LeakyReLU(negative_slope=0.1)\n",
              "              (1): Conv1d(256, 256, kernel_size=(3,), stride=(1,), padding=(1,))\n",
              "            )\n",
              "          )\n",
              "        )\n",
              "        (1): HiFiGANResidualBlock(\n",
              "          (convs1): ModuleList(\n",
              "            (0): Sequential(\n",
              "              (0): LeakyReLU(negative_slope=0.1)\n",
              "              (1): Conv1d(256, 256, kernel_size=(7,), stride=(1,), padding=(3,))\n",
              "            )\n",
              "            (1): Sequential(\n",
              "              (0): LeakyReLU(negative_slope=0.1)\n",
              "              (1): Conv1d(256, 256, kernel_size=(7,), stride=(1,), padding=(9,), dilation=(3,))\n",
              "            )\n",
              "            (2): Sequential(\n",
              "              (0): LeakyReLU(negative_slope=0.1)\n",
              "              (1): Conv1d(256, 256, kernel_size=(7,), stride=(1,), padding=(15,), dilation=(5,))\n",
              "            )\n",
              "          )\n",
              "          (convs2): ModuleList(\n",
              "            (0): Sequential(\n",
              "              (0): LeakyReLU(negative_slope=0.1)\n",
              "              (1): Conv1d(256, 256, kernel_size=(7,), stride=(1,), padding=(3,))\n",
              "            )\n",
              "            (1): Sequential(\n",
              "              (0): LeakyReLU(negative_slope=0.1)\n",
              "              (1): Conv1d(256, 256, kernel_size=(7,), stride=(1,), padding=(3,))\n",
              "            )\n",
              "            (2): Sequential(\n",
              "              (0): LeakyReLU(negative_slope=0.1)\n",
              "              (1): Conv1d(256, 256, kernel_size=(7,), stride=(1,), padding=(3,))\n",
              "            )\n",
              "          )\n",
              "        )\n",
              "        (2): HiFiGANResidualBlock(\n",
              "          (convs1): ModuleList(\n",
              "            (0): Sequential(\n",
              "              (0): LeakyReLU(negative_slope=0.1)\n",
              "              (1): Conv1d(256, 256, kernel_size=(11,), stride=(1,), padding=(5,))\n",
              "            )\n",
              "            (1): Sequential(\n",
              "              (0): LeakyReLU(negative_slope=0.1)\n",
              "              (1): Conv1d(256, 256, kernel_size=(11,), stride=(1,), padding=(15,), dilation=(3,))\n",
              "            )\n",
              "            (2): Sequential(\n",
              "              (0): LeakyReLU(negative_slope=0.1)\n",
              "              (1): Conv1d(256, 256, kernel_size=(11,), stride=(1,), padding=(25,), dilation=(5,))\n",
              "            )\n",
              "          )\n",
              "          (convs2): ModuleList(\n",
              "            (0): Sequential(\n",
              "              (0): LeakyReLU(negative_slope=0.1)\n",
              "              (1): Conv1d(256, 256, kernel_size=(11,), stride=(1,), padding=(5,))\n",
              "            )\n",
              "            (1): Sequential(\n",
              "              (0): LeakyReLU(negative_slope=0.1)\n",
              "              (1): Conv1d(256, 256, kernel_size=(11,), stride=(1,), padding=(5,))\n",
              "            )\n",
              "            (2): Sequential(\n",
              "              (0): LeakyReLU(negative_slope=0.1)\n",
              "              (1): Conv1d(256, 256, kernel_size=(11,), stride=(1,), padding=(5,))\n",
              "            )\n",
              "          )\n",
              "        )\n",
              "        (3): HiFiGANResidualBlock(\n",
              "          (convs1): ModuleList(\n",
              "            (0): Sequential(\n",
              "              (0): LeakyReLU(negative_slope=0.1)\n",
              "              (1): Conv1d(128, 128, kernel_size=(3,), stride=(1,), padding=(1,))\n",
              "            )\n",
              "            (1): Sequential(\n",
              "              (0): LeakyReLU(negative_slope=0.1)\n",
              "              (1): Conv1d(128, 128, kernel_size=(3,), stride=(1,), padding=(3,), dilation=(3,))\n",
              "            )\n",
              "            (2): Sequential(\n",
              "              (0): LeakyReLU(negative_slope=0.1)\n",
              "              (1): Conv1d(128, 128, kernel_size=(3,), stride=(1,), padding=(5,), dilation=(5,))\n",
              "            )\n",
              "          )\n",
              "          (convs2): ModuleList(\n",
              "            (0): Sequential(\n",
              "              (0): LeakyReLU(negative_slope=0.1)\n",
              "              (1): Conv1d(128, 128, kernel_size=(3,), stride=(1,), padding=(1,))\n",
              "            )\n",
              "            (1): Sequential(\n",
              "              (0): LeakyReLU(negative_slope=0.1)\n",
              "              (1): Conv1d(128, 128, kernel_size=(3,), stride=(1,), padding=(1,))\n",
              "            )\n",
              "            (2): Sequential(\n",
              "              (0): LeakyReLU(negative_slope=0.1)\n",
              "              (1): Conv1d(128, 128, kernel_size=(3,), stride=(1,), padding=(1,))\n",
              "            )\n",
              "          )\n",
              "        )\n",
              "        (4): HiFiGANResidualBlock(\n",
              "          (convs1): ModuleList(\n",
              "            (0): Sequential(\n",
              "              (0): LeakyReLU(negative_slope=0.1)\n",
              "              (1): Conv1d(128, 128, kernel_size=(7,), stride=(1,), padding=(3,))\n",
              "            )\n",
              "            (1): Sequential(\n",
              "              (0): LeakyReLU(negative_slope=0.1)\n",
              "              (1): Conv1d(128, 128, kernel_size=(7,), stride=(1,), padding=(9,), dilation=(3,))\n",
              "            )\n",
              "            (2): Sequential(\n",
              "              (0): LeakyReLU(negative_slope=0.1)\n",
              "              (1): Conv1d(128, 128, kernel_size=(7,), stride=(1,), padding=(15,), dilation=(5,))\n",
              "            )\n",
              "          )\n",
              "          (convs2): ModuleList(\n",
              "            (0): Sequential(\n",
              "              (0): LeakyReLU(negative_slope=0.1)\n",
              "              (1): Conv1d(128, 128, kernel_size=(7,), stride=(1,), padding=(3,))\n",
              "            )\n",
              "            (1): Sequential(\n",
              "              (0): LeakyReLU(negative_slope=0.1)\n",
              "              (1): Conv1d(128, 128, kernel_size=(7,), stride=(1,), padding=(3,))\n",
              "            )\n",
              "            (2): Sequential(\n",
              "              (0): LeakyReLU(negative_slope=0.1)\n",
              "              (1): Conv1d(128, 128, kernel_size=(7,), stride=(1,), padding=(3,))\n",
              "            )\n",
              "          )\n",
              "        )\n",
              "        (5): HiFiGANResidualBlock(\n",
              "          (convs1): ModuleList(\n",
              "            (0): Sequential(\n",
              "              (0): LeakyReLU(negative_slope=0.1)\n",
              "              (1): Conv1d(128, 128, kernel_size=(11,), stride=(1,), padding=(5,))\n",
              "            )\n",
              "            (1): Sequential(\n",
              "              (0): LeakyReLU(negative_slope=0.1)\n",
              "              (1): Conv1d(128, 128, kernel_size=(11,), stride=(1,), padding=(15,), dilation=(3,))\n",
              "            )\n",
              "            (2): Sequential(\n",
              "              (0): LeakyReLU(negative_slope=0.1)\n",
              "              (1): Conv1d(128, 128, kernel_size=(11,), stride=(1,), padding=(25,), dilation=(5,))\n",
              "            )\n",
              "          )\n",
              "          (convs2): ModuleList(\n",
              "            (0): Sequential(\n",
              "              (0): LeakyReLU(negative_slope=0.1)\n",
              "              (1): Conv1d(128, 128, kernel_size=(11,), stride=(1,), padding=(5,))\n",
              "            )\n",
              "            (1): Sequential(\n",
              "              (0): LeakyReLU(negative_slope=0.1)\n",
              "              (1): Conv1d(128, 128, kernel_size=(11,), stride=(1,), padding=(5,))\n",
              "            )\n",
              "            (2): Sequential(\n",
              "              (0): LeakyReLU(negative_slope=0.1)\n",
              "              (1): Conv1d(128, 128, kernel_size=(11,), stride=(1,), padding=(5,))\n",
              "            )\n",
              "          )\n",
              "        )\n",
              "        (6): HiFiGANResidualBlock(\n",
              "          (convs1): ModuleList(\n",
              "            (0): Sequential(\n",
              "              (0): LeakyReLU(negative_slope=0.1)\n",
              "              (1): Conv1d(64, 64, kernel_size=(3,), stride=(1,), padding=(1,))\n",
              "            )\n",
              "            (1): Sequential(\n",
              "              (0): LeakyReLU(negative_slope=0.1)\n",
              "              (1): Conv1d(64, 64, kernel_size=(3,), stride=(1,), padding=(3,), dilation=(3,))\n",
              "            )\n",
              "            (2): Sequential(\n",
              "              (0): LeakyReLU(negative_slope=0.1)\n",
              "              (1): Conv1d(64, 64, kernel_size=(3,), stride=(1,), padding=(5,), dilation=(5,))\n",
              "            )\n",
              "          )\n",
              "          (convs2): ModuleList(\n",
              "            (0): Sequential(\n",
              "              (0): LeakyReLU(negative_slope=0.1)\n",
              "              (1): Conv1d(64, 64, kernel_size=(3,), stride=(1,), padding=(1,))\n",
              "            )\n",
              "            (1): Sequential(\n",
              "              (0): LeakyReLU(negative_slope=0.1)\n",
              "              (1): Conv1d(64, 64, kernel_size=(3,), stride=(1,), padding=(1,))\n",
              "            )\n",
              "            (2): Sequential(\n",
              "              (0): LeakyReLU(negative_slope=0.1)\n",
              "              (1): Conv1d(64, 64, kernel_size=(3,), stride=(1,), padding=(1,))\n",
              "            )\n",
              "          )\n",
              "        )\n",
              "        (7): HiFiGANResidualBlock(\n",
              "          (convs1): ModuleList(\n",
              "            (0): Sequential(\n",
              "              (0): LeakyReLU(negative_slope=0.1)\n",
              "              (1): Conv1d(64, 64, kernel_size=(7,), stride=(1,), padding=(3,))\n",
              "            )\n",
              "            (1): Sequential(\n",
              "              (0): LeakyReLU(negative_slope=0.1)\n",
              "              (1): Conv1d(64, 64, kernel_size=(7,), stride=(1,), padding=(9,), dilation=(3,))\n",
              "            )\n",
              "            (2): Sequential(\n",
              "              (0): LeakyReLU(negative_slope=0.1)\n",
              "              (1): Conv1d(64, 64, kernel_size=(7,), stride=(1,), padding=(15,), dilation=(5,))\n",
              "            )\n",
              "          )\n",
              "          (convs2): ModuleList(\n",
              "            (0): Sequential(\n",
              "              (0): LeakyReLU(negative_slope=0.1)\n",
              "              (1): Conv1d(64, 64, kernel_size=(7,), stride=(1,), padding=(3,))\n",
              "            )\n",
              "            (1): Sequential(\n",
              "              (0): LeakyReLU(negative_slope=0.1)\n",
              "              (1): Conv1d(64, 64, kernel_size=(7,), stride=(1,), padding=(3,))\n",
              "            )\n",
              "            (2): Sequential(\n",
              "              (0): LeakyReLU(negative_slope=0.1)\n",
              "              (1): Conv1d(64, 64, kernel_size=(7,), stride=(1,), padding=(3,))\n",
              "            )\n",
              "          )\n",
              "        )\n",
              "        (8): HiFiGANResidualBlock(\n",
              "          (convs1): ModuleList(\n",
              "            (0): Sequential(\n",
              "              (0): LeakyReLU(negative_slope=0.1)\n",
              "              (1): Conv1d(64, 64, kernel_size=(11,), stride=(1,), padding=(5,))\n",
              "            )\n",
              "            (1): Sequential(\n",
              "              (0): LeakyReLU(negative_slope=0.1)\n",
              "              (1): Conv1d(64, 64, kernel_size=(11,), stride=(1,), padding=(15,), dilation=(3,))\n",
              "            )\n",
              "            (2): Sequential(\n",
              "              (0): LeakyReLU(negative_slope=0.1)\n",
              "              (1): Conv1d(64, 64, kernel_size=(11,), stride=(1,), padding=(25,), dilation=(5,))\n",
              "            )\n",
              "          )\n",
              "          (convs2): ModuleList(\n",
              "            (0): Sequential(\n",
              "              (0): LeakyReLU(negative_slope=0.1)\n",
              "              (1): Conv1d(64, 64, kernel_size=(11,), stride=(1,), padding=(5,))\n",
              "            )\n",
              "            (1): Sequential(\n",
              "              (0): LeakyReLU(negative_slope=0.1)\n",
              "              (1): Conv1d(64, 64, kernel_size=(11,), stride=(1,), padding=(5,))\n",
              "            )\n",
              "            (2): Sequential(\n",
              "              (0): LeakyReLU(negative_slope=0.1)\n",
              "              (1): Conv1d(64, 64, kernel_size=(11,), stride=(1,), padding=(5,))\n",
              "            )\n",
              "          )\n",
              "        )\n",
              "        (9): HiFiGANResidualBlock(\n",
              "          (convs1): ModuleList(\n",
              "            (0): Sequential(\n",
              "              (0): LeakyReLU(negative_slope=0.1)\n",
              "              (1): Conv1d(32, 32, kernel_size=(3,), stride=(1,), padding=(1,))\n",
              "            )\n",
              "            (1): Sequential(\n",
              "              (0): LeakyReLU(negative_slope=0.1)\n",
              "              (1): Conv1d(32, 32, kernel_size=(3,), stride=(1,), padding=(3,), dilation=(3,))\n",
              "            )\n",
              "            (2): Sequential(\n",
              "              (0): LeakyReLU(negative_slope=0.1)\n",
              "              (1): Conv1d(32, 32, kernel_size=(3,), stride=(1,), padding=(5,), dilation=(5,))\n",
              "            )\n",
              "          )\n",
              "          (convs2): ModuleList(\n",
              "            (0): Sequential(\n",
              "              (0): LeakyReLU(negative_slope=0.1)\n",
              "              (1): Conv1d(32, 32, kernel_size=(3,), stride=(1,), padding=(1,))\n",
              "            )\n",
              "            (1): Sequential(\n",
              "              (0): LeakyReLU(negative_slope=0.1)\n",
              "              (1): Conv1d(32, 32, kernel_size=(3,), stride=(1,), padding=(1,))\n",
              "            )\n",
              "            (2): Sequential(\n",
              "              (0): LeakyReLU(negative_slope=0.1)\n",
              "              (1): Conv1d(32, 32, kernel_size=(3,), stride=(1,), padding=(1,))\n",
              "            )\n",
              "          )\n",
              "        )\n",
              "        (10): HiFiGANResidualBlock(\n",
              "          (convs1): ModuleList(\n",
              "            (0): Sequential(\n",
              "              (0): LeakyReLU(negative_slope=0.1)\n",
              "              (1): Conv1d(32, 32, kernel_size=(7,), stride=(1,), padding=(3,))\n",
              "            )\n",
              "            (1): Sequential(\n",
              "              (0): LeakyReLU(negative_slope=0.1)\n",
              "              (1): Conv1d(32, 32, kernel_size=(7,), stride=(1,), padding=(9,), dilation=(3,))\n",
              "            )\n",
              "            (2): Sequential(\n",
              "              (0): LeakyReLU(negative_slope=0.1)\n",
              "              (1): Conv1d(32, 32, kernel_size=(7,), stride=(1,), padding=(15,), dilation=(5,))\n",
              "            )\n",
              "          )\n",
              "          (convs2): ModuleList(\n",
              "            (0): Sequential(\n",
              "              (0): LeakyReLU(negative_slope=0.1)\n",
              "              (1): Conv1d(32, 32, kernel_size=(7,), stride=(1,), padding=(3,))\n",
              "            )\n",
              "            (1): Sequential(\n",
              "              (0): LeakyReLU(negative_slope=0.1)\n",
              "              (1): Conv1d(32, 32, kernel_size=(7,), stride=(1,), padding=(3,))\n",
              "            )\n",
              "            (2): Sequential(\n",
              "              (0): LeakyReLU(negative_slope=0.1)\n",
              "              (1): Conv1d(32, 32, kernel_size=(7,), stride=(1,), padding=(3,))\n",
              "            )\n",
              "          )\n",
              "        )\n",
              "        (11): HiFiGANResidualBlock(\n",
              "          (convs1): ModuleList(\n",
              "            (0): Sequential(\n",
              "              (0): LeakyReLU(negative_slope=0.1)\n",
              "              (1): Conv1d(32, 32, kernel_size=(11,), stride=(1,), padding=(5,))\n",
              "            )\n",
              "            (1): Sequential(\n",
              "              (0): LeakyReLU(negative_slope=0.1)\n",
              "              (1): Conv1d(32, 32, kernel_size=(11,), stride=(1,), padding=(15,), dilation=(3,))\n",
              "            )\n",
              "            (2): Sequential(\n",
              "              (0): LeakyReLU(negative_slope=0.1)\n",
              "              (1): Conv1d(32, 32, kernel_size=(11,), stride=(1,), padding=(25,), dilation=(5,))\n",
              "            )\n",
              "          )\n",
              "          (convs2): ModuleList(\n",
              "            (0): Sequential(\n",
              "              (0): LeakyReLU(negative_slope=0.1)\n",
              "              (1): Conv1d(32, 32, kernel_size=(11,), stride=(1,), padding=(5,))\n",
              "            )\n",
              "            (1): Sequential(\n",
              "              (0): LeakyReLU(negative_slope=0.1)\n",
              "              (1): Conv1d(32, 32, kernel_size=(11,), stride=(1,), padding=(5,))\n",
              "            )\n",
              "            (2): Sequential(\n",
              "              (0): LeakyReLU(negative_slope=0.1)\n",
              "              (1): Conv1d(32, 32, kernel_size=(11,), stride=(1,), padding=(5,))\n",
              "            )\n",
              "          )\n",
              "        )\n",
              "      )\n",
              "      (output_conv): Sequential(\n",
              "        (0): LeakyReLU(negative_slope=0.01)\n",
              "        (1): Conv1d(32, 1, kernel_size=(7,), stride=(1,), padding=(3,))\n",
              "        (2): Tanh()\n",
              "      )\n",
              "    )\n",
              "  )\n",
              ")"
            ]
          },
          "metadata": {},
          "execution_count": 10
        }
      ]
    },
    {
      "cell_type": "code",
      "source": [
        "import glob\n",
        "import os\n",
        "import numpy as np\n",
        "import kaldiio\n",
        "\n",
        "# Get model directory path\n",
        "from espnet_model_zoo.downloader import ModelDownloader\n",
        "d = ModelDownloader()\n",
        "model_dir = os.path.dirname(d.download_and_unpack(model_tag)[\"train_config\"])\n",
        "\n",
        "# X-vector selection\n",
        "# We only need the x-vector part at that's what this model uses. The ones with\n",
        "spembs = None\n",
        "if text2speech.use_spembs:\n",
        "  xvector_ark = [p for p in glob.glob(f\"{model_dir}/../../dump/**/spk_xvector.ark\", recursive=True) if \"tr\" in p][0]\n",
        "  xvectors = {k: v for k, v in kaldiio.load_ark(xvector_ark)}\n",
        "  spks = list(xvectors.keys())"
      ],
      "metadata": {
        "id": "T-1QugLj-7xZ"
      },
      "execution_count": null,
      "outputs": []
    },
    {
      "cell_type": "code",
      "source": [
        "from netdissect import tally\n",
        "x = \"Please call Stella. Ask her too.\"\n",
        "\n",
        "# To collect stats, define a function that returns 2d [samples, units]\n",
        "def compute_samples(index):\n",
        "    # print(index)\n",
        "    spk = spks[int(index[0])]\n",
        "    spembs = xvectors[spk]\n",
        "    wav = text2speech(x, spembs=spembs)[\"wav\"]\n",
        "    acts = text2speech.vocoder.retained_layer(layer)\n",
        "    acts = torch.flatten(acts, start_dim=1)\n",
        "    acts_stack = acts\n",
        "    # print(acts.shape)\n",
        "    # print(acts)\n",
        "    # acts_stack = acts[0]\n",
        "\n",
        "    for i in index[1:]:\n",
        "      spk = spks[int(i)]\n",
        "      spembs = xvectors[spk]\n",
        "      wav = text2speech(x, spembs=spembs)[\"wav\"]\n",
        "      # acts = model.retained_layer('layer4') # get the activations, and flatten\n",
        "      acts = text2speech.vocoder.retained_layer(layer)\n",
        "      # print(acts[0].shape)\n",
        "      # print(acts)\n",
        "      acts = torch.flatten(acts, start_dim=1)\n",
        "\n",
        "      acts_stack = torch.cat((acts_stack, acts), 0)\n",
        "      # print(acts_stack.shape)\n",
        "    return acts_stack\n",
        "\n",
        "\n",
        "from torch.utils.data import TensorDataset\n",
        "# Define our batch of inputs to the model\n",
        "# zds = TensorDataset(torch.linspace(0, 49, 50))\n",
        "# this also works\n",
        "zds = torch.linspace(0, 107, 108)\n",
        "\n",
        "# Then tally_quantile will run your function over the whole dataset to collect quantile stats\n",
        "# rq = tally.tally_quantile(compute_samples, zds, batch_size=10)\n",
        "\n",
        "# Print out the median value for the first 20 channels\n",
        "# print(rq.quantiles(0.9)[:20])\n",
        "# print(rq.mean())"
      ],
      "metadata": {
        "id": "RL7ZU-2UkKF0"
      },
      "execution_count": null,
      "outputs": []
    },
    {
      "cell_type": "code",
      "source": [
        "topk = tally.tally_topk(compute_samples, zds)\n",
        "topk.result()[1].shape"
      ],
      "metadata": {
        "colab": {
          "base_uri": "https://localhost:8080/"
        },
        "id": "YEPMIw9XhrNA",
        "outputId": "9fac8ea7-47f0-42f5-8f76-d9ea2e0316dc"
      },
      "execution_count": null,
      "outputs": [
        {
          "output_type": "stream",
          "name": "stderr",
          "text": [
            "\r  0%|          | 0/11 [00:00<?, ?it/s]/usr/local/lib/python3.7/dist-packages/espnet2/torch_utils/device_funcs.py:29: UserWarning: The given NumPy array is not writable, and PyTorch does not support non-writable tensors. This means writing to this tensor will result in undefined behavior. You may want to copy the array to protect its data or make it writable before converting it to a tensor. This type of warning will be suppressed for the rest of this program. (Triggered internally at  ../torch/csrc/utils/tensor_numpy.cpp:172.)\n",
            "  return to_device(torch.from_numpy(data), device, dtype, non_blocking, copy)\n"
          ]
        },
        {
          "output_type": "execute_result",
          "data": {
            "text/plain": [
              "torch.Size([640000, 100])"
            ]
          },
          "metadata": {},
          "execution_count": 13
        }
      ]
    },
    {
      "cell_type": "code",
      "source": [
        "text2speech.vocoder.retained_layer(layer).shape"
      ],
      "metadata": {
        "id": "YLCLh5tn5Pc7",
        "colab": {
          "base_uri": "https://localhost:8080/"
        },
        "outputId": "fa26998a-160f-4823-bcfb-e373363ec057"
      },
      "execution_count": null,
      "outputs": [
        {
          "output_type": "execute_result",
          "data": {
            "text/plain": [
              "torch.Size([1, 64, 10000])"
            ]
          },
          "metadata": {},
          "execution_count": 14
        }
      ]
    },
    {
      "cell_type": "code",
      "source": [
        "topk.result()[1]"
      ],
      "metadata": {
        "id": "uVj6n0SImK4P",
        "colab": {
          "base_uri": "https://localhost:8080/"
        },
        "outputId": "582820ad-bfff-443c-9cb0-a73f8b6c8793"
      },
      "execution_count": null,
      "outputs": [
        {
          "output_type": "execute_result",
          "data": {
            "text/plain": [
              "tensor([[ 24,  75,  95,  ...,  98, 106,  85],\n",
              "        [ 24,  30,  26,  ...,  62,  57,  37],\n",
              "        [ 30,  44,  75,  ...,  57,  60,  72],\n",
              "        ...,\n",
              "        [ 72,  32,  41,  ...,  67,  86,  98],\n",
              "        [ 35,  72,  41,  ...,  77,  13, 107],\n",
              "        [ 41,  88,  35,  ..., 104,  25,  96]])"
            ]
          },
          "metadata": {},
          "execution_count": 15
        }
      ]
    },
    {
      "cell_type": "code",
      "source": [
        "topk.result()[0]"
      ],
      "metadata": {
        "id": "TzSEAPTipuBg",
        "colab": {
          "base_uri": "https://localhost:8080/"
        },
        "outputId": "7b3644d2-0fad-4891-d3cf-d4b77cd92191"
      },
      "execution_count": null,
      "outputs": [
        {
          "output_type": "execute_result",
          "data": {
            "text/plain": [
              "tensor([[ 0.3032,  0.2903,  0.2768,  ...,  0.0799,  0.0741,  0.0720],\n",
              "        [ 0.4820,  0.4796,  0.4548,  ...,  0.1294,  0.1238,  0.1209],\n",
              "        [ 0.5100,  0.4971,  0.4948,  ...,  0.2146,  0.2077,  0.2039],\n",
              "        ...,\n",
              "        [ 1.2453,  1.2140,  1.2006,  ..., -0.0174, -0.0191, -0.0193],\n",
              "        [ 1.5481,  1.5411,  1.4634,  ...,  0.3916,  0.3801,  0.3578],\n",
              "        [ 1.0153,  0.9543,  0.8917,  ...,  0.0728,  0.0649,  0.0543]])"
            ]
          },
          "metadata": {},
          "execution_count": 16
        }
      ]
    },
    {
      "cell_type": "code",
      "source": [
        "southern = {0, 3, 4, 6, 7, 14, 30, 31, 41}\n",
        "s_african = {82, 86, 93, 99}\n",
        "indian = {21, 24, 107}\n",
        "scottish = {9, 11, 15, 19, 20, 22, 25, 28, 33, 35, 36, 37, 38, 44, 45, 48, 54, 57, 58}\n",
        "irish = {18, 39, 56, 61, 65, 67, 81, 95, 105}\n",
        "dublin = {18, 61, 65, 95}\n",
        "n_irish = {12, 34, 62, 63, 73, 100}\n",
        "belfast = {12, 34, 62, 63, 73}\n",
        "cali = {64, 68, 69, 85}\n",
        "yorkshire = {40, 43, 60}\n",
        "NE = {42, 50, 55, 59}\n",
        "canada = {71, 72, 76, 80, 83, 84, 97, 104}"
      ],
      "metadata": {
        "id": "-UvrIRQx1lCX"
      },
      "execution_count": null,
      "outputs": []
    },
    {
      "cell_type": "code",
      "source": [
        "# selecting the first 5 indices from the first row / unit\n",
        "top = topk.result()[1][0][0:5]\n",
        "print(top)\n",
        "# casting from tensor to set\n",
        "top = set(top.tolist())\n",
        "\n",
        "# calculating IoU\n",
        "num = top.intersection(s_african)\n",
        "print(num)\n",
        "den = top.union(s_african)\n",
        "print(den)\n",
        "IoU = len(num) / len(den)\n",
        "print(IoU)"
      ],
      "metadata": {
        "id": "k3zqnOrvS1ug",
        "colab": {
          "base_uri": "https://localhost:8080/"
        },
        "outputId": "5c3e0785-55c4-4a8f-e1cf-d45b1b72548c"
      },
      "execution_count": null,
      "outputs": [
        {
          "output_type": "stream",
          "name": "stdout",
          "text": [
            "tensor([24, 75, 95, 48, 30])\n",
            "set()\n",
            "{99, 75, 48, 82, 86, 24, 93, 30, 95}\n",
            "0.0\n"
          ]
        }
      ]
    },
    {
      "cell_type": "code",
      "source": [
        "# Quick method\n",
        "# iterating st we can calculate the IoU for all units in the layer\n",
        "IoU_list = []\n",
        "chosen_property = southern\n",
        "result = topk.result()[1]\n",
        "result = result.tolist()\n",
        "# len(result)\n",
        "print(result[0])\n",
        "\n",
        "for i in range(0, topk.result()[1].shape[0]):\n",
        "  top = result[i][0:5]\n",
        "  top = set(top)\n",
        "  num = top.intersection(chosen_property)\n",
        "  den = top.union(chosen_property)\n",
        "  IoU_list.append(len(num) / len(den))\n",
        "  # print(i)\n",
        "\n",
        "# top = set(top.tolist())\n",
        "# for i in range(0, topk.result()[1].shape[0]):\n",
        "#   num = top.intersection(southern_units)\n",
        "#   den = top.union(southern_units)\n",
        "#   IoU_list.append(len(num) / len(den))\n",
        "#   print(i)"
      ],
      "metadata": {
        "id": "ZMQFxedW3exi",
        "colab": {
          "base_uri": "https://localhost:8080/"
        },
        "outputId": "dfca22c7-a9ba-41b9-ebe5-7619a704b181"
      },
      "execution_count": null,
      "outputs": [
        {
          "output_type": "stream",
          "name": "stdout",
          "text": [
            "[24, 75, 95, 48, 30, 69, 21, 8, 14, 31, 36, 16, 12, 82, 50, 51, 65, 59, 0, 9, 56, 11, 39, 100, 3, 93, 49, 29, 5, 13, 61, 34, 77, 41, 79, 55, 2, 33, 86, 26, 63, 81, 96, 35, 40, 46, 53, 4, 107, 42, 44, 25, 90, 23, 32, 74, 99, 60, 71, 102, 80, 88, 68, 22, 66, 18, 58, 6, 38, 19, 72, 1, 37, 89, 67, 10, 27, 17, 7, 84, 52, 87, 70, 20, 15, 54, 97, 47, 92, 101, 91, 78, 64, 94, 45, 73, 83, 98, 106, 85]\n"
          ]
        }
      ]
    },
    {
      "cell_type": "code",
      "source": [
        "len(IoU_list)"
      ],
      "metadata": {
        "id": "ttmevsO_WqM8",
        "colab": {
          "base_uri": "https://localhost:8080/"
        },
        "outputId": "66980fa9-b651-4a27-b298-dcc193b529ea"
      },
      "execution_count": null,
      "outputs": [
        {
          "output_type": "execute_result",
          "data": {
            "text/plain": [
              "640000"
            ]
          },
          "metadata": {},
          "execution_count": 20
        }
      ]
    },
    {
      "cell_type": "code",
      "source": [
        "# IoU_list"
      ],
      "metadata": {
        "id": "HY0PGAfma9uA"
      },
      "execution_count": null,
      "outputs": []
    },
    {
      "cell_type": "code",
      "source": [
        "# setting the number of units we want to find top IoUs of\n",
        "n_units = 20\n",
        "IoU_list = torch.tensor(IoU_list)\n",
        "top_IoU = torch.topk(IoU_list, n_units)\n",
        "print(layer, '\\n', top_IoU, '\\n')"
      ],
      "metadata": {
        "id": "-8g9BI6-wli7",
        "colab": {
          "base_uri": "https://localhost:8080/"
        },
        "outputId": "63f07e87-8737-4995-e09a-b98db0de81d5"
      },
      "execution_count": null,
      "outputs": [
        {
          "output_type": "stream",
          "name": "stdout",
          "text": [
            "vocoder.blocks.6.convs1.1.0 \n",
            " torch.return_types.topk(\n",
            "values=tensor([0.5556, 0.5556, 0.5556, 0.4000, 0.4000, 0.4000, 0.4000, 0.4000, 0.4000,\n",
            "        0.4000, 0.4000, 0.4000, 0.4000, 0.4000, 0.4000, 0.4000, 0.4000, 0.4000,\n",
            "        0.4000, 0.4000]),\n",
            "indices=tensor([296261, 211622, 211614, 191796, 211586, 211585, 211608, 161629, 188805,\n",
            "           985,  53936, 211593, 211597, 211060, 211606, 170089,  81606,   4993,\n",
            "          4927, 211609])) \n",
            "\n"
          ]
        }
      ]
    },
    {
      "cell_type": "code",
      "source": [
        "# top_IoU[1][1]"
      ],
      "metadata": {
        "id": "vtzBOB_hDl9i"
      },
      "execution_count": null,
      "outputs": []
    },
    {
      "cell_type": "code",
      "source": [
        "# defining functions to get the unit's index from the number layer and its index from topk\n",
        "def index_map(layer1, idx):\n",
        "    div = text2speech.vocoder.retained_layer(layer1).shape[2]\n",
        "    first = idx//div\n",
        "    second = idx%div\n",
        "    return [0, first, second]\n",
        "\n",
        "\n",
        "# index_map_list(layer, top_IoU[1].numpy())"
      ],
      "metadata": {
        "id": "fygAjW4E-XSO"
      },
      "execution_count": null,
      "outputs": []
    },
    {
      "cell_type": "code",
      "source": [
        "# function to set units to the top 1% quantile\n",
        "# def change_units(data, model):\n",
        "#     for i in range(0, n_units_z):\n",
        "#       temp = index_map(layer, top_IoU_z[1][i])\n",
        "#       data[0, temp[1], temp[2]] = 0\n",
        "\n",
        "#     quant = rq.quantiles(0.99)\n",
        "#     for i in range(0, n_units):\n",
        "#       temp = index_map(layer, top_IoU[1][i])\n",
        "#       data[0, temp[1], temp[2]] = quant[top_IoU[1][i]]\n",
        "\n",
        "#     return data\n",
        "\n",
        "# # setting units to top 1%\n",
        "# text2speech.vocoder.edit_layer(layer, rule=change_units)\n",
        "\n"
      ],
      "metadata": {
        "id": "ZSpxxaAFxhoG"
      },
      "execution_count": null,
      "outputs": []
    },
    {
      "cell_type": "code",
      "source": [
        "import soundfile as sf\n",
        "import time"
      ],
      "metadata": {
        "id": "H99_WrL5AMoj"
      },
      "execution_count": null,
      "outputs": []
    },
    {
      "cell_type": "code",
      "source": [
        "from pyparsing import actions\n",
        "s_african = {82, 86, 93, 99}\n",
        "southern = {0, 3, 4, 6, 7, 14, 30, 31, 41}\n",
        "\n",
        "speaker_sentence_list = []\n",
        "activations_list = []\n",
        "\n",
        "\n",
        "for index in southern:\n",
        "  # chosen speaker saying normal thing\n",
        "  spk = spks[index]\n",
        "  spembs = xvectors[spk]\n",
        "  print(f\"selected spk: {spk}\")\n",
        "  x = \"Please call Stella.  Ask her too.\"\n",
        "  wav = text2speech(x, spembs=spembs)[\"wav\"]\n",
        "  temp = index_map(layer, 296261)\n",
        "  act = text2speech.vocoder.retained_layer(layer)[0][temp[1]][temp[2]]\n",
        "  print('Southern spk, sen 1', act)\n",
        "  speaker_sentence_list.append('Southern spk, sen 1')\n",
        "  activations_list.append(act.item())\n",
        "\n",
        "  # chosen speaker saying other thing\n",
        "  x = \"Bring these things with her from the store.\"\n",
        "  wav = text2speech(x, spembs=spembs)[\"wav\"]\n",
        "  temp = index_map(layer, 296261)\n",
        "  act = text2speech.vocoder.retained_layer(layer)[0][temp[1]][temp[2]]\n",
        "  print('Southern spk, sen 2', act)\n",
        "  speaker_sentence_list.append('Southern spk, sen 2')\n",
        "  activations_list.append(act.item())\n",
        "\n",
        "  # choose speaker + 5 speakers on (so no repeats for southern)\n",
        "  spk = spks[index+5]\n",
        "  spembs = xvectors[spk]\n",
        "  print(f\"selected spk: {spk}\")\n",
        "  x = \"Please call Stella.  Ask her too.\"\n",
        "  wav = text2speech(x, spembs=spembs)[\"wav\"]\n",
        "  temp = index_map(layer, 296261)\n",
        "  act = text2speech.vocoder.retained_layer(layer)[0][temp[1]][temp[2]]\n",
        "  print('Other spk, sen 1', act)\n",
        "  speaker_sentence_list.append('Other spk, sen 1')\n",
        "  activations_list.append(act.item())\n",
        "\n",
        "  # chosen speaker +5 saying other thing\n",
        "  x = \"Bring these things with her from the store.\"\n",
        "  wav = text2speech(x, spembs=spembs)[\"wav\"]\n",
        "  temp = index_map(layer, 296261)\n",
        "  act = text2speech.vocoder.retained_layer(layer)[0][temp[1]][temp[2]]\n",
        "  print('Other spk, sen 2', act)\n",
        "  speaker_sentence_list.append('Other spk, sen 2')\n",
        "  activations_list.append(act.item())\n",
        "\n",
        "print(activations_list)\n",
        "print(speaker_sentence_list)"
      ],
      "metadata": {
        "id": "ftrSC8cZACsv",
        "colab": {
          "base_uri": "https://localhost:8080/"
        },
        "outputId": "ca42c382-07c8-485c-875c-1f0bbd0ef080"
      },
      "execution_count": null,
      "outputs": [
        {
          "output_type": "stream",
          "name": "stdout",
          "text": [
            "selected spk: p225\n",
            "Southern spk, sen 1 tensor(0.7471)\n",
            "Southern spk, sen 2 tensor(0.8641)\n",
            "selected spk: p230\n",
            "Other spk, sen 1 tensor(0.5334)\n",
            "Other spk, sen 2 tensor(-0.0796)\n",
            "selected spk: p228\n",
            "Southern spk, sen 1 tensor(0.6028)\n",
            "Southern spk, sen 2 tensor(0.3567)\n",
            "selected spk: p233\n",
            "Other spk, sen 1 tensor(0.4916)\n",
            "Other spk, sen 2 tensor(0.6948)\n",
            "selected spk: p229\n",
            "Southern spk, sen 1 tensor(0.9550)\n",
            "Southern spk, sen 2 tensor(-0.0065)\n",
            "selected spk: p234\n",
            "Other spk, sen 1 tensor(0.8979)\n",
            "Other spk, sen 2 tensor(0.1091)\n",
            "selected spk: p231\n",
            "Southern spk, sen 1 tensor(1.1773)\n",
            "Southern spk, sen 2 tensor(0.7455)\n",
            "selected spk: p237\n",
            "Other spk, sen 1 tensor(0.7245)\n",
            "Other spk, sen 2 tensor(0.8347)\n",
            "selected spk: p232\n",
            "Southern spk, sen 1 tensor(0.5077)\n",
            "Southern spk, sen 2 tensor(0.6244)\n",
            "selected spk: p238\n",
            "Other spk, sen 1 tensor(0.7759)\n",
            "Other spk, sen 2 tensor(0.2805)\n",
            "selected spk: p268\n",
            "Southern spk, sen 1 tensor(1.0465)\n",
            "Southern spk, sen 2 tensor(0.4449)\n",
            "selected spk: p273\n",
            "Other spk, sen 1 tensor(0.7360)\n",
            "Other spk, sen 2 tensor(0.7638)\n",
            "selected spk: p240\n",
            "Southern spk, sen 1 tensor(1.1955)\n",
            "Southern spk, sen 2 tensor(0.6887)\n",
            "selected spk: p246\n",
            "Other spk, sen 1 tensor(-0.0157)\n",
            "Other spk, sen 2 tensor(0.5791)\n",
            "selected spk: p257\n",
            "Southern spk, sen 1 tensor(0.9895)\n",
            "Southern spk, sen 2 tensor(0.6181)\n",
            "selected spk: p262\n",
            "Other spk, sen 1 tensor(0.1296)\n",
            "Other spk, sen 2 tensor(0.7813)\n",
            "selected spk: p258\n",
            "Southern spk, sen 1 tensor(-0.0215)\n",
            "Southern spk, sen 2 tensor(0.5012)\n",
            "selected spk: p263\n",
            "Other spk, sen 1 tensor(0.0881)\n",
            "Other spk, sen 2 tensor(0.7624)\n",
            "[0.7471218109130859, 0.8640912175178528, 0.5334455966949463, -0.07962694764137268, 0.6027832627296448, 0.35674554109573364, 0.4915955066680908, 0.6948143839836121, 0.9549970030784607, -0.006516117602586746, 0.8978725075721741, 0.10913661867380142, 1.1772663593292236, 0.7455374002456665, 0.7245455980300903, 0.834739089012146, 0.5076642632484436, 0.6244201064109802, 0.7759455442428589, 0.2804889976978302, 1.0464504957199097, 0.4449324309825897, 0.7360318303108215, 0.7637926936149597, 1.195454478263855, 0.6886972784996033, -0.015671107918024063, 0.5791111588478088, 0.9894616603851318, 0.6180515885353088, 0.1296422779560089, 0.7812544107437134, -0.021509166806936264, 0.5011693239212036, 0.08813945949077606, 0.7624203562736511]\n",
            "['Southern spk, sen 1', 'Southern spk, sen 2', 'Other spk, sen 1', 'Other spk, sen 2', 'Southern spk, sen 1', 'Southern spk, sen 2', 'Other spk, sen 1', 'Other spk, sen 2', 'Southern spk, sen 1', 'Southern spk, sen 2', 'Other spk, sen 1', 'Other spk, sen 2', 'Southern spk, sen 1', 'Southern spk, sen 2', 'Other spk, sen 1', 'Other spk, sen 2', 'Southern spk, sen 1', 'Southern spk, sen 2', 'Other spk, sen 1', 'Other spk, sen 2', 'Southern spk, sen 1', 'Southern spk, sen 2', 'Other spk, sen 1', 'Other spk, sen 2', 'Southern spk, sen 1', 'Southern spk, sen 2', 'Other spk, sen 1', 'Other spk, sen 2', 'Southern spk, sen 1', 'Southern spk, sen 2', 'Other spk, sen 1', 'Other spk, sen 2', 'Southern spk, sen 1', 'Southern spk, sen 2', 'Other spk, sen 1', 'Other spk, sen 2']\n"
          ]
        }
      ]
    },
    {
      "cell_type": "code",
      "source": [
        "# print(iris)"
      ],
      "metadata": {
        "id": "SOVDkevsCxFe"
      },
      "execution_count": null,
      "outputs": []
    },
    {
      "cell_type": "code",
      "source": [
        "# # testing\n",
        "# import pandas as pd\n",
        "# Jitter = {}\n",
        "# # Jitter['Southern speaker, sentence 1'] = ['1', '1', '1']\n",
        "# # Jitter['Other speaker, sentence 1'] = ['2', '2', '2']\n",
        "# # Jitter['Southern speaker, sentence 2'] = ['2', '2', '2']\n",
        "# # Jitter['Other speaker, sentence 2'] = ['2', '2', '2']\n",
        "\n",
        "# Jitter['Speaker and sentence'] = ['Southern speaker, sentence 1','Southern speaker, sentence 2', 'Other speaker, sentence 1', 'Other speaker, sentence 2']\n",
        "# Jitter['Activations'] = ['1', '2', '3','4']\n",
        "# # Jitter['Speaker and sentence'] = ['Southern speaker, sentence 1']\n",
        "\n",
        "# print(Jitter['Speaker and sentence'])\n",
        "# frame = pd.DataFrame(Jitter)\n",
        "# print(frame)"
      ],
      "metadata": {
        "id": "hbvx656gE_vX"
      },
      "execution_count": null,
      "outputs": []
    },
    {
      "cell_type": "code",
      "source": [
        "import pandas as pd\n",
        "Jitter = {}\n",
        "\n",
        "Jitter['Speaker and sentence'] = speaker_sentence_list\n",
        "Jitter['Activations'] = activations_list\n",
        "\n",
        "# print(Jitter['Speaker and sentence'])\n",
        "frame = pd.DataFrame(Jitter)\n",
        "print(frame)"
      ],
      "metadata": {
        "colab": {
          "base_uri": "https://localhost:8080/"
        },
        "id": "lxNVRFdfLLUm",
        "outputId": "5f0c0bd5-0775-451e-d5f0-8388b811eb8c"
      },
      "execution_count": null,
      "outputs": [
        {
          "output_type": "stream",
          "name": "stdout",
          "text": [
            "   Speaker and sentence  Activations\n",
            "0   Southern spk, sen 1     0.747122\n",
            "1   Southern spk, sen 2     0.864091\n",
            "2      Other spk, sen 1     0.533446\n",
            "3      Other spk, sen 2    -0.079627\n",
            "4   Southern spk, sen 1     0.602783\n",
            "5   Southern spk, sen 2     0.356746\n",
            "6      Other spk, sen 1     0.491596\n",
            "7      Other spk, sen 2     0.694814\n",
            "8   Southern spk, sen 1     0.954997\n",
            "9   Southern spk, sen 2    -0.006516\n",
            "10     Other spk, sen 1     0.897873\n",
            "11     Other spk, sen 2     0.109137\n",
            "12  Southern spk, sen 1     1.177266\n",
            "13  Southern spk, sen 2     0.745537\n",
            "14     Other spk, sen 1     0.724546\n",
            "15     Other spk, sen 2     0.834739\n",
            "16  Southern spk, sen 1     0.507664\n",
            "17  Southern spk, sen 2     0.624420\n",
            "18     Other spk, sen 1     0.775946\n",
            "19     Other spk, sen 2     0.280489\n",
            "20  Southern spk, sen 1     1.046450\n",
            "21  Southern spk, sen 2     0.444932\n",
            "22     Other spk, sen 1     0.736032\n",
            "23     Other spk, sen 2     0.763793\n",
            "24  Southern spk, sen 1     1.195454\n",
            "25  Southern spk, sen 2     0.688697\n",
            "26     Other spk, sen 1    -0.015671\n",
            "27     Other spk, sen 2     0.579111\n",
            "28  Southern spk, sen 1     0.989462\n",
            "29  Southern spk, sen 2     0.618052\n",
            "30     Other spk, sen 1     0.129642\n",
            "31     Other spk, sen 2     0.781254\n",
            "32  Southern spk, sen 1    -0.021509\n",
            "33  Southern spk, sen 2     0.501169\n",
            "34     Other spk, sen 1     0.088139\n",
            "35     Other spk, sen 2     0.762420\n"
          ]
        }
      ]
    },
    {
      "cell_type": "code",
      "source": [
        "import seaborn as sns\n",
        "sns.set(font_scale = 0.8)\n",
        "\n",
        "g = sns.stripplot('Speaker and sentence', 'Activations', data=Jitter, jitter=0.2)\n",
        "g.set_xticklabels(g.get_xticklabels(), rotation=90)\n",
        "sns.despine()\n",
        "\n",
        "\n",
        "g.set_xlabel(\"Speaker and sentence\", fontsize = 10)\n",
        "g.set_ylabel(\"Activation\", fontsize = 10)\n",
        "\n",
        "plt.subplots_adjust(bottom=0.4, top=.98)\n",
        "plt.savefig('jitter-unit1.png', dpi=1200)"
      ],
      "metadata": {
        "colab": {
          "base_uri": "https://localhost:8080/",
          "height": 362
        },
        "id": "Xq-JYjOKLmjk",
        "outputId": "ae187372-3480-4a1a-eab2-f367c41da900"
      },
      "execution_count": null,
      "outputs": [
        {
          "output_type": "stream",
          "name": "stderr",
          "text": [
            "/usr/local/lib/python3.7/dist-packages/seaborn/_decorators.py:43: FutureWarning: Pass the following variables as keyword args: x, y. From version 0.12, the only valid positional argument will be `data`, and passing other arguments without an explicit keyword will result in an error or misinterpretation.\n",
            "  FutureWarning\n"
          ]
        },
        {
          "output_type": "display_data",
          "data": {
            "text/plain": [
              "<Figure size 432x288 with 1 Axes>"
            ],
            "image/png": "[encoded data removed]"
          },
          "metadata": {}
        }
      ]
    },
    {
      "cell_type": "code",
      "source": [
        "# import seaborn as sns\n",
        "\n",
        "# sns.set(style='ticks', context='talk')\n",
        "# iris = sns.load_dataset('iris')\n",
        "\n",
        "# sns.swarmplot('species', 'sepal_length', data=iris)\n",
        "# sns.despine()"
      ],
      "metadata": {
        "id": "BmkuEayi6cWG"
      },
      "execution_count": null,
      "outputs": []
    },
    {
      "cell_type": "code",
      "source": [
        "# g = sns.stripplot('Speaker and sentence', 'Activations', data=Jitter, jitter=0.2)\n",
        "# g.set_xticklabels(g.get_xticklabels(), rotation=90)\n",
        "# sns.despine()\n",
        "\n",
        "\n",
        "# g.set_xlabel(\"Speaker and sentence\", fontsize = 20)\n",
        "# g.set_ylabel(\"Activations\", fontsize = 20)"
      ],
      "metadata": {
        "id": "LphqVhBz3n2D"
      },
      "execution_count": null,
      "outputs": []
    },
    {
      "cell_type": "code",
      "source": [
        "# sns.set(style='ticks', context='talk')\n",
        "\n",
        "# sns.swarmplot('Speaker and sentence', 'Activations', data=Jitter)\n",
        "# # g.set_xticklabels(g.get_xticklabels(), rotation=90)\n",
        "# sns.despine()"
      ],
      "metadata": {
        "id": "pG2rGxnnGiI5"
      },
      "execution_count": null,
      "outputs": []
    },
    {
      "cell_type": "code",
      "source": [
        "\n",
        "from pyparsing import actions\n",
        "s_african = {82, 86, 93, 99}\n",
        "southern = {0, 3, 4, 6, 7, 14, 30, 31, 41}\n",
        "\n",
        "speaker_sentence_list = []\n",
        "activations_list = []\n",
        "\n",
        "\n",
        "for index in southern:\n",
        "  # chosen speaker saying normal thing\n",
        "  spk = spks[index]\n",
        "  spembs = xvectors[spk]\n",
        "  print(f\"selected spk: {spk}\")\n",
        "  x = \"Please call Stella.  Ask her too.\"\n",
        "  wav = text2speech(x, spembs=spembs)[\"wav\"]\n",
        "  temp = index_map(layer, 211622)\n",
        "  act = text2speech.vocoder.retained_layer(layer)[0][temp[1]][temp[2]]\n",
        "  print('Southern spk, sen 1', act)\n",
        "  speaker_sentence_list.append('Southern spk, sen 1')\n",
        "  activations_list.append(act.item())\n",
        "\n",
        "  # chosen speaker saying other thing\n",
        "  x = \"Bring these things with her from the store.\"\n",
        "  wav = text2speech(x, spembs=spembs)[\"wav\"]\n",
        "  temp = index_map(layer, 211622)\n",
        "  act = text2speech.vocoder.retained_layer(layer)[0][temp[1]][temp[2]]\n",
        "  print('Southern spk, sen 2', act)\n",
        "  speaker_sentence_list.append('Southern spk, sen 2')\n",
        "  activations_list.append(act.item())\n",
        "\n",
        "  # choose speaker + 5 speakers on (so no repeats for southern)\n",
        "  spk = spks[index+5]\n",
        "  spembs = xvectors[spk]\n",
        "  print(f\"selected spk: {spk}\")\n",
        "  x = \"Please call Stella.  Ask her too.\"\n",
        "  wav = text2speech(x, spembs=spembs)[\"wav\"]\n",
        "  temp = index_map(layer, 211622)\n",
        "  act = text2speech.vocoder.retained_layer(layer)[0][temp[1]][temp[2]]\n",
        "  print('Other spk, sen 1', act)\n",
        "  speaker_sentence_list.append('Other spk, sen 1')\n",
        "  activations_list.append(act.item())\n",
        "\n",
        "  # chosen speaker +5 saying other thing\n",
        "  x = \"Bring these things with her from the store.\"\n",
        "  wav = text2speech(x, spembs=spembs)[\"wav\"]\n",
        "  temp = index_map(layer, 211622)\n",
        "  act = text2speech.vocoder.retained_layer(layer)[0][temp[1]][temp[2]]\n",
        "  print('Other spk, sen 2', act)\n",
        "  speaker_sentence_list.append('Other spk, sen 2')\n",
        "  activations_list.append(act.item())\n",
        "\n",
        "# print(activations_list)\n",
        "# print(speaker_sentence_list)\n",
        "\n",
        "\n",
        "import pandas as pd\n",
        "Jitter = {}\n",
        "\n",
        "Jitter['Speaker and sentence'] = speaker_sentence_list\n",
        "Jitter['Activations'] = activations_list\n",
        "\n",
        "# print(Jitter['Speaker and sentence'])\n",
        "frame = pd.DataFrame(Jitter)\n",
        "print(frame)\n",
        "\n",
        "g = sns.stripplot('Speaker and sentence', 'Activations', data=Jitter, jitter=0.2)\n",
        "g.set_xticklabels(g.get_xticklabels(), rotation=90)\n",
        "sns.despine()\n",
        "\n",
        "\n",
        "g.set_xlabel(\"Speaker and sentence\", fontsize = 10)\n",
        "g.set_ylabel(\"Activation\", fontsize = 10)\n",
        "\n",
        "plt.subplots_adjust(bottom=0.4, top=.98)\n",
        "plt.savefig('jitter-unit2.png', dpi=1200)"
      ],
      "metadata": {
        "colab": {
          "base_uri": "https://localhost:8080/",
          "height": 1000
        },
        "id": "wQ9CmEJPMXxM",
        "outputId": "6422c57c-0f5b-461f-c608-88f4e28cd0e4"
      },
      "execution_count": null,
      "outputs": [
        {
          "output_type": "stream",
          "name": "stdout",
          "text": [
            "selected spk: p225\n",
            "Southern spk, sen 1 tensor(2.1866)\n",
            "Southern spk, sen 2 tensor(2.2941)\n",
            "selected spk: p230\n",
            "Other spk, sen 1 tensor(1.2253)\n",
            "Other spk, sen 2 tensor(1.7076)\n",
            "selected spk: p228\n",
            "Southern spk, sen 1 tensor(2.2158)\n",
            "Southern spk, sen 2 tensor(2.2970)\n",
            "selected spk: p233\n",
            "Other spk, sen 1 tensor(1.2861)\n",
            "Other spk, sen 2 tensor(1.2835)\n",
            "selected spk: p229\n",
            "Southern spk, sen 1 tensor(2.2349)\n",
            "Southern spk, sen 2 tensor(1.1594)\n",
            "selected spk: p234\n",
            "Other spk, sen 1 tensor(1.3119)\n",
            "Other spk, sen 2 tensor(0.4363)\n",
            "selected spk: p231\n",
            "Southern spk, sen 1 tensor(1.9730)\n",
            "Southern spk, sen 2 tensor(0.7755)\n",
            "selected spk: p237\n",
            "Other spk, sen 1 tensor(1.5461)\n",
            "Other spk, sen 2 tensor(1.1156)\n",
            "selected spk: p232\n",
            "Southern spk, sen 1 tensor(0.7513)\n",
            "Southern spk, sen 2 tensor(0.7266)\n",
            "selected spk: p238\n",
            "Other spk, sen 1 tensor(1.3596)\n",
            "Other spk, sen 2 tensor(0.6536)\n",
            "selected spk: p268\n",
            "Southern spk, sen 1 tensor(2.5796)\n",
            "Southern spk, sen 2 tensor(1.5849)\n",
            "selected spk: p273\n",
            "Other spk, sen 1 tensor(1.4139)\n",
            "Other spk, sen 2 tensor(1.0642)\n",
            "selected spk: p240\n",
            "Southern spk, sen 1 tensor(1.8223)\n",
            "Southern spk, sen 2 tensor(1.4782)\n",
            "selected spk: p246\n",
            "Other spk, sen 1 tensor(1.1527)\n",
            "Other spk, sen 2 tensor(0.8355)\n",
            "selected spk: p257\n",
            "Southern spk, sen 1 tensor(1.3257)\n",
            "Southern spk, sen 2 tensor(1.0651)\n",
            "selected spk: p262\n",
            "Other spk, sen 1 tensor(1.2582)\n",
            "Other spk, sen 2 tensor(1.6748)\n",
            "selected spk: p258\n",
            "Southern spk, sen 1 tensor(2.5587)\n",
            "Southern spk, sen 2 tensor(1.5064)\n",
            "selected spk: p263\n",
            "Other spk, sen 1 tensor(2.1496)\n",
            "Other spk, sen 2 tensor(2.2812)\n",
            "   Speaker and sentence  Activations\n",
            "0   Southern spk, sen 1     2.186631\n",
            "1   Southern spk, sen 2     2.294107\n",
            "2      Other spk, sen 1     1.225305\n",
            "3      Other spk, sen 2     1.707633\n",
            "4   Southern spk, sen 1     2.215849\n",
            "5   Southern spk, sen 2     2.297032\n",
            "6      Other spk, sen 1     1.286103\n",
            "7      Other spk, sen 2     1.283484\n",
            "8   Southern spk, sen 1     2.234865\n",
            "9   Southern spk, sen 2     1.159422\n",
            "10     Other spk, sen 1     1.311854\n",
            "11     Other spk, sen 2     0.436294\n",
            "12  Southern spk, sen 1     1.972953\n",
            "13  Southern spk, sen 2     0.775535\n",
            "14     Other spk, sen 1     1.546067\n",
            "15     Other spk, sen 2     1.115622\n",
            "16  Southern spk, sen 1     0.751272\n",
            "17  Southern spk, sen 2     0.726634\n",
            "18     Other spk, sen 1     1.359559\n",
            "19     Other spk, sen 2     0.653580\n",
            "20  Southern spk, sen 1     2.579566\n",
            "21  Southern spk, sen 2     1.584853\n",
            "22     Other spk, sen 1     1.413939\n",
            "23     Other spk, sen 2     1.064201\n",
            "24  Southern spk, sen 1     1.822255\n",
            "25  Southern spk, sen 2     1.478210\n",
            "26     Other spk, sen 1     1.152740\n",
            "27     Other spk, sen 2     0.835506\n",
            "28  Southern spk, sen 1     1.325727\n",
            "29  Southern spk, sen 2     1.065093\n",
            "30     Other spk, sen 1     1.258165\n",
            "31     Other spk, sen 2     1.674759\n",
            "32  Southern spk, sen 1     2.558709\n",
            "33  Southern spk, sen 2     1.506378\n",
            "34     Other spk, sen 1     2.149642\n",
            "35     Other spk, sen 2     2.281207\n"
          ]
        },
        {
          "output_type": "stream",
          "name": "stderr",
          "text": [
            "/usr/local/lib/python3.7/dist-packages/seaborn/_decorators.py:43: FutureWarning: Pass the following variables as keyword args: x, y. From version 0.12, the only valid positional argument will be `data`, and passing other arguments without an explicit keyword will result in an error or misinterpretation.\n",
            "  FutureWarning\n"
          ]
        },
        {
          "output_type": "display_data",
          "data": {
            "text/plain": [
              "<Figure size 432x288 with 1 Axes>"
            ],
            "image/png": "[encoded data removed]"
          },
          "metadata": {}
        }
      ]
    },
    {
      "cell_type": "code",
      "source": [
        "from pyparsing import actions\n",
        "s_african = {82, 86, 93, 99}\n",
        "southern = {0, 3, 4, 6, 7, 14, 30, 31, 41}\n",
        "\n",
        "speaker_sentence_list = []\n",
        "activations_list = []\n",
        "\n",
        "\n",
        "for index in southern:\n",
        "  # chosen speaker saying normal thing\n",
        "  spk = spks[index]\n",
        "  spembs = xvectors[spk]\n",
        "  print(f\"selected spk: {spk}\")\n",
        "  x = \"Please call Stella.  Ask her too.\"\n",
        "  wav = text2speech(x, spembs=spembs)[\"wav\"]\n",
        "  temp = index_map(layer, 211614)\n",
        "  act = text2speech.vocoder.retained_layer(layer)[0][temp[1]][temp[2]]\n",
        "  print('Southern spk, sen 1', act)\n",
        "  speaker_sentence_list.append('Southern spk, sen 1')\n",
        "  activations_list.append(act.item())\n",
        "\n",
        "  # chosen speaker saying other thing\n",
        "  x = \"Bring these things with her from the store.\"\n",
        "  wav = text2speech(x, spembs=spembs)[\"wav\"]\n",
        "  temp = index_map(layer, 211614)\n",
        "  act = text2speech.vocoder.retained_layer(layer)[0][temp[1]][temp[2]]\n",
        "  print('Southern spk, sen 2', act)\n",
        "  speaker_sentence_list.append('Southern spk, sen 2')\n",
        "  activations_list.append(act.item())\n",
        "\n",
        "  # choose speaker + 5 speakers on (so no repeats for southern)\n",
        "  spk = spks[index+5]\n",
        "  spembs = xvectors[spk]\n",
        "  print(f\"selected spk: {spk}\")\n",
        "  x = \"Please call Stella.  Ask her too.\"\n",
        "  wav = text2speech(x, spembs=spembs)[\"wav\"]\n",
        "  temp = index_map(layer, 211614)\n",
        "  act = text2speech.vocoder.retained_layer(layer)[0][temp[1]][temp[2]]\n",
        "  print('Other spk, sen 1', act)\n",
        "  speaker_sentence_list.append('Other spk, sen 1')\n",
        "  activations_list.append(act.item())\n",
        "\n",
        "  # chosen speaker +5 saying other thing\n",
        "  x = \"Bring these things with her from the store.\"\n",
        "  wav = text2speech(x, spembs=spembs)[\"wav\"]\n",
        "  temp = index_map(layer, 211614)\n",
        "  act = text2speech.vocoder.retained_layer(layer)[0][temp[1]][temp[2]]\n",
        "  print('Other spk, sen 2', act)\n",
        "  speaker_sentence_list.append('Other spk, sen 2')\n",
        "  activations_list.append(act.item())\n",
        "\n",
        "# print(activations_list)\n",
        "# print(speaker_sentence_list)\n",
        "\n",
        "\n",
        "import pandas as pd\n",
        "Jitter = {}\n",
        "\n",
        "Jitter['Speaker and sentence'] = speaker_sentence_list\n",
        "Jitter['Activations'] = activations_list\n",
        "\n",
        "# print(Jitter['Speaker and sentence'])\n",
        "frame = pd.DataFrame(Jitter)\n",
        "print(frame)\n",
        "\n",
        "g = sns.stripplot('Speaker and sentence', 'Activations', data=Jitter, jitter=0.2)\n",
        "g.set_xticklabels(g.get_xticklabels(), rotation=90)\n",
        "sns.despine()\n",
        "\n",
        "\n",
        "g.set_xlabel(\"Speaker and sentence\", fontsize = 10)\n",
        "g.set_ylabel(\"Activation\", fontsize = 10)\n",
        "\n",
        "plt.subplots_adjust(bottom=0.4, top=.98)\n",
        "plt.savefig('jitter-unit3.png', dpi=1200)"
      ],
      "metadata": {
        "colab": {
          "base_uri": "https://localhost:8080/",
          "height": 1000
        },
        "id": "wjUAV_DcNQVt",
        "outputId": "95644862-5d3e-4afc-fcf6-f66fdbf0678d"
      },
      "execution_count": null,
      "outputs": [
        {
          "output_type": "stream",
          "name": "stdout",
          "text": [
            "selected spk: p225\n",
            "Southern spk, sen 1 tensor(2.3913)\n",
            "Southern spk, sen 2 tensor(1.9750)\n",
            "selected spk: p230\n",
            "Other spk, sen 1 tensor(1.8133)\n",
            "Other spk, sen 2 tensor(1.6333)\n",
            "selected spk: p228\n",
            "Southern spk, sen 1 tensor(2.3652)\n",
            "Southern spk, sen 2 tensor(2.0908)\n",
            "selected spk: p233\n",
            "Other spk, sen 1 tensor(1.3696)\n",
            "Other spk, sen 2 tensor(1.2910)\n",
            "selected spk: p229\n",
            "Southern spk, sen 1 tensor(1.9652)\n",
            "Southern spk, sen 2 tensor(1.6626)\n",
            "selected spk: p234\n",
            "Other spk, sen 1 tensor(1.6723)\n",
            "Other spk, sen 2 tensor(0.5155)\n",
            "selected spk: p231\n",
            "Southern spk, sen 1 tensor(2.3827)\n",
            "Southern spk, sen 2 tensor(1.1838)\n",
            "selected spk: p237\n",
            "Other spk, sen 1 tensor(1.2962)\n",
            "Other spk, sen 2 tensor(1.5607)\n",
            "selected spk: p232\n",
            "Southern spk, sen 1 tensor(0.7236)\n",
            "Southern spk, sen 2 tensor(0.7278)\n",
            "selected spk: p238\n",
            "Other spk, sen 1 tensor(1.4227)\n",
            "Other spk, sen 2 tensor(0.4699)\n",
            "selected spk: p268\n",
            "Southern spk, sen 1 tensor(2.7376)\n",
            "Southern spk, sen 2 tensor(2.5179)\n",
            "selected spk: p273\n",
            "Other spk, sen 1 tensor(1.1218)\n",
            "Other spk, sen 2 tensor(1.5727)\n",
            "selected spk: p240\n",
            "Southern spk, sen 1 tensor(2.1747)\n",
            "Southern spk, sen 2 tensor(1.6601)\n",
            "selected spk: p246\n",
            "Other spk, sen 1 tensor(1.4555)\n",
            "Other spk, sen 2 tensor(0.9495)\n",
            "selected spk: p257\n",
            "Southern spk, sen 1 tensor(1.4742)\n",
            "Southern spk, sen 2 tensor(1.2574)\n",
            "selected spk: p262\n",
            "Other spk, sen 1 tensor(1.4942)\n",
            "Other spk, sen 2 tensor(1.8929)\n",
            "selected spk: p258\n",
            "Southern spk, sen 1 tensor(3.1797)\n",
            "Southern spk, sen 2 tensor(1.9685)\n",
            "selected spk: p263\n",
            "Other spk, sen 1 tensor(2.0130)\n",
            "Other spk, sen 2 tensor(2.6816)\n",
            "   Speaker and sentence  Activations\n",
            "0   Southern spk, sen 1     2.391336\n",
            "1   Southern spk, sen 2     1.974954\n",
            "2      Other spk, sen 1     1.813294\n",
            "3      Other spk, sen 2     1.633316\n",
            "4   Southern spk, sen 1     2.365189\n",
            "5   Southern spk, sen 2     2.090777\n",
            "6      Other spk, sen 1     1.369578\n",
            "7      Other spk, sen 2     1.290982\n",
            "8   Southern spk, sen 1     1.965219\n",
            "9   Southern spk, sen 2     1.662640\n",
            "10     Other spk, sen 1     1.672328\n",
            "11     Other spk, sen 2     0.515519\n",
            "12  Southern spk, sen 1     2.382691\n",
            "13  Southern spk, sen 2     1.183832\n",
            "14     Other spk, sen 1     1.296229\n",
            "15     Other spk, sen 2     1.560702\n",
            "16  Southern spk, sen 1     0.723579\n",
            "17  Southern spk, sen 2     0.727829\n",
            "18     Other spk, sen 1     1.422698\n",
            "19     Other spk, sen 2     0.469933\n",
            "20  Southern spk, sen 1     2.737552\n",
            "21  Southern spk, sen 2     2.517948\n",
            "22     Other spk, sen 1     1.121812\n",
            "23     Other spk, sen 2     1.572653\n",
            "24  Southern spk, sen 1     2.174695\n",
            "25  Southern spk, sen 2     1.660132\n",
            "26     Other spk, sen 1     1.455534\n",
            "27     Other spk, sen 2     0.949452\n",
            "28  Southern spk, sen 1     1.474168\n",
            "29  Southern spk, sen 2     1.257432\n",
            "30     Other spk, sen 1     1.494163\n",
            "31     Other spk, sen 2     1.892942\n",
            "32  Southern spk, sen 1     3.179658\n",
            "33  Southern spk, sen 2     1.968455\n",
            "34     Other spk, sen 1     2.013017\n",
            "35     Other spk, sen 2     2.681597\n"
          ]
        },
        {
          "output_type": "stream",
          "name": "stderr",
          "text": [
            "/usr/local/lib/python3.7/dist-packages/seaborn/_decorators.py:43: FutureWarning: Pass the following variables as keyword args: x, y. From version 0.12, the only valid positional argument will be `data`, and passing other arguments without an explicit keyword will result in an error or misinterpretation.\n",
            "  FutureWarning\n"
          ]
        },
        {
          "output_type": "display_data",
          "data": {
            "text/plain": [
              "<Figure size 432x288 with 1 Axes>"
            ],
            "image/png": "[encoded data removed]"
          },
          "metadata": {}
        }
      ]
    },
    {
      "cell_type": "code",
      "source": [
        "print(index_map(layer, 296261))\n",
        "print(index_map(layer, 211622))\n",
        "print(index_map(layer, 211614))"
      ],
      "metadata": {
        "colab": {
          "base_uri": "https://localhost:8080/"
        },
        "id": "hplpOnl0Sb0_",
        "outputId": "22af7797-1056-4b58-f0f9-b4d6c52be819"
      },
      "execution_count": null,
      "outputs": [
        {
          "output_type": "stream",
          "name": "stdout",
          "text": [
            "[0, 29, 6261]\n",
            "[0, 21, 1622]\n",
            "[0, 21, 1614]\n"
          ]
        }
      ]
    },
    {
      "cell_type": "code",
      "source": [],
      "metadata": {
        "id": "nhl16X0TZmjF"
      },
      "execution_count": null,
      "outputs": []
    }
  ]
}