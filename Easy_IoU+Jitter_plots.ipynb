{
  "nbformat": 4,
  "nbformat_minor": 0,
  "metadata": {
    "colab": {
      "provenance": [],
      "machine_shape": "hm"
    },
    "kernelspec": {
      "name": "python3",
      "display_name": "Python 3"
    },
    "language_info": {
      "name": "python"
    },
    "gpuClass": "standard",
    "accelerator": "GPU"
  },
  "cells": [
    {
      "cell_type": "code",
      "source": [
        "# REMEBER TO USE CORRECT TTS_INFERENCE.PY"
      ],
      "metadata": {
        "id": "MU2t48ShJNls"
      },
      "execution_count": null,
      "outputs": []
    },
    {
      "cell_type": "code",
      "source": [
        "pip install git+https://github.com/billybraith17/billiespnet"
      ],
      "metadata": {
        "id": "_CzJ2t3J0d45",
        "colab": {
          "base_uri": "https://localhost:8080/"
        },
        "outputId": "efa0865c-c99d-4a93-9003-3747a3782886"
      },
      "execution_count": null,
      "outputs": [
        {
          "output_type": "stream",
          "name": "stdout",
          "text": [
            "Looking in indexes: https://pypi.org/simple, https://us-python.pkg.dev/colab-wheels/public/simple/\n",
            "Collecting git+https://github.com/billybraith17/billiespnet\n",
            "  Cloning https://github.com/billybraith17/billiespnet to /tmp/pip-req-build-2t5712mw\n",
            "  Running command git clone -q https://github.com/billybraith17/billiespnet /tmp/pip-req-build-2t5712mw\n",
            "  Running command git submodule update --init --recursive -q\n",
            "Requirement already satisfied: setuptools>=38.5.1 in /usr/local/lib/python3.7/dist-packages (from espnet==202205) (57.4.0)\n",
            "Requirement already satisfied: packaging in /usr/local/lib/python3.7/dist-packages (from espnet==202205) (21.3)\n",
            "Collecting configargparse>=1.2.1\n",
            "  Downloading ConfigArgParse-1.5.3-py3-none-any.whl (20 kB)\n",
            "Requirement already satisfied: typeguard>=2.7.0 in /usr/local/lib/python3.7/dist-packages (from espnet==202205) (2.7.1)\n",
            "Collecting humanfriendly\n",
            "  Downloading humanfriendly-10.0-py2.py3-none-any.whl (86 kB)\n",
            "\u001b[K     |████████████████████████████████| 86 kB 3.3 MB/s \n",
            "\u001b[?25hRequirement already satisfied: scipy>=1.4.1 in /usr/local/lib/python3.7/dist-packages (from espnet==202205) (1.7.3)\n",
            "Requirement already satisfied: filelock in /usr/local/lib/python3.7/dist-packages (from espnet==202205) (3.8.0)\n",
            "Requirement already satisfied: librosa>=0.8.0 in /usr/local/lib/python3.7/dist-packages (from espnet==202205) (0.8.1)\n",
            "Collecting jamo==0.4.1\n",
            "  Downloading jamo-0.4.1-py3-none-any.whl (9.5 kB)\n",
            "Requirement already satisfied: PyYAML>=5.1.2 in /usr/local/lib/python3.7/dist-packages (from espnet==202205) (6.0)\n",
            "Requirement already satisfied: soundfile>=0.10.2 in /usr/local/lib/python3.7/dist-packages (from espnet==202205) (0.10.3.post1)\n",
            "Requirement already satisfied: h5py>=2.10.0 in /usr/local/lib/python3.7/dist-packages (from espnet==202205) (3.1.0)\n",
            "Collecting kaldiio>=2.17.0\n",
            "  Downloading kaldiio-2.17.2.tar.gz (24 kB)\n",
            "Requirement already satisfied: torch>=1.3.0 in /usr/local/lib/python3.7/dist-packages (from espnet==202205) (1.12.1+cu113)\n",
            "Collecting torch_complex\n",
            "  Downloading torch_complex-0.4.3-py3-none-any.whl (9.1 kB)\n",
            "Requirement already satisfied: nltk>=3.4.5 in /usr/local/lib/python3.7/dist-packages (from espnet==202205) (3.7)\n",
            "Requirement already satisfied: protobuf<=3.20.1 in /usr/local/lib/python3.7/dist-packages (from espnet==202205) (3.17.3)\n",
            "Collecting sentencepiece\n",
            "  Downloading sentencepiece-0.1.97-cp37-cp37m-manylinux_2_17_x86_64.manylinux2014_x86_64.whl (1.3 MB)\n",
            "\u001b[K     |████████████████████████████████| 1.3 MB 29.6 MB/s \n",
            "\u001b[?25hCollecting ctc-segmentation<1.8,>=1.6.6\n",
            "  Downloading ctc_segmentation-1.7.3.tar.gz (73 kB)\n",
            "\u001b[K     |████████████████████████████████| 73 kB 2.1 MB/s \n",
            "\u001b[?25h  Installing build dependencies ... \u001b[?25l\u001b[?25hdone\n",
            "  Getting requirements to build wheel ... \u001b[?25l\u001b[?25hdone\n",
            "    Preparing wheel metadata ... \u001b[?25l\u001b[?25hdone\n",
            "Collecting pyworld>=0.2.10\n",
            "  Downloading pyworld-0.3.0.tar.gz (212 kB)\n",
            "\u001b[K     |████████████████████████████████| 212 kB 48.9 MB/s \n",
            "\u001b[?25h  Installing build dependencies ... \u001b[?25l\u001b[?25hdone\n",
            "  Getting requirements to build wheel ... \u001b[?25l\u001b[?25hdone\n",
            "    Preparing wheel metadata ... \u001b[?25l\u001b[?25hdone\n",
            "Collecting pypinyin<=0.44.0\n",
            "  Downloading pypinyin-0.44.0-py2.py3-none-any.whl (1.3 MB)\n",
            "\u001b[K     |████████████████████████████████| 1.3 MB 59.7 MB/s \n",
            "\u001b[?25hCollecting espnet_tts_frontend\n",
            "  Downloading espnet_tts_frontend-0.0.3-py3-none-any.whl (11 kB)\n",
            "Collecting ci_sdr\n",
            "  Downloading ci_sdr-0.0.0.tar.gz (15 kB)\n",
            "Collecting pytorch_wpe\n",
            "  Downloading pytorch_wpe-0.0.1-py3-none-any.whl (8.1 kB)\n",
            "Collecting fast-bss-eval==0.1.3\n",
            "  Downloading fast_bss_eval-0.1.3.tar.gz (33 kB)\n",
            "Requirement already satisfied: numpy in /usr/local/lib/python3.7/dist-packages (from fast-bss-eval==0.1.3->espnet==202205) (1.21.6)\n",
            "Requirement already satisfied: Cython in /usr/local/lib/python3.7/dist-packages (from ctc-segmentation<1.8,>=1.6.6->espnet==202205) (0.29.32)\n",
            "Requirement already satisfied: cached-property in /usr/local/lib/python3.7/dist-packages (from h5py>=2.10.0->espnet==202205) (1.5.2)\n",
            "Requirement already satisfied: numba>=0.43.0 in /usr/local/lib/python3.7/dist-packages (from librosa>=0.8.0->espnet==202205) (0.56.0)\n",
            "Requirement already satisfied: pooch>=1.0 in /usr/local/lib/python3.7/dist-packages (from librosa>=0.8.0->espnet==202205) (1.6.0)\n",
            "Requirement already satisfied: scikit-learn!=0.19.0,>=0.14.0 in /usr/local/lib/python3.7/dist-packages (from librosa>=0.8.0->espnet==202205) (1.0.2)\n",
            "Requirement already satisfied: audioread>=2.0.0 in /usr/local/lib/python3.7/dist-packages (from librosa>=0.8.0->espnet==202205) (3.0.0)\n",
            "Requirement already satisfied: decorator>=3.0.0 in /usr/local/lib/python3.7/dist-packages (from librosa>=0.8.0->espnet==202205) (4.4.2)\n",
            "Requirement already satisfied: joblib>=0.14 in /usr/local/lib/python3.7/dist-packages (from librosa>=0.8.0->espnet==202205) (1.1.0)\n",
            "Requirement already satisfied: resampy>=0.2.2 in /usr/local/lib/python3.7/dist-packages (from librosa>=0.8.0->espnet==202205) (0.4.0)\n",
            "Requirement already satisfied: click in /usr/local/lib/python3.7/dist-packages (from nltk>=3.4.5->espnet==202205) (7.1.2)\n",
            "Requirement already satisfied: regex>=2021.8.3 in /usr/local/lib/python3.7/dist-packages (from nltk>=3.4.5->espnet==202205) (2022.6.2)\n",
            "Requirement already satisfied: tqdm in /usr/local/lib/python3.7/dist-packages (from nltk>=3.4.5->espnet==202205) (4.64.0)\n",
            "Requirement already satisfied: importlib-metadata in /usr/local/lib/python3.7/dist-packages (from numba>=0.43.0->librosa>=0.8.0->espnet==202205) (4.12.0)\n",
            "Requirement already satisfied: llvmlite<0.40,>=0.39.0dev0 in /usr/local/lib/python3.7/dist-packages (from numba>=0.43.0->librosa>=0.8.0->espnet==202205) (0.39.0)\n",
            "Requirement already satisfied: pyparsing!=3.0.5,>=2.0.2 in /usr/local/lib/python3.7/dist-packages (from packaging->espnet==202205) (3.0.9)\n",
            "Requirement already satisfied: appdirs>=1.3.0 in /usr/local/lib/python3.7/dist-packages (from pooch>=1.0->librosa>=0.8.0->espnet==202205) (1.4.4)\n",
            "Requirement already satisfied: requests>=2.19.0 in /usr/local/lib/python3.7/dist-packages (from pooch>=1.0->librosa>=0.8.0->espnet==202205) (2.23.0)\n",
            "Requirement already satisfied: six>=1.9 in /usr/local/lib/python3.7/dist-packages (from protobuf<=3.20.1->espnet==202205) (1.15.0)\n",
            "Requirement already satisfied: certifi>=2017.4.17 in /usr/local/lib/python3.7/dist-packages (from requests>=2.19.0->pooch>=1.0->librosa>=0.8.0->espnet==202205) (2022.6.15)\n",
            "Requirement already satisfied: chardet<4,>=3.0.2 in /usr/local/lib/python3.7/dist-packages (from requests>=2.19.0->pooch>=1.0->librosa>=0.8.0->espnet==202205) (3.0.4)\n",
            "Requirement already satisfied: idna<3,>=2.5 in /usr/local/lib/python3.7/dist-packages (from requests>=2.19.0->pooch>=1.0->librosa>=0.8.0->espnet==202205) (2.10)\n",
            "Requirement already satisfied: urllib3!=1.25.0,!=1.25.1,<1.26,>=1.21.1 in /usr/local/lib/python3.7/dist-packages (from requests>=2.19.0->pooch>=1.0->librosa>=0.8.0->espnet==202205) (1.24.3)\n",
            "Requirement already satisfied: threadpoolctl>=2.0.0 in /usr/local/lib/python3.7/dist-packages (from scikit-learn!=0.19.0,>=0.14.0->librosa>=0.8.0->espnet==202205) (3.1.0)\n",
            "Requirement already satisfied: cffi>=1.0 in /usr/local/lib/python3.7/dist-packages (from soundfile>=0.10.2->espnet==202205) (1.15.1)\n",
            "Requirement already satisfied: pycparser in /usr/local/lib/python3.7/dist-packages (from cffi>=1.0->soundfile>=0.10.2->espnet==202205) (2.21)\n",
            "Requirement already satisfied: typing-extensions in /usr/local/lib/python3.7/dist-packages (from torch>=1.3.0->espnet==202205) (4.1.1)\n",
            "Collecting einops\n",
            "  Downloading einops-0.4.1-py3-none-any.whl (28 kB)\n",
            "Collecting g2p-en\n",
            "  Downloading g2p_en-2.1.0-py3-none-any.whl (3.1 MB)\n",
            "\u001b[K     |████████████████████████████████| 3.1 MB 46.9 MB/s \n",
            "\u001b[?25hCollecting jaconv\n",
            "  Downloading jaconv-0.3.tar.gz (15 kB)\n",
            "Collecting unidecode>=1.0.22\n",
            "  Downloading Unidecode-1.3.4-py3-none-any.whl (235 kB)\n",
            "\u001b[K     |████████████████████████████████| 235 kB 55.1 MB/s \n",
            "\u001b[?25hRequirement already satisfied: inflect>=1.0.0 in /usr/local/lib/python3.7/dist-packages (from espnet_tts_frontend->espnet==202205) (2.1.0)\n",
            "Collecting distance>=0.1.3\n",
            "  Downloading Distance-0.1.3.tar.gz (180 kB)\n",
            "\u001b[K     |████████████████████████████████| 180 kB 62.9 MB/s \n",
            "\u001b[?25hRequirement already satisfied: zipp>=0.5 in /usr/local/lib/python3.7/dist-packages (from importlib-metadata->numba>=0.43.0->librosa>=0.8.0->espnet==202205) (3.8.1)\n",
            "Building wheels for collected packages: espnet, fast-bss-eval, ctc-segmentation, kaldiio, pyworld, ci-sdr, distance, jaconv\n",
            "  Building wheel for espnet (setup.py) ... \u001b[?25l\u001b[?25hdone\n",
            "  Created wheel for espnet: filename=espnet-202205-py3-none-any.whl size=1089462 sha256=4c1a8c3b21ab737493996aa355c1da83e93bd3ccc9ada9295f463c89c3eca024\n",
            "  Stored in directory: /tmp/pip-ephem-wheel-cache-pcs99ha6/wheels/da/3c/cd/c9ce49d39e91d2dd024f37100d25b8baa41d1bdac6c844a86c\n",
            "  Building wheel for fast-bss-eval (setup.py) ... \u001b[?25l\u001b[?25hdone\n",
            "  Created wheel for fast-bss-eval: filename=fast_bss_eval-0.1.3-py3-none-any.whl size=44261 sha256=0e5f706227e413828ae646c6930817e06a461fe852a0053edb1e4fda8d13b554\n",
            "  Stored in directory: /root/.cache/pip/wheels/45/38/82/6507c8f1765284b45fac38f334621435b633499f27c813e3f1\n",
            "  Building wheel for ctc-segmentation (PEP 517) ... \u001b[?25l\u001b[?25hdone\n",
            "  Created wheel for ctc-segmentation: filename=ctc_segmentation-1.7.3-cp37-cp37m-linux_x86_64.whl size=116116 sha256=c257d89161b93ce4cc6d616d9037a5f55830fff4cecbf7433fe2c2f39cc41811\n",
            "  Stored in directory: /root/.cache/pip/wheels/ea/75/dd/20a877c8ca5efbf5f19d9ff1cfd5c7e0934f55b70aec99f795\n",
            "  Building wheel for kaldiio (setup.py) ... \u001b[?25l\u001b[?25hdone\n",
            "  Created wheel for kaldiio: filename=kaldiio-2.17.2-py3-none-any.whl size=24471 sha256=06ea0e0d2690d216914e7c504a99958bf1d976c365b3fefe932a4216a82e2ad4\n",
            "  Stored in directory: /root/.cache/pip/wheels/04/07/e8/45641287c59bf6ce41e22259f8680b521c31e6306cb88392ac\n",
            "  Building wheel for pyworld (PEP 517) ... \u001b[?25l\u001b[?25hdone\n",
            "  Created wheel for pyworld: filename=pyworld-0.3.0-cp37-cp37m-linux_x86_64.whl size=609487 sha256=499038e404e4d33a9bb66c4203cb393dd92ba526c8ef2177e2cf41b1c34b7b76\n",
            "  Stored in directory: /root/.cache/pip/wheels/e7/7c/11/c775fffa0e1e7b05a6604b4323408a77f80fb4ab304d96b5c6\n",
            "  Building wheel for ci-sdr (setup.py) ... \u001b[?25l\u001b[?25hdone\n",
            "  Created wheel for ci-sdr: filename=ci_sdr-0.0.0-py3-none-any.whl size=14979 sha256=1183792ec6f4226000722dddb5180ac6fb337466e1c35f02ed8d5c4f01ddc2a6\n",
            "  Stored in directory: /root/.cache/pip/wheels/5f/38/80/2c54c1a4d62cbd3e0871eac9bb5dbb1f93257423888a4ae0ce\n",
            "  Building wheel for distance (setup.py) ... \u001b[?25l\u001b[?25hdone\n",
            "  Created wheel for distance: filename=Distance-0.1.3-py3-none-any.whl size=16276 sha256=f6360f1a89ac259f018bad38f4d8d70ce8a512a3b3169483b0410e5f65f25290\n",
            "  Stored in directory: /root/.cache/pip/wheels/b2/10/1b/96fca621a1be378e2fe104cfb0d160bb6cdf3d04a3d35266cc\n",
            "  Building wheel for jaconv (setup.py) ... \u001b[?25l\u001b[?25hdone\n",
            "  Created wheel for jaconv: filename=jaconv-0.3-py3-none-any.whl size=15564 sha256=b898f00dfd7e7ed14a3a840e66e1a09b8f7d68b461d30fc76752e8385ea90320\n",
            "  Stored in directory: /root/.cache/pip/wheels/8f/4f/c2/a2a3b14d0e94f855f4aa8887bf0267bee9ecfb8e62a9ee2d92\n",
            "Successfully built espnet fast-bss-eval ctc-segmentation kaldiio pyworld ci-sdr distance jaconv\n",
            "Installing collected packages: distance, unidecode, pypinyin, jaconv, g2p-en, einops, torch-complex, sentencepiece, pyworld, pytorch-wpe, kaldiio, jamo, humanfriendly, fast-bss-eval, espnet-tts-frontend, ctc-segmentation, configargparse, ci-sdr, espnet\n",
            "Successfully installed ci-sdr-0.0.0 configargparse-1.5.3 ctc-segmentation-1.7.3 distance-0.1.3 einops-0.4.1 espnet-202205 espnet-tts-frontend-0.0.3 fast-bss-eval-0.1.3 g2p-en-2.1.0 humanfriendly-10.0 jaconv-0.3 jamo-0.4.1 kaldiio-2.17.2 pypinyin-0.44.0 pytorch-wpe-0.0.1 pyworld-0.3.0 sentencepiece-0.1.97 torch-complex-0.4.3 unidecode-1.3.4\n"
          ]
        }
      ]
    },
    {
      "cell_type": "code",
      "execution_count": null,
      "metadata": {
        "id": "RvNwM0Ecg4ac",
        "colab": {
          "base_uri": "https://localhost:8080/"
        },
        "outputId": "ef6be46e-37a1-46c8-dadc-3e5934ca75f2"
      },
      "outputs": [
        {
          "output_type": "stream",
          "name": "stdout",
          "text": [
            "Looking in indexes: https://pypi.org/simple, https://us-python.pkg.dev/colab-wheels/public/simple/\n",
            "Requirement already satisfied: torch in /usr/local/lib/python3.7/dist-packages (1.12.1+cu113)\n",
            "Requirement already satisfied: espnet in /usr/local/lib/python3.7/dist-packages (202205)\n",
            "Collecting espnet_model_zoo\n",
            "  Downloading espnet_model_zoo-0.1.7-py3-none-any.whl (19 kB)\n",
            "Collecting parallel_wavegan==0.5.4\n",
            "  Downloading parallel_wavegan-0.5.4.tar.gz (68 kB)\n",
            "\u001b[K     |████████████████████████████████| 68 kB 3.4 MB/s \n",
            "\u001b[?25hRequirement already satisfied: setuptools>=38.5.1 in /usr/local/lib/python3.7/dist-packages (from parallel_wavegan==0.5.4) (57.4.0)\n",
            "Requirement already satisfied: librosa>=0.8.0 in /usr/local/lib/python3.7/dist-packages (from parallel_wavegan==0.5.4) (0.8.1)\n",
            "Requirement already satisfied: soundfile>=0.10.2 in /usr/local/lib/python3.7/dist-packages (from parallel_wavegan==0.5.4) (0.10.3.post1)\n",
            "\u001b[33mWARNING: Retrying (Retry(total=4, connect=None, read=None, redirect=None, status=None)) after connection broken by 'ProtocolError('Connection aborted.', ConnectionResetError(104, 'Connection reset by peer'))': /simple/tensorboardx/\u001b[0m\n",
            "Collecting tensorboardX>=1.8\n",
            "  Downloading tensorboardX-2.5.1-py2.py3-none-any.whl (125 kB)\n",
            "\u001b[K     |████████████████████████████████| 125 kB 27.3 MB/s \n",
            "\u001b[?25hRequirement already satisfied: matplotlib>=3.1.0 in /usr/local/lib/python3.7/dist-packages (from parallel_wavegan==0.5.4) (3.2.2)\n",
            "Requirement already satisfied: PyYAML>=3.12 in /usr/local/lib/python3.7/dist-packages (from parallel_wavegan==0.5.4) (6.0)\n",
            "Requirement already satisfied: tqdm>=4.26.1 in /usr/local/lib/python3.7/dist-packages (from parallel_wavegan==0.5.4) (4.64.0)\n",
            "Requirement already satisfied: kaldiio>=2.14.1 in /usr/local/lib/python3.7/dist-packages (from parallel_wavegan==0.5.4) (2.17.2)\n",
            "Requirement already satisfied: h5py>=2.9.0 in /usr/local/lib/python3.7/dist-packages (from parallel_wavegan==0.5.4) (3.1.0)\n",
            "Collecting yq>=2.10.0\n",
            "  Downloading yq-3.1.0-py3-none-any.whl (17 kB)\n",
            "Requirement already satisfied: gdown in /usr/local/lib/python3.7/dist-packages (from parallel_wavegan==0.5.4) (4.4.0)\n",
            "Requirement already satisfied: filelock in /usr/local/lib/python3.7/dist-packages (from parallel_wavegan==0.5.4) (3.8.0)\n",
            "Requirement already satisfied: typing-extensions in /usr/local/lib/python3.7/dist-packages (from torch) (4.1.1)\n",
            "Requirement already satisfied: numpy>=1.14.5 in /usr/local/lib/python3.7/dist-packages (from h5py>=2.9.0->parallel_wavegan==0.5.4) (1.21.6)\n",
            "Requirement already satisfied: cached-property in /usr/local/lib/python3.7/dist-packages (from h5py>=2.9.0->parallel_wavegan==0.5.4) (1.5.2)\n",
            "Requirement already satisfied: pooch>=1.0 in /usr/local/lib/python3.7/dist-packages (from librosa>=0.8.0->parallel_wavegan==0.5.4) (1.6.0)\n",
            "Requirement already satisfied: scipy>=1.0.0 in /usr/local/lib/python3.7/dist-packages (from librosa>=0.8.0->parallel_wavegan==0.5.4) (1.7.3)\n",
            "Requirement already satisfied: numba>=0.43.0 in /usr/local/lib/python3.7/dist-packages (from librosa>=0.8.0->parallel_wavegan==0.5.4) (0.56.0)\n",
            "Requirement already satisfied: audioread>=2.0.0 in /usr/local/lib/python3.7/dist-packages (from librosa>=0.8.0->parallel_wavegan==0.5.4) (3.0.0)\n",
            "Requirement already satisfied: joblib>=0.14 in /usr/local/lib/python3.7/dist-packages (from librosa>=0.8.0->parallel_wavegan==0.5.4) (1.1.0)\n",
            "Requirement already satisfied: decorator>=3.0.0 in /usr/local/lib/python3.7/dist-packages (from librosa>=0.8.0->parallel_wavegan==0.5.4) (4.4.2)\n",
            "Requirement already satisfied: packaging>=20.0 in /usr/local/lib/python3.7/dist-packages (from librosa>=0.8.0->parallel_wavegan==0.5.4) (21.3)\n",
            "Requirement already satisfied: scikit-learn!=0.19.0,>=0.14.0 in /usr/local/lib/python3.7/dist-packages (from librosa>=0.8.0->parallel_wavegan==0.5.4) (1.0.2)\n",
            "Requirement already satisfied: resampy>=0.2.2 in /usr/local/lib/python3.7/dist-packages (from librosa>=0.8.0->parallel_wavegan==0.5.4) (0.4.0)\n",
            "Requirement already satisfied: pyparsing!=2.0.4,!=2.1.2,!=2.1.6,>=2.0.1 in /usr/local/lib/python3.7/dist-packages (from matplotlib>=3.1.0->parallel_wavegan==0.5.4) (3.0.9)\n",
            "Requirement already satisfied: python-dateutil>=2.1 in /usr/local/lib/python3.7/dist-packages (from matplotlib>=3.1.0->parallel_wavegan==0.5.4) (2.8.2)\n",
            "Requirement already satisfied: cycler>=0.10 in /usr/local/lib/python3.7/dist-packages (from matplotlib>=3.1.0->parallel_wavegan==0.5.4) (0.11.0)\n",
            "Requirement already satisfied: kiwisolver>=1.0.1 in /usr/local/lib/python3.7/dist-packages (from matplotlib>=3.1.0->parallel_wavegan==0.5.4) (1.4.4)\n",
            "Requirement already satisfied: llvmlite<0.40,>=0.39.0dev0 in /usr/local/lib/python3.7/dist-packages (from numba>=0.43.0->librosa>=0.8.0->parallel_wavegan==0.5.4) (0.39.0)\n",
            "Requirement already satisfied: importlib-metadata in /usr/local/lib/python3.7/dist-packages (from numba>=0.43.0->librosa>=0.8.0->parallel_wavegan==0.5.4) (4.12.0)\n",
            "Requirement already satisfied: requests>=2.19.0 in /usr/local/lib/python3.7/dist-packages (from pooch>=1.0->librosa>=0.8.0->parallel_wavegan==0.5.4) (2.23.0)\n",
            "Requirement already satisfied: appdirs>=1.3.0 in /usr/local/lib/python3.7/dist-packages (from pooch>=1.0->librosa>=0.8.0->parallel_wavegan==0.5.4) (1.4.4)\n",
            "Requirement already satisfied: six>=1.5 in /usr/local/lib/python3.7/dist-packages (from python-dateutil>=2.1->matplotlib>=3.1.0->parallel_wavegan==0.5.4) (1.15.0)\n",
            "Requirement already satisfied: certifi>=2017.4.17 in /usr/local/lib/python3.7/dist-packages (from requests>=2.19.0->pooch>=1.0->librosa>=0.8.0->parallel_wavegan==0.5.4) (2022.6.15)\n",
            "Requirement already satisfied: chardet<4,>=3.0.2 in /usr/local/lib/python3.7/dist-packages (from requests>=2.19.0->pooch>=1.0->librosa>=0.8.0->parallel_wavegan==0.5.4) (3.0.4)\n",
            "Requirement already satisfied: idna<3,>=2.5 in /usr/local/lib/python3.7/dist-packages (from requests>=2.19.0->pooch>=1.0->librosa>=0.8.0->parallel_wavegan==0.5.4) (2.10)\n",
            "Requirement already satisfied: urllib3!=1.25.0,!=1.25.1,<1.26,>=1.21.1 in /usr/local/lib/python3.7/dist-packages (from requests>=2.19.0->pooch>=1.0->librosa>=0.8.0->parallel_wavegan==0.5.4) (1.24.3)\n",
            "Requirement already satisfied: threadpoolctl>=2.0.0 in /usr/local/lib/python3.7/dist-packages (from scikit-learn!=0.19.0,>=0.14.0->librosa>=0.8.0->parallel_wavegan==0.5.4) (3.1.0)\n",
            "Requirement already satisfied: cffi>=1.0 in /usr/local/lib/python3.7/dist-packages (from soundfile>=0.10.2->parallel_wavegan==0.5.4) (1.15.1)\n",
            "Requirement already satisfied: pycparser in /usr/local/lib/python3.7/dist-packages (from cffi>=1.0->soundfile>=0.10.2->parallel_wavegan==0.5.4) (2.21)\n",
            "Requirement already satisfied: protobuf<=3.20.1,>=3.8.0 in /usr/local/lib/python3.7/dist-packages (from tensorboardX>=1.8->parallel_wavegan==0.5.4) (3.17.3)\n",
            "Collecting argcomplete>=1.8.1\n",
            "  Downloading argcomplete-2.0.0-py2.py3-none-any.whl (37 kB)\n",
            "Requirement already satisfied: toml>=0.10.0 in /usr/local/lib/python3.7/dist-packages (from yq>=2.10.0->parallel_wavegan==0.5.4) (0.10.2)\n",
            "Collecting xmltodict>=0.11.0\n",
            "  Downloading xmltodict-0.13.0-py2.py3-none-any.whl (10.0 kB)\n",
            "Requirement already satisfied: zipp>=0.5 in /usr/local/lib/python3.7/dist-packages (from importlib-metadata->numba>=0.43.0->librosa>=0.8.0->parallel_wavegan==0.5.4) (3.8.1)\n",
            "Requirement already satisfied: torch-complex in /usr/local/lib/python3.7/dist-packages (from espnet) (0.4.3)\n",
            "Requirement already satisfied: pyworld>=0.2.10 in /usr/local/lib/python3.7/dist-packages (from espnet) (0.3.0)\n",
            "Requirement already satisfied: pypinyin<=0.44.0 in /usr/local/lib/python3.7/dist-packages (from espnet) (0.44.0)\n",
            "Requirement already satisfied: humanfriendly in /usr/local/lib/python3.7/dist-packages (from espnet) (10.0)\n",
            "Requirement already satisfied: configargparse>=1.2.1 in /usr/local/lib/python3.7/dist-packages (from espnet) (1.5.3)\n",
            "Requirement already satisfied: ctc-segmentation<1.8,>=1.6.6 in /usr/local/lib/python3.7/dist-packages (from espnet) (1.7.3)\n",
            "Requirement already satisfied: ci-sdr in /usr/local/lib/python3.7/dist-packages (from espnet) (0.0.0)\n",
            "Requirement already satisfied: fast-bss-eval==0.1.3 in /usr/local/lib/python3.7/dist-packages (from espnet) (0.1.3)\n",
            "Requirement already satisfied: espnet-tts-frontend in /usr/local/lib/python3.7/dist-packages (from espnet) (0.0.3)\n",
            "Requirement already satisfied: sentencepiece in /usr/local/lib/python3.7/dist-packages (from espnet) (0.1.97)\n",
            "Requirement already satisfied: jamo==0.4.1 in /usr/local/lib/python3.7/dist-packages (from espnet) (0.4.1)\n",
            "Requirement already satisfied: nltk>=3.4.5 in /usr/local/lib/python3.7/dist-packages (from espnet) (3.7)\n",
            "Requirement already satisfied: typeguard>=2.7.0 in /usr/local/lib/python3.7/dist-packages (from espnet) (2.7.1)\n",
            "Requirement already satisfied: pytorch-wpe in /usr/local/lib/python3.7/dist-packages (from espnet) (0.0.1)\n",
            "Requirement already satisfied: Cython in /usr/local/lib/python3.7/dist-packages (from ctc-segmentation<1.8,>=1.6.6->espnet) (0.29.32)\n",
            "Requirement already satisfied: regex>=2021.8.3 in /usr/local/lib/python3.7/dist-packages (from nltk>=3.4.5->espnet) (2022.6.2)\n",
            "Requirement already satisfied: click in /usr/local/lib/python3.7/dist-packages (from nltk>=3.4.5->espnet) (7.1.2)\n",
            "Collecting huggingface-hub\n",
            "  Downloading huggingface_hub-0.9.1-py3-none-any.whl (120 kB)\n",
            "\u001b[K     |████████████████████████████████| 120 kB 43.3 MB/s \n",
            "\u001b[?25hRequirement already satisfied: pandas in /usr/local/lib/python3.7/dist-packages (from espnet_model_zoo) (1.3.5)\n",
            "Requirement already satisfied: einops in /usr/local/lib/python3.7/dist-packages (from ci-sdr->espnet) (0.4.1)\n",
            "Requirement already satisfied: inflect>=1.0.0 in /usr/local/lib/python3.7/dist-packages (from espnet-tts-frontend->espnet) (2.1.0)\n",
            "Requirement already satisfied: jaconv in /usr/local/lib/python3.7/dist-packages (from espnet-tts-frontend->espnet) (0.3)\n",
            "Requirement already satisfied: g2p-en in /usr/local/lib/python3.7/dist-packages (from espnet-tts-frontend->espnet) (2.1.0)\n",
            "Requirement already satisfied: unidecode>=1.0.22 in /usr/local/lib/python3.7/dist-packages (from espnet-tts-frontend->espnet) (1.3.4)\n",
            "Requirement already satisfied: distance>=0.1.3 in /usr/local/lib/python3.7/dist-packages (from g2p-en->espnet-tts-frontend->espnet) (0.1.3)\n",
            "Requirement already satisfied: beautifulsoup4 in /usr/local/lib/python3.7/dist-packages (from gdown->parallel_wavegan==0.5.4) (4.6.3)\n",
            "Requirement already satisfied: pytz>=2017.3 in /usr/local/lib/python3.7/dist-packages (from pandas->espnet_model_zoo) (2022.2.1)\n",
            "Requirement already satisfied: PySocks!=1.5.7,>=1.5.6 in /usr/local/lib/python3.7/dist-packages (from requests>=2.19.0->pooch>=1.0->librosa>=0.8.0->parallel_wavegan==0.5.4) (1.7.1)\n",
            "Building wheels for collected packages: parallel-wavegan\n",
            "  Building wheel for parallel-wavegan (setup.py) ... \u001b[?25l\u001b[?25hdone\n",
            "  Created wheel for parallel-wavegan: filename=parallel_wavegan-0.5.4-py3-none-any.whl size=71010 sha256=3e520dd9ee5c1202e3ff7fcb150f7b157bf1daefbc457583ff04b247a3e35251\n",
            "  Stored in directory: /root/.cache/pip/wheels/5e/76/4d/8d938995675ca8cc9352214c9f23c57a505fe3bcd46ce3b138\n",
            "Successfully built parallel-wavegan\n",
            "Installing collected packages: xmltodict, argcomplete, yq, tensorboardX, huggingface-hub, parallel-wavegan, espnet-model-zoo\n",
            "Successfully installed argcomplete-2.0.0 espnet-model-zoo-0.1.7 huggingface-hub-0.9.1 parallel-wavegan-0.5.4 tensorboardX-2.5.1 xmltodict-0.13.0 yq-3.1.0\n"
          ]
        }
      ],
      "source": [
        "pip install torch espnet espnet_model_zoo parallel_wavegan==0.5.4"
      ]
    },
    {
      "cell_type": "code",
      "source": [
        "# import soundfile as sf\n",
        "# wav = text2speech(\"Okay, here we go. Focus. Speed. I am speed. One winner, forty-two losers. I eat losers for breakfast. Breakfast? Maybe I should have had breakfast? Brekkie could be good for me. No, no, no, focus. Speed. Faster than fast, quicker than quick. I am Lightning\")[\"wav\"]\n",
        "# sf.write(\"out.wav\", wav.numpy(), text2speech.fs, \"PCM_16\")\n",
        "\n",
        "# from IPython.display import display, Audio\n",
        "# display(Audio(wav.view(-1).cpu().numpy(), rate=text2speech.fs))"
      ],
      "metadata": {
        "id": "nmbYFc0ThGNS"
      },
      "execution_count": null,
      "outputs": []
    },
    {
      "cell_type": "code",
      "source": [
        "%%bash\n",
        "!(stat -t /usr/local/lib/*/dist-packages/google/colab > /dev/null 2>&1) && exit\n",
        "pip install ninja 2>> install.log\n",
        "git clone https://github.com/SIDN-IAP/global-model-repr.git tutorial_code 2>> install.log\n",
        "# git clone https://github.com/billybraith17/global-model-repr.git tutorial_code 2>> install.log"
      ],
      "metadata": {
        "id": "VxIZkC-7keAd",
        "colab": {
          "base_uri": "https://localhost:8080/"
        },
        "outputId": "6f5638b2-dea6-4a56-81b0-d5b9c902425a"
      },
      "execution_count": null,
      "outputs": [
        {
          "output_type": "stream",
          "name": "stdout",
          "text": [
            "Looking in indexes: https://pypi.org/simple, https://us-python.pkg.dev/colab-wheels/public/simple/\n",
            "Collecting ninja\n",
            "  Downloading ninja-1.10.2.3-py2.py3-none-manylinux_2_5_x86_64.manylinux1_x86_64.whl (108 kB)\n",
            "Installing collected packages: ninja\n",
            "Successfully installed ninja-1.10.2.3\n"
          ]
        }
      ]
    },
    {
      "cell_type": "code",
      "source": [
        "try: # set up path\n",
        "    import google.colab, sys, torch\n",
        "    sys.path.append('/content/tutorial_code')\n",
        "    if not torch.cuda.is_available():\n",
        "        print(\"Change runtime type to include a GPU.\")\n",
        "except:\n",
        "    pass"
      ],
      "metadata": {
        "id": "ZzQNB5nikhAC"
      },
      "execution_count": null,
      "outputs": []
    },
    {
      "cell_type": "code",
      "source": [
        "%matplotlib inline\n",
        "import matplotlib.pyplot as plt\n",
        "import matplotlib as mpl"
      ],
      "metadata": {
        "id": "mhOKz_lMOAmD"
      },
      "execution_count": null,
      "outputs": []
    },
    {
      "cell_type": "code",
      "source": [
        "import torch\n",
        "\n",
        "device = torch.device('cuda' if torch.cuda.is_available() else 'cpu')\n",
        "print('Running pytorch', torch.__version__, 'using', device.type)"
      ],
      "metadata": {
        "id": "4V4F8d3OOK6g",
        "colab": {
          "base_uri": "https://localhost:8080/"
        },
        "outputId": "9e1278e7-7938-4a53-eaf3-3c31d2538bd6"
      },
      "execution_count": null,
      "outputs": [
        {
          "output_type": "stream",
          "name": "stdout",
          "text": [
            "Running pytorch 1.12.1+cu113 using cuda\n"
          ]
        }
      ]
    },
    {
      "cell_type": "code",
      "source": [
        "import torchvision\n",
        "import torch.hub\n",
        "\n",
        "# using the global-model-repr package\n",
        "from netdissect import nethook, proggan"
      ],
      "metadata": {
        "id": "7EfUeMRoOO1N"
      },
      "execution_count": null,
      "outputs": []
    },
    {
      "cell_type": "code",
      "source": [
        "# def from_pretrained2(\n",
        "#     model_tag: Optional[str] = None,\n",
        "#     vocoder_tag: Optional[str] = None,\n",
        "#     **kwargs: Optional[Any],\n",
        "# ):\n",
        "\"\"\"Build Text2Speech instance from the pretrained model.\n",
        "Args:\n",
        "    model_tag (Optional[str]): Model tag of the pretrained models.\n",
        "        Currently, the tags of espnet_model_zoo are supported.\n",
        "    vocoder_tag (Optional[str]): Vocoder tag of the pretrained vocoders.\n",
        "        Currently, the tags of parallel_wavegan are supported, which should\n",
        "        start with the prefix \"parallel_wavegan/\".\n",
        "Returns:\n",
        "    Text2Speech: Text2Speech instance.\n",
        "\"\"\"\n",
        "\n",
        "from espnet2.bin.tts_inference import Text2Speech\n",
        "from espnet2.bin.tts_inference import Text2Speech2\n",
        "\n",
        "model_tag = 'kan-bayashi/vctk_xvector_conformer_fastspeech2' #@param [\"kan-bayashi/vctk_gst_tacotron2\", \"kan-bayashi/vctk_gst_transformer\", \"kan-bayashi/vctk_xvector_tacotron2\", \"kan-bayashi/vctk_xvector_transformer\", \"kan-bayashi/vctk_xvector_conformer_fastspeech2\", \"kan-bayashi/vctk_gst+xvector_tacotron2\", \"kan-bayashi/vctk_gst+xvector_transformer\", \"kan-bayashi/vctk_gst+xvector_conformer_fastspeech2\", \"kan-bayashi/vctk_multi_spk_vits\", \"kan-bayashi/vctk_full_band_multi_spk_vits\", \"kan-bayashi/libritts_xvector_transformer\", \"kan-bayashi/libritts_xvector_conformer_fastspeech2\", \"kan-bayashi/libritts_gst+xvector_transformer\", \"kan-bayashi/libritts_gst+xvector_conformer_fastspeech2\", \"kan-bayashi/libritts_xvector_vits\"] {type:\"string\"}\n",
        "vocoder_tag = \"parallel_wavegan/vctk_hifigan.v1\"  #@param [\"none\", \"parallel_wavegan/vctk_parallel_wavegan.v1.long\", \"parallel_wavegan/vctk_multi_band_melgan.v2\", \"parallel_wavegan/vctk_style_melgan.v1\", \"parallel_wavegan/vctk_hifigan.v1\", \"parallel_wavegan/libritts_parallel_wavegan.v1.long\", \"parallel_wavegan/libritts_multi_band_melgan.v2\", \"parallel_wavegan/libritts_hifigan.v1\", \"parallel_wavegan/libritts_style_melgan.v1\"] {type:\"string\"}\n",
        "kwargs = {\n",
        "    # Only for Tacotron 2 & Transformer\n",
        "    \"threshold\" : 0.5,\n",
        "    # Only for Tacotron 2\n",
        "    \"minlenratio\" : 0.0,\n",
        "    \"maxlenratio\" : 10.0,\n",
        "    \"use_att_constraint\" : False,\n",
        "    \"backward_window\" : 1,\n",
        "    \"forward_window\" : 3,\n",
        "    # Only for FastSpeech & FastSpeech2 & VITS\n",
        "    \"speed_control_alpha\" : 1.0,\n",
        "    # Only for VITS\n",
        "    \"noise_scale\" : 0.333,\n",
        "    \"noise_scale_dur\" : 0.333,\n",
        "}\n",
        "\n",
        "# print(kwargs[\"noise_scale\"])\n",
        "# model_tag: Optional[str] = None\n",
        "# vocoder_tag: Optional[str] = None\n",
        "# **kwargs: Optional[Any]\n",
        "\n",
        "\n",
        "if model_tag is not None:\n",
        "    try:\n",
        "        from espnet_model_zoo.downloader import ModelDownloader\n",
        "\n",
        "    except ImportError:\n",
        "        logging.error(\n",
        "            \"`espnet_model_zoo` is not installed. \"\n",
        "            \"Please install via `pip install -U espnet_model_zoo`.\"\n",
        "        )\n",
        "        raise\n",
        "    d = ModelDownloader()\n",
        "    kwargs.update(**d.download_and_unpack(model_tag))\n",
        "\n",
        "if vocoder_tag is not None:\n",
        "    if vocoder_tag.startswith(\"parallel_wavegan/\"):\n",
        "        try:\n",
        "            from parallel_wavegan.utils import download_pretrained_model\n",
        "\n",
        "        except ImportError:\n",
        "            logging.error(\n",
        "                \"`parallel_wavegan` is not installed. \"\n",
        "                \"Please install via `pip install -U parallel_wavegan`.\"\n",
        "            )\n",
        "            raise\n",
        "\n",
        "        from parallel_wavegan import __version__\n",
        "        from packaging.version import parse as V\n",
        "        from pathlib import Path\n",
        "\n",
        "        # NOTE(kan-bayashi): Filelock download is supported from 0.5.2\n",
        "        assert V(__version__) > V(\"0.5.1\"), (\n",
        "            \"Please install the latest parallel_wavegan \"\n",
        "            \"via `pip install -U parallel_wavegan`.\"\n",
        "        )\n",
        "        vocoder_tag = vocoder_tag.replace(\"parallel_wavegan/\", \"\")\n",
        "        vocoder_file = download_pretrained_model(vocoder_tag)\n",
        "        vocoder_config = Path(vocoder_file).parent / \"config.yml\"\n",
        "        kwargs.update(vocoder_config=vocoder_config, vocoder_file=vocoder_file)\n",
        "\n",
        "    else:\n",
        "        raise ValueError(f\"{vocoder_tag} is unsupported format.\")\n",
        "\n",
        "# __init__\n",
        "text2speech = Text2Speech(**kwargs)\n",
        "text2speech2 = Text2Speech2(**kwargs)"
      ],
      "metadata": {
        "id": "46CeL7EIlN7C"
      },
      "execution_count": null,
      "outputs": []
    },
    {
      "cell_type": "code",
      "source": [
        "# Wrap the vocoder\n",
        "from netdissect import nethook\n",
        "# layer = 'vocoder.blocks.9.convs2.1.1'    #@param [\"vocoder.last_conv_layers.0\", \"vocoder.last_conv_layers.1\", \"vocoder.last_conv_layers.2\", \"vocoder.last_conv_layers.3\", \"vocoder.conv_layers.6.conv\", \"vocoder.conv_layers.6.conv1x1_aux\", \"vocoder.conv_layers.6.conv1x1_out\", \"vocoder.conv_layers.6.conv1x1_skip\", \"vocoder.first_conv\", \"vocoder.upsample_net.conv_in\", \"vocoder.upsample_net.upsample.up_layers.6\", \"vocoder.upsample_net.upsample.up_layers.7\", \"vocoder.melgan.0\", \"vocoder.melgan.19.stack.4\", \"vocoder.melgan.23\", \"vocoder.pqmf.pad_fn\", \"vocoder.blocks.7.upsample\", \"vocoder.output_conv.1\", \"vocoder.blocks.11.convs2.0.1\", \"vocoder.output_conv.2\", \"vocoder.blocks.0.convs1.1.1\", \"vocoder.blocks.1.convs1.1.1\", \"vocoder.blocks.4.convs1.1.1\", \"vocoder.blocks.7.convs1.1.1\", \"vocoder.blocks.7.convs1.2.1\", \"vocoder.blocks.8.convs1.2.1\", \"vocoder.blocks.9.convs1.1.1\", \"vocoder.blocks.9.convs2.1.1\",  \"vocoder.blocks.10.convs1.1.1\",  \"vocoder.blocks.10.convs2.1.1\", \"vocoder.blocks.11.convs2.1.1\", \"vocoder.blocks.0.convs1.1.0\", \"vocoder.blocks.1.convs1.2.0\", \"vocoder.blocks.4.convs1.1.0\", \"vocoder.blocks.7.convs1.1.0\", \"vocoder.blocks.7.convs1.2.0\", \"vocoder.blocks.7.convs2.0.0\", \"vocoder.blocks.8.convs1.2.0\", \"vocoder.blocks.9.convs1.1.0\", \"vocoder.blocks.9.convs2.1.0\",  \"vocoder.blocks.10.convs1.1.0\",  \"vocoder.blocks.10.convs2.1.0\", \"vocoder.blocks.11.convs2.1.0\"] {type:\"string\"}\n",
        "\n",
        "\n",
        "# Don't re-wrap it, if it's already wrapped (e.g., if you press enter twice)\n",
        "if not isinstance(text2speech.vocoder, nethook.InstrumentedModel):\n",
        "    text2speech.vocoder = nethook.InstrumentedModel(text2speech.vocoder)\n",
        "    text2speech2.vocoder = nethook.InstrumentedModel(text2speech2.vocoder)\n",
        "\n",
        "HiFiGAN_layers = ['vocoder.upsamples.0.0', 'vocoder.upsamples.1.0', 'vocoder.upsamples.2.0', 'vocoder.upsamples.3.0', 'vocoder.blocks.0.convs1.0.0', 'vocoder.blocks.0.convs1.1.0', 'vocoder.blocks.0.convs1.2.0', 'vocoder.blocks.0.convs2.0.0', 'vocoder.blocks.0.convs2.1.0', 'vocoder.blocks.0.convs2.2.0', 'vocoder.blocks.1.convs1.0.0', 'vocoder.blocks.1.convs1.1.0', 'vocoder.blocks.1.convs1.2.0', 'vocoder.blocks.1.convs2.0.0', 'vocoder.blocks.1.convs2.1.0', 'vocoder.blocks.1.convs2.2.0', 'vocoder.blocks.2.convs1.0.0', 'vocoder.blocks.2.convs1.1.0', 'vocoder.blocks.2.convs1.2.0', 'vocoder.blocks.2.convs2.0.0', 'vocoder.blocks.2.convs2.1.0', 'vocoder.blocks.2.convs2.2.0', 'vocoder.blocks.3.convs1.0.0', 'vocoder.blocks.3.convs1.1.0', 'vocoder.blocks.3.convs1.2.0', 'vocoder.blocks.3.convs2.0.0', 'vocoder.blocks.3.convs2.1.0', 'vocoder.blocks.3.convs2.2.0', 'vocoder.blocks.4.convs1.0.0', 'vocoder.blocks.4.convs1.1.0', 'vocoder.blocks.4.convs1.2.0', 'vocoder.blocks.4.convs2.0.0', 'vocoder.blocks.4.convs2.1.0', 'vocoder.blocks.4.convs2.2.0', 'vocoder.blocks.5.convs1.0.0', 'vocoder.blocks.5.convs1.1.0', 'vocoder.blocks.5.convs1.2.0', 'vocoder.blocks.5.convs2.0.0', 'vocoder.blocks.5.convs2.1.0', 'vocoder.blocks.5.convs2.2.0', 'vocoder.blocks.6.convs1.0.0', 'vocoder.blocks.6.convs1.1.0', 'vocoder.blocks.6.convs1.2.0', 'vocoder.blocks.6.convs2.0.0', 'vocoder.blocks.6.convs2.1.0', 'vocoder.blocks.6.convs2.2.0', 'vocoder.blocks.7.convs1.0.0', 'vocoder.blocks.7.convs1.1.0', 'vocoder.blocks.7.convs1.2.0', 'vocoder.blocks.7.convs2.0.0', 'vocoder.blocks.7.convs2.1.0', 'vocoder.blocks.7.convs2.2.0', 'vocoder.blocks.8.convs1.0.0', 'vocoder.blocks.8.convs1.1.0', 'vocoder.blocks.8.convs1.2.0', 'vocoder.blocks.8.convs2.0.0', 'vocoder.blocks.8.convs2.1.0', 'vocoder.blocks.8.convs2.2.0', 'vocoder.blocks.9.convs1.0.0', 'vocoder.blocks.9.convs1.1.0', 'vocoder.blocks.9.convs1.2.0', 'vocoder.blocks.9.convs2.0.0', 'vocoder.blocks.9.convs2.1.0', 'vocoder.blocks.9.convs2.2.0', 'vocoder.blocks.10.convs1.0.0', 'vocoder.blocks.10.convs1.1.0', 'vocoder.blocks.10.convs1.2.0', 'vocoder.blocks.10.convs2.0.0', 'vocoder.blocks.10.convs2.1.0', 'vocoder.blocks.10.convs2.2.0', 'vocoder.blocks.11.convs1.0.0', 'vocoder.blocks.11.convs1.1.0', 'vocoder.blocks.11.convs1.2.0', 'vocoder.blocks.11.convs2.0.0', 'vocoder.blocks.11.convs2.1.0', 'vocoder.blocks.11.convs2.2.0', 'vocoder.output_conv.0', 'vocoder.output_conv.2']\n",
        "\n",
        "for layer in HiFiGAN_layers:\n",
        "  text2speech.vocoder.retain_layer(layer)\n",
        "  text2speech2.vocoder.retain_layer(layer)"
      ],
      "metadata": {
        "id": "NsnfVGDxxeN7"
      },
      "execution_count": null,
      "outputs": []
    },
    {
      "cell_type": "code",
      "source": [
        "text2speech.vocoder\n",
        "\n",
        "# text2speech.vocoder.retain_layer('vocoder')"
      ],
      "metadata": {
        "id": "W_1FJ68l9M7Q"
      },
      "execution_count": null,
      "outputs": []
    },
    {
      "cell_type": "code",
      "source": [
        "import glob\n",
        "import os\n",
        "import numpy as np\n",
        "import kaldiio\n",
        "\n",
        "# Get model directory path\n",
        "from espnet_model_zoo.downloader import ModelDownloader\n",
        "d = ModelDownloader()\n",
        "model_dir = os.path.dirname(d.download_and_unpack(model_tag)[\"train_config\"])\n",
        "\n",
        "# X-vector selection\n",
        "# We only need the x-vector part at that's what this model uses. The ones with\n",
        "spembs = None\n",
        "if text2speech.use_spembs:\n",
        "  xvector_ark = [p for p in glob.glob(f\"{model_dir}/../../dump/**/spk_xvector.ark\", recursive=True) if \"tr\" in p][0]\n",
        "  xvectors = {k: v for k, v in kaldiio.load_ark(xvector_ark)}\n",
        "  spks = list(xvectors.keys())"
      ],
      "metadata": {
        "id": "T-1QugLj-7xZ"
      },
      "execution_count": null,
      "outputs": []
    },
    {
      "cell_type": "code",
      "source": [
        "# # edit the activations for testing\n",
        "# my_units = []\n",
        "# for x in range(30000):\n",
        "#   my_units.append(x)\n",
        "\n",
        "# def zero_out_units(data, model):\n",
        "#     data[:, :, my_units] = 1.0\n",
        "#     return data\n",
        "\n",
        "# text2speech.vocoder.edit_layer(layer, rule=zero_out_units)"
      ],
      "metadata": {
        "id": "-2bV2_efgz5j"
      },
      "execution_count": null,
      "outputs": []
    },
    {
      "cell_type": "code",
      "source": [
        "southern_units = {0, 3, 4, 6, 7, 14, 30, 31, 41}\n",
        "s_african_units = {82, 86, 93, 99}\n",
        "indian = {21, 24, 107}\n",
        "scottish = {9, 11, 15, 19, 20, 22, 25, 28, 33, 35, 36, 37, 38, 44, 45, 48, 54, 57, 58}\n",
        "irish = {18, 39, 56, 61, 65, 67, 81, 95, 105}\n",
        "dublin = {18, 61, 65, 95}\n",
        "n_irish = {12, 34, 62, 63, 73, 100}\n",
        "belfast = {12, 34, 62, 63, 73}\n",
        "cali = {64, 68, 69, 85}\n",
        "yorkshire = {40, 43, 60}\n",
        "NE = {42, 50, 55, 59}\n",
        "canada = {71, 72, 76, 80, 83, 84, 97, 104}\n",
        "\n",
        "female = {0, 3,4,5,6, 8, 9, 10, 12, 13, 14, 17, 21, 22, 23, 26, 30, 34, 35, 37, 38, 39, 40, 41, 42, 49, 50, 53, 55, 56, 61, 63, 64, 65, 66, 68, 69, 70, 72, 74, 75, 76, 77, 78, 80, 81,82, 84, 85, 86, 88, 89, 90, 92,93,94,95,96,97, 100, 102,103}\n",
        "male = {1, 2, 7, 11, 15, 16, 18, 19, 20, 24, 25, 27, 28, 29, 31, 32, 33, 36, 43, 44, 45, 46, 47, 48, 51, 52, 54, 57, 58, 59, 60, 62, 67, 71, 73, 79, 83, 87, 91, 98, 99, 101, 104, 105, 106, 107}\n",
        "edited = {7,8,9, 17,18,19, 27,28,29, 37,38,39, 47,48,49, 57,58,59, 67,68,69, 77,78,79, 87,88,89, 97,98,99, 107}"
      ],
      "metadata": {
        "id": "Gv7bT_zBkfAJ"
      },
      "execution_count": null,
      "outputs": []
    },
    {
      "cell_type": "code",
      "source": [
        "# Calculating IoU for all layers\n",
        "# MAKE SURE YOU CHANGE THE FILE NAME FIRST\n",
        "\n",
        "# the ultimate loop\n",
        "import pandas as pd\n",
        "from netdissect import tally\n",
        "\n",
        "# HERE\n",
        "# x = \"Please call Stella. Ask her to bring these things with her.\"\n",
        "x = \"Please call Stella. Ask her too.\"\n",
        "\n",
        "# defining speaker indices\n",
        "from torch.utils.data import TensorDataset\n",
        "zds = torch.linspace(0, 107, 108)\n",
        "\n",
        "# dictionary to store the results\n",
        "data = {}\n",
        "\n",
        "# HERE\n",
        "# property we want to calculate the IoU for\n",
        "chosen_property = edited\n",
        "\n",
        "# loop over each layer in the network\n",
        "for layer in HiFiGAN_layers:\n",
        "  # To collect stats, define a function that returns 2d [samples, units]\n",
        "  def compute_samples(index):\n",
        "      # print(index)\n",
        "      spk = spks[int(index[0])]\n",
        "      spembs = xvectors[spk]\n",
        "      wav = text2speech(x, spembs=spembs)[\"wav\"]\n",
        "      acts = text2speech.vocoder.retained_layer(layer)\n",
        "      acts = torch.flatten(acts, start_dim=1)\n",
        "      acts_stack = acts\n",
        "      # print(acts.shape)\n",
        "      # print(acts)\n",
        "      # acts_stack = acts[0]\n",
        "\n",
        "      for i in index[1:7]:\n",
        "        spk = spks[int(i)]\n",
        "        spembs = xvectors[spk]\n",
        "        wav = text2speech(x, spembs=spembs)[\"wav\"]\n",
        "        # acts = model.retained_layer('layer4') # get the activations, and flatten\n",
        "        acts = text2speech.vocoder.retained_layer(layer)\n",
        "        # print(acts[0].shape)\n",
        "        # print(acts)\n",
        "        acts = torch.flatten(acts, start_dim=1)\n",
        "\n",
        "        acts_stack = torch.cat((acts_stack, acts), 0)\n",
        "        # print(acts_stack.shape)\n",
        "\n",
        "      for i in index[7:]:\n",
        "        spk = spks[int(i)]\n",
        "        spembs = xvectors[spk]\n",
        "        wav = text2speech2(x, spembs=spembs)[\"wav\"]\n",
        "        # acts = model.retained_layer('layer4') # get the activations, and flatten\n",
        "        acts = text2speech2.vocoder.retained_layer(layer)\n",
        "        # print(acts[0].shape)\n",
        "        # print(acts)\n",
        "        acts = torch.flatten(acts, start_dim=1)\n",
        "\n",
        "        acts_stack = torch.cat((acts_stack, acts), 0)\n",
        "        # print(acts_stack.shape)\n",
        "\n",
        "      return acts_stack\n",
        "\n",
        "# use topk to collect the speaker indices which cause the units to activate most\n",
        "  topk = tally.tally_topk(compute_samples, zds)\n",
        "\n",
        "  #calculate IoUs for this layer\n",
        "  IoU_list = []\n",
        "  result = topk.result()[1]\n",
        "  result = result.tolist()\n",
        "  # len(result)\n",
        "\n",
        "# HERE\n",
        "  for i in range(0, topk.result()[1].shape[0]):\n",
        "    # which quantile we want for the threshold\n",
        "    top = result[i][0:5]\n",
        "    top = set(top)\n",
        "    num = top.intersection(chosen_property)\n",
        "    den = top.union(chosen_property)\n",
        "    IoU_list.append(len(num) / len(den))\n",
        "\n",
        "# calculating the number of property-specifc ndes in each layer\n",
        "  # temp = 0\n",
        "  # for i in IoU_list:\n",
        "  #   if i>0.16:\n",
        "  #     temp = temp+1\n",
        "\n",
        "  # print(layer, '\\n', temp, '\\n')\n",
        "# select the 20 largest IoUs in the layer and find their indices\n",
        "  IoU_list = torch.tensor(IoU_list)\n",
        "  top_IoU = torch.topk(IoU_list, 20)\n",
        "  print(layer, '\\n', top_IoU, '\\n')\n",
        "  data[layer] = [IoU_list, top_IoU[0], top_IoU[1]]\n",
        "\n",
        "# HERE\n",
        "# write dictionary to pandas dataframe\n",
        "  frame = pd.DataFrame(data, index = ['All IoUs', 'Top IoUs', 'Indices of top IoUs'])\n",
        "  frame.to_csv('easy_100_5.csv')\n"
      ],
      "metadata": {
        "colab": {
          "base_uri": "https://localhost:8080/"
        },
        "id": "MPqnB2kmkqb6",
        "outputId": "b57ce984-9c2e-4dfa-e432-eed7bd45d937"
      },
      "execution_count": null,
      "outputs": [
        {
          "output_type": "stream",
          "name": "stderr",
          "text": []
        },
        {
          "output_type": "stream",
          "name": "stdout",
          "text": [
            "vocoder.upsamples.0.0 \n",
            " 1594 \n",
            "\n"
          ]
        },
        {
          "output_type": "stream",
          "name": "stderr",
          "text": []
        },
        {
          "output_type": "stream",
          "name": "stdout",
          "text": [
            "vocoder.upsamples.1.0 \n",
            " 8052 \n",
            "\n"
          ]
        },
        {
          "output_type": "stream",
          "name": "stderr",
          "text": []
        },
        {
          "output_type": "stream",
          "name": "stdout",
          "text": [
            "vocoder.upsamples.2.0 \n",
            " 35926 \n",
            "\n"
          ]
        },
        {
          "output_type": "stream",
          "name": "stderr",
          "text": []
        },
        {
          "output_type": "stream",
          "name": "stdout",
          "text": [
            "vocoder.upsamples.3.0 \n",
            " 65891 \n",
            "\n"
          ]
        },
        {
          "output_type": "stream",
          "name": "stderr",
          "text": []
        },
        {
          "output_type": "stream",
          "name": "stdout",
          "text": [
            "vocoder.blocks.0.convs1.0.0 \n",
            " 3716 \n",
            "\n"
          ]
        },
        {
          "output_type": "stream",
          "name": "stderr",
          "text": []
        },
        {
          "output_type": "stream",
          "name": "stdout",
          "text": [
            "vocoder.blocks.0.convs1.1.0 \n",
            " 5042 \n",
            "\n"
          ]
        },
        {
          "output_type": "stream",
          "name": "stderr",
          "text": []
        },
        {
          "output_type": "stream",
          "name": "stdout",
          "text": [
            "vocoder.blocks.0.convs1.2.0 \n",
            " 7086 \n",
            "\n"
          ]
        },
        {
          "output_type": "stream",
          "name": "stderr",
          "text": []
        },
        {
          "output_type": "stream",
          "name": "stdout",
          "text": [
            "vocoder.blocks.0.convs2.0.0 \n",
            " 4048 \n",
            "\n"
          ]
        },
        {
          "output_type": "stream",
          "name": "stderr",
          "text": []
        },
        {
          "output_type": "stream",
          "name": "stdout",
          "text": [
            "vocoder.blocks.0.convs2.1.0 \n",
            " 8725 \n",
            "\n"
          ]
        },
        {
          "output_type": "stream",
          "name": "stderr",
          "text": []
        },
        {
          "output_type": "stream",
          "name": "stdout",
          "text": [
            "vocoder.blocks.0.convs2.2.0 \n",
            " 3735 \n",
            "\n"
          ]
        },
        {
          "output_type": "stream",
          "name": "stderr",
          "text": []
        },
        {
          "output_type": "stream",
          "name": "stdout",
          "text": [
            "vocoder.blocks.1.convs1.0.0 \n",
            " 3716 \n",
            "\n"
          ]
        },
        {
          "output_type": "stream",
          "name": "stderr",
          "text": []
        },
        {
          "output_type": "stream",
          "name": "stdout",
          "text": [
            "vocoder.blocks.1.convs1.1.0 \n",
            " 3771 \n",
            "\n"
          ]
        },
        {
          "output_type": "stream",
          "name": "stderr",
          "text": []
        },
        {
          "output_type": "stream",
          "name": "stdout",
          "text": [
            "vocoder.blocks.1.convs1.2.0 \n",
            " 4494 \n",
            "\n"
          ]
        },
        {
          "output_type": "stream",
          "name": "stderr",
          "text": []
        },
        {
          "output_type": "stream",
          "name": "stdout",
          "text": [
            "vocoder.blocks.1.convs2.0.0 \n",
            " 4469 \n",
            "\n"
          ]
        },
        {
          "output_type": "stream",
          "name": "stderr",
          "text": []
        },
        {
          "output_type": "stream",
          "name": "stdout",
          "text": [
            "vocoder.blocks.1.convs2.1.0 \n",
            " 2394 \n",
            "\n"
          ]
        },
        {
          "output_type": "stream",
          "name": "stderr",
          "text": []
        },
        {
          "output_type": "stream",
          "name": "stdout",
          "text": [
            "vocoder.blocks.1.convs2.2.0 \n",
            " 3012 \n",
            "\n"
          ]
        },
        {
          "output_type": "stream",
          "name": "stderr",
          "text": []
        },
        {
          "output_type": "stream",
          "name": "stdout",
          "text": [
            "vocoder.blocks.2.convs1.0.0 \n",
            " 3716 \n",
            "\n"
          ]
        },
        {
          "output_type": "stream",
          "name": "stderr",
          "text": []
        },
        {
          "output_type": "stream",
          "name": "stdout",
          "text": [
            "vocoder.blocks.2.convs1.1.0 \n",
            " 2085 \n",
            "\n"
          ]
        },
        {
          "output_type": "stream",
          "name": "stderr",
          "text": []
        },
        {
          "output_type": "stream",
          "name": "stdout",
          "text": [
            "vocoder.blocks.2.convs1.2.0 \n",
            " 1989 \n",
            "\n"
          ]
        },
        {
          "output_type": "stream",
          "name": "stderr",
          "text": []
        },
        {
          "output_type": "stream",
          "name": "stdout",
          "text": [
            "vocoder.blocks.2.convs2.0.0 \n",
            " 2420 \n",
            "\n"
          ]
        },
        {
          "output_type": "stream",
          "name": "stderr",
          "text": []
        },
        {
          "output_type": "stream",
          "name": "stdout",
          "text": [
            "vocoder.blocks.2.convs2.1.0 \n",
            " 1700 \n",
            "\n"
          ]
        },
        {
          "output_type": "stream",
          "name": "stderr",
          "text": []
        },
        {
          "output_type": "stream",
          "name": "stdout",
          "text": [
            "vocoder.blocks.2.convs2.2.0 \n",
            " 1346 \n",
            "\n"
          ]
        },
        {
          "output_type": "stream",
          "name": "stderr",
          "text": []
        },
        {
          "output_type": "stream",
          "name": "stdout",
          "text": [
            "vocoder.blocks.3.convs1.0.0 \n",
            " 31689 \n",
            "\n"
          ]
        },
        {
          "output_type": "stream",
          "name": "stderr",
          "text": []
        },
        {
          "output_type": "stream",
          "name": "stdout",
          "text": [
            "vocoder.blocks.3.convs1.1.0 \n",
            " 38694 \n",
            "\n"
          ]
        },
        {
          "output_type": "stream",
          "name": "stderr",
          "text": []
        },
        {
          "output_type": "stream",
          "name": "stdout",
          "text": [
            "vocoder.blocks.3.convs1.2.0 \n",
            " 43457 \n",
            "\n"
          ]
        },
        {
          "output_type": "stream",
          "name": "stderr",
          "text": []
        },
        {
          "output_type": "stream",
          "name": "stdout",
          "text": [
            "vocoder.blocks.3.convs2.0.0 \n",
            " 17745 \n",
            "\n"
          ]
        },
        {
          "output_type": "stream",
          "name": "stderr",
          "text": []
        },
        {
          "output_type": "stream",
          "name": "stdout",
          "text": [
            "vocoder.blocks.3.convs2.1.0 \n",
            " 22866 \n",
            "\n"
          ]
        },
        {
          "output_type": "stream",
          "name": "stderr",
          "text": []
        },
        {
          "output_type": "stream",
          "name": "stdout",
          "text": [
            "vocoder.blocks.3.convs2.2.0 \n",
            " 33449 \n",
            "\n"
          ]
        },
        {
          "output_type": "stream",
          "name": "stderr",
          "text": []
        },
        {
          "output_type": "stream",
          "name": "stdout",
          "text": [
            "vocoder.blocks.4.convs1.0.0 \n",
            " 31689 \n",
            "\n"
          ]
        },
        {
          "output_type": "stream",
          "name": "stderr",
          "text": []
        },
        {
          "output_type": "stream",
          "name": "stdout",
          "text": [
            "vocoder.blocks.4.convs1.1.0 \n",
            " 24439 \n",
            "\n"
          ]
        },
        {
          "output_type": "stream",
          "name": "stderr",
          "text": []
        },
        {
          "output_type": "stream",
          "name": "stdout",
          "text": [
            "vocoder.blocks.4.convs1.2.0 \n",
            " 22962 \n",
            "\n"
          ]
        },
        {
          "output_type": "stream",
          "name": "stderr",
          "text": []
        },
        {
          "output_type": "stream",
          "name": "stdout",
          "text": [
            "vocoder.blocks.4.convs2.0.0 \n",
            " 15887 \n",
            "\n"
          ]
        },
        {
          "output_type": "stream",
          "name": "stderr",
          "text": []
        },
        {
          "output_type": "stream",
          "name": "stdout",
          "text": [
            "vocoder.blocks.4.convs2.1.0 \n",
            " 11801 \n",
            "\n"
          ]
        },
        {
          "output_type": "stream",
          "name": "stderr",
          "text": []
        },
        {
          "output_type": "stream",
          "name": "stdout",
          "text": [
            "vocoder.blocks.4.convs2.2.0 \n",
            " 14371 \n",
            "\n"
          ]
        },
        {
          "output_type": "stream",
          "name": "stderr",
          "text": []
        },
        {
          "output_type": "stream",
          "name": "stdout",
          "text": [
            "vocoder.blocks.5.convs1.0.0 \n",
            " 31689 \n",
            "\n"
          ]
        },
        {
          "output_type": "stream",
          "name": "stderr",
          "text": []
        },
        {
          "output_type": "stream",
          "name": "stdout",
          "text": [
            "vocoder.blocks.5.convs1.1.0 \n",
            " 12602 \n",
            "\n"
          ]
        },
        {
          "output_type": "stream",
          "name": "stderr",
          "text": []
        },
        {
          "output_type": "stream",
          "name": "stdout",
          "text": [
            "vocoder.blocks.5.convs1.2.0 \n",
            " 10706 \n",
            "\n"
          ]
        },
        {
          "output_type": "stream",
          "name": "stderr",
          "text": []
        },
        {
          "output_type": "stream",
          "name": "stdout",
          "text": [
            "vocoder.blocks.5.convs2.0.0 \n",
            " 8002 \n",
            "\n"
          ]
        },
        {
          "output_type": "stream",
          "name": "stderr",
          "text": []
        },
        {
          "output_type": "stream",
          "name": "stdout",
          "text": [
            "vocoder.blocks.5.convs2.1.0 \n",
            " 4905 \n",
            "\n"
          ]
        },
        {
          "output_type": "stream",
          "name": "stderr",
          "text": []
        },
        {
          "output_type": "stream",
          "name": "stdout",
          "text": [
            "vocoder.blocks.5.convs2.2.0 \n",
            " 7908 \n",
            "\n"
          ]
        },
        {
          "output_type": "stream",
          "name": "stderr",
          "text": []
        },
        {
          "output_type": "stream",
          "name": "stdout",
          "text": [
            "vocoder.blocks.6.convs1.0.0 \n",
            " 82395 \n",
            "\n"
          ]
        },
        {
          "output_type": "stream",
          "name": "stderr",
          "text": []
        },
        {
          "output_type": "stream",
          "name": "stdout",
          "text": [
            "vocoder.blocks.6.convs1.1.0 \n",
            " 86347 \n",
            "\n"
          ]
        },
        {
          "output_type": "stream",
          "name": "stderr",
          "text": []
        },
        {
          "output_type": "stream",
          "name": "stdout",
          "text": [
            "vocoder.blocks.6.convs1.2.0 \n",
            " 94002 \n",
            "\n"
          ]
        },
        {
          "output_type": "stream",
          "name": "stderr",
          "text": []
        },
        {
          "output_type": "stream",
          "name": "stdout",
          "text": [
            "vocoder.blocks.6.convs2.0.0 \n",
            " 61926 \n",
            "\n"
          ]
        },
        {
          "output_type": "stream",
          "name": "stderr",
          "text": []
        },
        {
          "output_type": "stream",
          "name": "stdout",
          "text": [
            "vocoder.blocks.6.convs2.1.0 \n",
            " 54298 \n",
            "\n"
          ]
        },
        {
          "output_type": "stream",
          "name": "stderr",
          "text": []
        },
        {
          "output_type": "stream",
          "name": "stdout",
          "text": [
            "vocoder.blocks.6.convs2.2.0 \n",
            " 77194 \n",
            "\n"
          ]
        },
        {
          "output_type": "stream",
          "name": "stderr",
          "text": []
        },
        {
          "output_type": "stream",
          "name": "stdout",
          "text": [
            "vocoder.blocks.7.convs1.0.0 \n",
            " 82395 \n",
            "\n"
          ]
        },
        {
          "output_type": "stream",
          "name": "stderr",
          "text": []
        },
        {
          "output_type": "stream",
          "name": "stdout",
          "text": [
            "vocoder.blocks.7.convs1.1.0 \n",
            " 56887 \n",
            "\n"
          ]
        },
        {
          "output_type": "stream",
          "name": "stderr",
          "text": []
        },
        {
          "output_type": "stream",
          "name": "stdout",
          "text": [
            "vocoder.blocks.7.convs1.2.0 \n",
            " 46867 \n",
            "\n"
          ]
        },
        {
          "output_type": "stream",
          "name": "stderr",
          "text": []
        },
        {
          "output_type": "stream",
          "name": "stdout",
          "text": [
            "vocoder.blocks.7.convs2.0.0 \n",
            " 33362 \n",
            "\n"
          ]
        },
        {
          "output_type": "stream",
          "name": "stderr",
          "text": []
        },
        {
          "output_type": "stream",
          "name": "stdout",
          "text": [
            "vocoder.blocks.7.convs2.1.0 \n",
            " 25503 \n",
            "\n"
          ]
        },
        {
          "output_type": "stream",
          "name": "stderr",
          "text": []
        },
        {
          "output_type": "stream",
          "name": "stdout",
          "text": [
            "vocoder.blocks.7.convs2.2.0 \n",
            " 35478 \n",
            "\n"
          ]
        },
        {
          "output_type": "stream",
          "name": "stderr",
          "text": []
        },
        {
          "output_type": "stream",
          "name": "stdout",
          "text": [
            "vocoder.blocks.8.convs1.0.0 \n",
            " 82395 \n",
            "\n"
          ]
        },
        {
          "output_type": "stream",
          "name": "stderr",
          "text": []
        },
        {
          "output_type": "stream",
          "name": "stdout",
          "text": [
            "vocoder.blocks.8.convs1.1.0 \n",
            " 48375 \n",
            "\n"
          ]
        },
        {
          "output_type": "stream",
          "name": "stderr",
          "text": []
        },
        {
          "output_type": "stream",
          "name": "stdout",
          "text": [
            "vocoder.blocks.8.convs1.2.0 \n",
            " 34873 \n",
            "\n"
          ]
        },
        {
          "output_type": "stream",
          "name": "stderr",
          "text": []
        },
        {
          "output_type": "stream",
          "name": "stdout",
          "text": [
            "vocoder.blocks.8.convs2.0.0 \n",
            " 31838 \n",
            "\n"
          ]
        },
        {
          "output_type": "stream",
          "name": "stderr",
          "text": []
        },
        {
          "output_type": "stream",
          "name": "stdout",
          "text": [
            "vocoder.blocks.8.convs2.1.0 \n",
            " 30010 \n",
            "\n"
          ]
        },
        {
          "output_type": "stream",
          "name": "stderr",
          "text": []
        },
        {
          "output_type": "stream",
          "name": "stdout",
          "text": [
            "vocoder.blocks.8.convs2.2.0 \n",
            " 35422 \n",
            "\n"
          ]
        },
        {
          "output_type": "stream",
          "name": "stderr",
          "text": []
        },
        {
          "output_type": "stream",
          "name": "stdout",
          "text": [
            "vocoder.blocks.9.convs1.0.0 \n",
            " 134880 \n",
            "\n"
          ]
        },
        {
          "output_type": "stream",
          "name": "stderr",
          "text": []
        },
        {
          "output_type": "stream",
          "name": "stdout",
          "text": [
            "vocoder.blocks.9.convs1.1.0 \n",
            " 133720 \n",
            "\n"
          ]
        },
        {
          "output_type": "stream",
          "name": "stderr",
          "text": []
        },
        {
          "output_type": "stream",
          "name": "stdout",
          "text": [
            "vocoder.blocks.9.convs1.2.0 \n",
            " 139638 \n",
            "\n"
          ]
        },
        {
          "output_type": "stream",
          "name": "stderr",
          "text": []
        },
        {
          "output_type": "stream",
          "name": "stdout",
          "text": [
            "vocoder.blocks.9.convs2.0.0 \n",
            " 88118 \n",
            "\n"
          ]
        },
        {
          "output_type": "stream",
          "name": "stderr",
          "text": []
        },
        {
          "output_type": "stream",
          "name": "stdout",
          "text": [
            "vocoder.blocks.9.convs2.1.0 \n",
            " 106566 \n",
            "\n"
          ]
        },
        {
          "output_type": "stream",
          "name": "stderr",
          "text": []
        },
        {
          "output_type": "stream",
          "name": "stdout",
          "text": [
            "vocoder.blocks.9.convs2.2.0 \n",
            " 120625 \n",
            "\n"
          ]
        },
        {
          "output_type": "stream",
          "name": "stderr",
          "text": []
        },
        {
          "output_type": "stream",
          "name": "stdout",
          "text": [
            "vocoder.blocks.10.convs1.0.0 \n",
            " 134880 \n",
            "\n"
          ]
        },
        {
          "output_type": "stream",
          "name": "stderr",
          "text": []
        },
        {
          "output_type": "stream",
          "name": "stdout",
          "text": [
            "vocoder.blocks.10.convs1.1.0 \n",
            " 142057 \n",
            "\n"
          ]
        },
        {
          "output_type": "stream",
          "name": "stderr",
          "text": []
        },
        {
          "output_type": "stream",
          "name": "stdout",
          "text": [
            "vocoder.blocks.10.convs1.2.0 \n",
            " 136508 \n",
            "\n"
          ]
        },
        {
          "output_type": "stream",
          "name": "stderr",
          "text": []
        },
        {
          "output_type": "stream",
          "name": "stdout",
          "text": [
            "vocoder.blocks.10.convs2.0.0 \n",
            " 126807 \n",
            "\n"
          ]
        },
        {
          "output_type": "stream",
          "name": "stderr",
          "text": []
        },
        {
          "output_type": "stream",
          "name": "stdout",
          "text": [
            "vocoder.blocks.10.convs2.1.0 \n",
            " 100007 \n",
            "\n"
          ]
        },
        {
          "output_type": "stream",
          "name": "stderr",
          "text": []
        },
        {
          "output_type": "stream",
          "name": "stdout",
          "text": [
            "vocoder.blocks.10.convs2.2.0 \n",
            " 144889 \n",
            "\n"
          ]
        },
        {
          "output_type": "stream",
          "name": "stderr",
          "text": []
        },
        {
          "output_type": "stream",
          "name": "stdout",
          "text": [
            "vocoder.blocks.11.convs1.0.0 \n",
            " 134880 \n",
            "\n"
          ]
        },
        {
          "output_type": "stream",
          "name": "stderr",
          "text": []
        },
        {
          "output_type": "stream",
          "name": "stdout",
          "text": [
            "vocoder.blocks.11.convs1.1.0 \n",
            " 110633 \n",
            "\n"
          ]
        },
        {
          "output_type": "stream",
          "name": "stderr",
          "text": []
        },
        {
          "output_type": "stream",
          "name": "stdout",
          "text": [
            "vocoder.blocks.11.convs1.2.0 \n",
            " 65034 \n",
            "\n"
          ]
        },
        {
          "output_type": "stream",
          "name": "stderr",
          "text": []
        },
        {
          "output_type": "stream",
          "name": "stdout",
          "text": [
            "vocoder.blocks.11.convs2.0.0 \n",
            " 118344 \n",
            "\n"
          ]
        },
        {
          "output_type": "stream",
          "name": "stderr",
          "text": []
        },
        {
          "output_type": "stream",
          "name": "stdout",
          "text": [
            "vocoder.blocks.11.convs2.1.0 \n",
            " 100508 \n",
            "\n"
          ]
        },
        {
          "output_type": "stream",
          "name": "stderr",
          "text": []
        },
        {
          "output_type": "stream",
          "name": "stdout",
          "text": [
            "vocoder.blocks.11.convs2.2.0 \n",
            " 70382 \n",
            "\n"
          ]
        },
        {
          "output_type": "stream",
          "name": "stderr",
          "text": []
        },
        {
          "output_type": "stream",
          "name": "stdout",
          "text": [
            "vocoder.output_conv.0 \n",
            " 110579 \n",
            "\n"
          ]
        },
        {
          "output_type": "stream",
          "name": "stderr",
          "text": []
        },
        {
          "output_type": "stream",
          "name": "stdout",
          "text": [
            "vocoder.output_conv.2 \n",
            " 2256 \n",
            "\n"
          ]
        }
      ]
    },
    {
      "cell_type": "code",
      "source": [
        "import pandas as pd\n",
        "from netdissect import tally\n",
        "\n",
        "zds = torch.linspace(0, 107, 108)\n",
        "\n",
        "\n",
        "# SELECT LAYER\n",
        "layer = 'vocoder.blocks.9.convs1.1.0'\n",
        "\n",
        "x = \"Please call Stella. Ask her too.\"\n",
        "\n",
        "# To collect stats, define a function that returns 2d [samples, units]\n",
        "def compute_samples(index):\n",
        "    # print(index)\n",
        "    spk = spks[int(index[0])]\n",
        "    spembs = xvectors[spk]\n",
        "    wav = text2speech(x, spembs=spembs)[\"wav\"]\n",
        "    acts = text2speech.vocoder.retained_layer(layer)\n",
        "    acts = torch.flatten(acts, start_dim=1)\n",
        "    acts_stack = acts\n",
        "    print(acts.shape)\n",
        "    # print(acts)\n",
        "    # acts_stack = acts[0]\n",
        "\n",
        "    for i in index[1:7]:\n",
        "      spk = spks[int(i)]\n",
        "      spembs = xvectors[spk]\n",
        "      wav = text2speech(x, spembs=spembs)[\"wav\"]\n",
        "      # acts = model.retained_layer('layer4') # get the activations, and flatten\n",
        "      acts = text2speech.vocoder.retained_layer(layer)\n",
        "      # print(acts[0].shape)\n",
        "      # print(acts)\n",
        "      acts = torch.flatten(acts, start_dim=1)\n",
        "\n",
        "      acts_stack = torch.cat((acts_stack, acts), 0)\n",
        "      print(acts_stack.shape)\n",
        "\n",
        "    for i in index[7:]:\n",
        "      spk = spks[int(i)]\n",
        "      spembs = xvectors[spk]\n",
        "      wav = text2speech2(x, spembs=spembs)[\"wav\"]\n",
        "      # acts = model.retained_layer('layer4') # get the activations, and flatten\n",
        "      acts = text2speech2.vocoder.retained_layer(layer)\n",
        "      # print(acts[0].shape)\n",
        "      # print(acts)\n",
        "      acts = torch.flatten(acts, start_dim=1)\n",
        "\n",
        "      acts_stack = torch.cat((acts_stack, acts), 0)\n",
        "      print(acts_stack.shape)\n",
        "\n",
        "    return acts_stack\n"
      ],
      "metadata": {
        "id": "RL7ZU-2UkKF0"
      },
      "execution_count": null,
      "outputs": []
    },
    {
      "cell_type": "code",
      "source": [
        "# # Then tally_quantile will run your function over the whole dataset to collect quantile stats\n",
        "# rq = tally.tally_quantile(compute_samples, zds, batch_size=10)\n",
        "\n",
        "# # Print out the median value for the first 20 channels\n",
        "# print(rq.quantiles(0.99).shape)"
      ],
      "metadata": {
        "id": "6X8Ol4nFJS2Z"
      },
      "execution_count": null,
      "outputs": []
    },
    {
      "cell_type": "code",
      "source": [
        "topk = tally.tally_topk(compute_samples, zds)\n",
        "topk.result()[1].shape"
      ],
      "metadata": {
        "id": "YEPMIw9XhrNA"
      },
      "execution_count": null,
      "outputs": []
    },
    {
      "cell_type": "code",
      "source": [
        "text2speech.vocoder.retained_layer(layer).shape"
      ],
      "metadata": {
        "id": "YLCLh5tn5Pc7",
        "colab": {
          "base_uri": "https://localhost:8080/"
        },
        "outputId": "904c7a3c-6678-448b-9e16-cf4af395626f"
      },
      "execution_count": null,
      "outputs": [
        {
          "output_type": "execute_result",
          "data": {
            "text/plain": [
              "torch.Size([1, 32, 30000])"
            ]
          },
          "metadata": {},
          "execution_count": 18
        }
      ]
    },
    {
      "cell_type": "code",
      "source": [
        "topk.result()[1]"
      ],
      "metadata": {
        "id": "uVj6n0SImK4P",
        "colab": {
          "base_uri": "https://localhost:8080/"
        },
        "outputId": "99de6816-9667-43f8-beee-3ac94566607c"
      },
      "execution_count": null,
      "outputs": [
        {
          "output_type": "execute_result",
          "data": {
            "text/plain": [
              "tensor([[ 29,  77,  63,  ...,  90,  84,  48],\n",
              "        [ 26,  36,  95,  ..., 102,  28,  84],\n",
              "        [ 43, 105, 106,  ...,  24,  56,  48],\n",
              "        ...,\n",
              "        [ 78,  37,  38,  ...,  41,  51,  44],\n",
              "        [ 58,  79,  67,  ..., 101,  14,  34],\n",
              "        [ 40,   0,  95,  ...,  99,  98,  29]])"
            ]
          },
          "metadata": {},
          "execution_count": 19
        }
      ]
    },
    {
      "cell_type": "code",
      "source": [
        "topk.result()[0]"
      ],
      "metadata": {
        "id": "TzSEAPTipuBg",
        "colab": {
          "base_uri": "https://localhost:8080/"
        },
        "outputId": "1bac5440-885a-4405-c673-c51572dafa78"
      },
      "execution_count": null,
      "outputs": [
        {
          "output_type": "execute_result",
          "data": {
            "text/plain": [
              "tensor([[ 0.1241,  0.1210,  0.1171,  ..., -0.0131, -0.0131, -0.0133],\n",
              "        [ 0.1117,  0.1062,  0.1019,  ..., -0.0286, -0.0299, -0.0302],\n",
              "        [ 0.3907,  0.3566,  0.3439,  ..., -0.0077, -0.0106, -0.0108],\n",
              "        ...,\n",
              "        [ 4.3697,  4.3697,  4.3697,  ..., -0.0122, -0.0134, -0.0135],\n",
              "        [ 3.2731,  3.2731,  3.2731,  ..., -0.0165, -0.0171, -0.0181],\n",
              "        [ 1.0552,  0.8396,  0.7541,  ..., -0.0831, -0.0831, -0.0831]])"
            ]
          },
          "metadata": {},
          "execution_count": 20
        }
      ]
    },
    {
      "cell_type": "code",
      "source": [
        "# selecting the first 5 indices from the first row / unit\n",
        "top = topk.result()[1][0][0:5]\n",
        "print(top)\n",
        "# casting from tensor to set\n",
        "top = set(top.tolist())\n",
        "\n",
        "# calculating IoU\n",
        "num = top.intersection(edited)\n",
        "print(num)\n",
        "den = top.union(edited)\n",
        "print(den)\n",
        "IoU = len(num) / len(den)\n",
        "print(IoU)"
      ],
      "metadata": {
        "id": "k3zqnOrvS1ug",
        "colab": {
          "base_uri": "https://localhost:8080/"
        },
        "outputId": "7d52be06-47da-456f-ef91-9b5d63c92d48"
      },
      "execution_count": null,
      "outputs": [
        {
          "output_type": "stream",
          "name": "stdout",
          "text": [
            "tensor([29, 77, 63, 53, 69])\n",
            "{29, 77, 69}\n",
            "{7, 8, 9, 17, 18, 19, 27, 28, 29, 37, 38, 39, 47, 48, 49, 53, 57, 58, 59, 63, 67, 68, 69, 77, 78, 79, 87, 88, 89, 97, 98, 99, 107}\n",
            "0.09090909090909091\n"
          ]
        }
      ]
    },
    {
      "cell_type": "code",
      "source": [
        "# Quick method\n",
        "# iterating st we can calculate the IoU for all units in the layer\n",
        "IoU_list = []\n",
        "chosen_property = edited\n",
        "result = topk.result()[1]\n",
        "result = result.tolist()\n",
        "# len(result)\n",
        "\n",
        "for i in range(0, topk.result()[1].shape[0]):\n",
        "  top = result[i][0:5]\n",
        "  top = set(top)\n",
        "  num = top.intersection(chosen_property)\n",
        "  den = top.union(chosen_property)\n",
        "  IoU_list.append(len(num) / len(den))\n",
        "  # print(i)\n",
        "\n",
        "# top = set(top.tolist())\n",
        "# for i in range(0, topk.result()[1].shape[0]):\n",
        "#   num = top.intersection(southern_units)\n",
        "#   den = top.union(southern_units)\n",
        "#   IoU_list.append(len(num) / len(den))\n",
        "#   print(i)"
      ],
      "metadata": {
        "id": "ZMQFxedW3exi"
      },
      "execution_count": null,
      "outputs": []
    },
    {
      "cell_type": "code",
      "source": [
        "# # same as above but to zero units\n",
        "# IoU_list_z = []\n",
        "# property_z = southern_units\n",
        "\n",
        "# for i in range(0, topk.result()[1].shape[0]):\n",
        "#   top = result[i][0:5]\n",
        "#   top = set(top)\n",
        "#   num = top.intersection(property_z)\n",
        "#   den = top.union(property_z)\n",
        "#   IoU_list_z.append(len(num) / len(den))\n",
        "#   # print(i)"
      ],
      "metadata": {
        "id": "m4IPauTcgLpm"
      },
      "execution_count": null,
      "outputs": []
    },
    {
      "cell_type": "code",
      "source": [
        "len(IoU_list)"
      ],
      "metadata": {
        "id": "ttmevsO_WqM8",
        "colab": {
          "base_uri": "https://localhost:8080/"
        },
        "outputId": "69753486-ff14-4896-ecad-33bbbd45a1ac"
      },
      "execution_count": null,
      "outputs": [
        {
          "output_type": "execute_result",
          "data": {
            "text/plain": [
              "960000"
            ]
          },
          "metadata": {},
          "execution_count": 24
        }
      ]
    },
    {
      "cell_type": "code",
      "source": [
        "# IoU_list"
      ],
      "metadata": {
        "id": "HY0PGAfma9uA"
      },
      "execution_count": null,
      "outputs": []
    },
    {
      "cell_type": "code",
      "source": [
        "# setting the number of units we want to change the actication to the top 1% quantile for and printing their indices\n",
        "n_units = 20\n",
        "IoU_list = torch.tensor(IoU_list)\n",
        "top_IoU = torch.topk(IoU_list, n_units)\n",
        "print(layer, '\\n', top_IoU, '\\n')\n",
        "# print(top_IoU[1].shape)\n",
        "# print(rand_IoU)\n"
      ],
      "metadata": {
        "id": "-8g9BI6-wli7",
        "colab": {
          "base_uri": "https://localhost:8080/"
        },
        "outputId": "93ecd519-bc76-47bb-aa4e-ab821d2885c4"
      },
      "execution_count": null,
      "outputs": [
        {
          "output_type": "stream",
          "name": "stdout",
          "text": [
            "vocoder.blocks.9.convs1.1.0 \n",
            " torch.return_types.topk(\n",
            "values=tensor([0.1613, 0.1613, 0.1613, 0.1613, 0.1613, 0.1613, 0.1613, 0.1613, 0.1613,\n",
            "        0.1613, 0.1613, 0.1613, 0.1613, 0.1613, 0.1613, 0.1613, 0.1613, 0.1613,\n",
            "        0.1613, 0.1613]),\n",
            "indices=tensor([23970, 23961, 23968, 24002, 20886, 23976, 23962, 24006, 23957, 23958,\n",
            "        24003, 20881, 24004, 23972, 24005, 23964, 24007, 23959, 20884, 12626])) \n",
            "\n"
          ]
        }
      ]
    },
    {
      "cell_type": "code",
      "source": [
        "# defining functions to get the unit's index from the number layer and its index from topk\n",
        "def index_map(layer1, idx):\n",
        "    div = text2speech.vocoder.retained_layer(layer1).shape[2]\n",
        "    first = idx//div\n",
        "    second = idx%div\n",
        "    return [0, first, second]\n",
        "\n",
        "\n",
        "# index_map_list(layer, top_IoU[1].numpy())"
      ],
      "metadata": {
        "id": "fygAjW4E-XSO"
      },
      "execution_count": null,
      "outputs": []
    },
    {
      "cell_type": "code",
      "source": [
        "from pyparsing import actions\n",
        "s_african = {82, 86, 93, 99}\n",
        "southern = {0, 3, 4, 6, 7, 14, 30, 31, 41}\n",
        "edited = {7,8,9, 17,18,19, 27,28,29, 37,38,39, 47,48,49, 57,58,59, 67,68,69, 77,78,79, 87,88,89, 97,98,99}\n",
        "\n",
        "\n",
        "speaker_sentence_list = []\n",
        "activations_list = []\n",
        "\n",
        "unit_index = 23970\n",
        "\n",
        "for index in edited:\n",
        "  spk = spks[index]\n",
        "  spembs = xvectors[spk]\n",
        "  print(f\"selected spk: {spk}\")\n",
        "\n",
        "  # speaker 1 saying normal thing, no noise\n",
        "  x = \"Please call Stella.  Ask her too.\"\n",
        "  wav = text2speech(x, spembs=spembs)[\"wav\"]\n",
        "  temp = index_map(layer, unit_index)\n",
        "  act = text2speech.vocoder.retained_layer(layer)[0][temp[1]][temp[2]]\n",
        "  print('Chosen spks, sen 1, no feat', act)\n",
        "  speaker_sentence_list.append('Chosen spks, sen 1, no feat')\n",
        "  activations_list.append(act.item())\n",
        "\n",
        "  # speaker 1 saying normal thing,  noise\n",
        "  x = \"Please call Stella.  Ask her too.\"\n",
        "  wav = text2speech2(x, spembs=spembs)[\"wav\"]\n",
        "  temp = index_map(layer, unit_index)\n",
        "  act = text2speech2.vocoder.retained_layer(layer)[0][temp[1]][temp[2]]\n",
        "  print('Chosen spks, sen 1, feat', act)\n",
        "  speaker_sentence_list.append('Chosen spks, sen 1, feat')\n",
        "  activations_list.append(act.item())\n",
        "\n",
        "  # speaker 1 saying other thing, no noise\n",
        "  x = \"Bring these things with her from the store\"\n",
        "  wav = text2speech(x, spembs=spembs)[\"wav\"]\n",
        "  temp = index_map(layer, unit_index)\n",
        "  act = text2speech.vocoder.retained_layer(layer)[0][temp[1]][temp[2]]\n",
        "  print('Chosen spks, sen 2, no feat', act)\n",
        "  speaker_sentence_list.append('Chosen spks, sen 2, no feat')\n",
        "  activations_list.append(act.item())\n",
        "\n",
        "  # speaker 1 saying other thing, noise\n",
        "  x = \"Bring these things with her from the store\"\n",
        "  wav = text2speech2(x, spembs=spembs)[\"wav\"]\n",
        "  temp = index_map(layer, unit_index)\n",
        "  act = text2speech2.vocoder.retained_layer(layer)[0][temp[1]][temp[2]]\n",
        "  print('Chosen spks, sen 2, feat', act)\n",
        "  speaker_sentence_list.append('Chosen spks, sen 2, feat')\n",
        "  activations_list.append(act.item())\n",
        "\n",
        "\n",
        "# change to a speaker outside of the edited list\n",
        "  spk = spks[index+4]\n",
        "  spembs = xvectors[spk]\n",
        "  print(f\"selected spk: {spk}\")\n",
        "\n",
        "  # speaker 2 saying normal thing, no noise\n",
        "  x = \"Please call Stella.  Ask her too.\"\n",
        "  wav = text2speech(x, spembs=spembs)[\"wav\"]\n",
        "  temp = index_map(layer, unit_index)\n",
        "  act = text2speech.vocoder.retained_layer(layer)[0][temp[1]][temp[2]]\n",
        "  print('Other spks, sen 1, no feat', act)\n",
        "  speaker_sentence_list.append('Other spks, sen 1, no feat')\n",
        "  activations_list.append(act.item())\n",
        "\n",
        "  # speaker 2 saying normal thing,  noise\n",
        "  x = \"Please call Stella.  Ask her too.\"\n",
        "  wav = text2speech2(x, spembs=spembs)[\"wav\"]\n",
        "  temp = index_map(layer, unit_index)\n",
        "  act = text2speech2.vocoder.retained_layer(layer)[0][temp[1]][temp[2]]\n",
        "  print('Other spks, sen 1, feat', act)\n",
        "  speaker_sentence_list.append('Other spks, sen 1, feat')\n",
        "  activations_list.append(act.item())\n",
        "\n",
        "  # speaker 2 saying other thing, no noise\n",
        "  x = \"Bring these things with her from the store\"\n",
        "  wav = text2speech(x, spembs=spembs)[\"wav\"]\n",
        "  temp = index_map(layer, unit_index)\n",
        "  act = text2speech.vocoder.retained_layer(layer)[0][temp[1]][temp[2]]\n",
        "  print('Other spks, sen 2, no feat', act)\n",
        "  speaker_sentence_list.append('Other spks, sen 2, no feat')\n",
        "  activations_list.append(act.item())\n",
        "\n",
        "  # speaker 2 saying other thing, noise\n",
        "  x = \"Bring these things with her from the store\"\n",
        "  wav = text2speech2(x, spembs=spembs)[\"wav\"]\n",
        "  temp = index_map(layer, unit_index)\n",
        "  act = text2speech2.vocoder.retained_layer(layer)[0][temp[1]][temp[2]]\n",
        "  print('Other spks, sen 2, feat', act)\n",
        "  speaker_sentence_list.append('Other spks, sen 2, feat')\n",
        "  activations_list.append(act.item())\n",
        "\n",
        "print(activations_list)\n",
        "print(speaker_sentence_list)"
      ],
      "metadata": {
        "colab": {
          "base_uri": "https://localhost:8080/"
        },
        "id": "Mhsuok3Doxwv",
        "outputId": "9592a437-b456-4d3e-e215-151a17e0f3be"
      },
      "execution_count": null,
      "outputs": [
        {
          "output_type": "stream",
          "name": "stdout",
          "text": [
            "selected spk: p232\n",
            "Chosen spks, sen 1, no feat tensor(0.4188)\n",
            "Chosen spks, sen 1, feat tensor(0.7811)\n",
            "Chosen spks, sen 2, no feat tensor(0.6107)\n",
            "Chosen spks, sen 2, feat tensor(1.1925)\n",
            "selected spk: p237\n",
            "Other spks, sen 1, no feat tensor(1.1557)\n",
            "Other spks, sen 1, feat tensor(1.9797)\n",
            "Other spks, sen 2, no feat tensor(1.2481)\n",
            "Other spks, sen 2, feat tensor(1.1148)\n",
            "selected spk: p233\n",
            "Chosen spks, sen 1, no feat tensor(-0.0710)\n",
            "Chosen spks, sen 1, feat tensor(0.5879)\n",
            "Chosen spks, sen 2, no feat tensor(2.3090)\n",
            "Chosen spks, sen 2, feat tensor(1.6321)\n",
            "selected spk: p238\n",
            "Other spks, sen 1, no feat tensor(0.9781)\n",
            "Other spks, sen 1, feat tensor(0.8541)\n",
            "Other spks, sen 2, no feat tensor(-0.0121)\n",
            "Other spks, sen 2, feat tensor(0.5043)\n",
            "selected spk: p234\n",
            "Chosen spks, sen 1, no feat tensor(1.0355)\n",
            "Chosen spks, sen 1, feat tensor(1.5870)\n",
            "Chosen spks, sen 2, no feat tensor(-0.0654)\n",
            "Chosen spks, sen 2, feat tensor(0.5544)\n",
            "selected spk: p239\n",
            "Other spks, sen 1, no feat tensor(2.0267)\n",
            "Other spks, sen 1, feat tensor(2.1468)\n",
            "Other spks, sen 2, no feat tensor(0.8749)\n",
            "Other spks, sen 2, feat tensor(1.2582)\n",
            "selected spk: p244\n",
            "Chosen spks, sen 1, no feat tensor(-0.0404)\n",
            "Chosen spks, sen 1, feat tensor(0.3094)\n",
            "Chosen spks, sen 2, no feat tensor(0.1221)\n",
            "Chosen spks, sen 2, feat tensor(0.7763)\n",
            "selected spk: p248\n",
            "Other spks, sen 1, no feat tensor(0.8391)\n",
            "Other spks, sen 1, feat tensor(1.1383)\n",
            "Other spks, sen 2, no feat tensor(0.4095)\n",
            "Other spks, sen 2, feat tensor(0.9844)\n",
            "selected spk: p245\n",
            "Chosen spks, sen 1, no feat tensor(1.0021)\n",
            "Chosen spks, sen 1, feat tensor(1.9146)\n",
            "Chosen spks, sen 2, no feat tensor(1.2186)\n",
            "Chosen spks, sen 2, feat tensor(2.4198)\n",
            "selected spk: p249\n",
            "Other spks, sen 1, no feat tensor(-0.0218)\n",
            "Other spks, sen 1, feat tensor(0.3879)\n",
            "Other spks, sen 2, no feat tensor(0.7679)\n",
            "Other spks, sen 2, feat tensor(1.4238)\n",
            "selected spk: p246\n",
            "Chosen spks, sen 1, no feat tensor(1.2609)\n",
            "Chosen spks, sen 1, feat tensor(1.7207)\n",
            "Chosen spks, sen 2, no feat tensor(0.1820)\n",
            "Chosen spks, sen 2, feat tensor(0.7565)\n",
            "selected spk: p250\n",
            "Other spks, sen 1, no feat tensor(0.8750)\n",
            "Other spks, sen 1, feat tensor(1.2483)\n",
            "Other spks, sen 2, no feat tensor(1.0742)\n",
            "Other spks, sen 2, feat tensor(1.2806)\n",
            "selected spk: p254\n",
            "Chosen spks, sen 1, no feat tensor(1.0144)\n",
            "Chosen spks, sen 1, feat tensor(2.0861)\n",
            "Chosen spks, sen 2, no feat tensor(0.8486)\n",
            "Chosen spks, sen 2, feat tensor(0.9482)\n",
            "selected spk: p258\n",
            "Other spks, sen 1, no feat tensor(0.5287)\n",
            "Other spks, sen 1, feat tensor(1.1492)\n",
            "Other spks, sen 2, no feat tensor(1.2805)\n",
            "Other spks, sen 2, feat tensor(2.1684)\n",
            "selected spk: p255\n",
            "Chosen spks, sen 1, no feat tensor(0.9305)\n",
            "Chosen spks, sen 1, feat tensor(2.1222)\n",
            "Chosen spks, sen 2, no feat tensor(0.1771)\n",
            "Chosen spks, sen 2, feat tensor(0.9222)\n",
            "selected spk: p259\n",
            "Other spks, sen 1, no feat tensor(0.8426)\n",
            "Other spks, sen 1, feat tensor(1.6416)\n",
            "Other spks, sen 2, no feat tensor(0.5503)\n",
            "Other spks, sen 2, feat tensor(0.8272)\n",
            "selected spk: p256\n",
            "Chosen spks, sen 1, no feat tensor(0.9419)\n",
            "Chosen spks, sen 1, feat tensor(2.0933)\n",
            "Chosen spks, sen 2, no feat tensor(-0.0162)\n",
            "Chosen spks, sen 2, feat tensor(0.7432)\n",
            "selected spk: p260\n",
            "Other spks, sen 1, no feat tensor(0.5737)\n",
            "Other spks, sen 1, feat tensor(1.3942)\n",
            "Other spks, sen 2, no feat tensor(0.8100)\n",
            "Other spks, sen 2, feat tensor(2.0369)\n",
            "selected spk: p264\n",
            "Chosen spks, sen 1, no feat tensor(0.7105)\n",
            "Chosen spks, sen 1, feat tensor(1.6450)\n",
            "Chosen spks, sen 2, no feat tensor(0.7051)\n",
            "Chosen spks, sen 2, feat tensor(1.1360)\n",
            "selected spk: p268\n",
            "Other spks, sen 1, no feat tensor(1.3519)\n",
            "Other spks, sen 1, feat tensor(1.2694)\n",
            "Other spks, sen 2, no feat tensor(-0.0030)\n",
            "Other spks, sen 2, feat tensor(0.5402)\n",
            "selected spk: p265\n",
            "Chosen spks, sen 1, no feat tensor(-0.0238)\n",
            "Chosen spks, sen 1, feat tensor(0.5883)\n",
            "Chosen spks, sen 2, no feat tensor(-0.0189)\n",
            "Chosen spks, sen 2, feat tensor(0.3350)\n",
            "selected spk: p269\n",
            "Other spks, sen 1, no feat tensor(1.0875)\n",
            "Other spks, sen 1, feat tensor(1.3609)\n",
            "Other spks, sen 2, no feat tensor(1.0469)\n",
            "Other spks, sen 2, feat tensor(1.4207)\n",
            "selected spk: p266\n",
            "Chosen spks, sen 1, no feat tensor(0.7296)\n",
            "Chosen spks, sen 1, feat tensor(1.2193)\n",
            "Chosen spks, sen 2, no feat tensor(0.8000)\n",
            "Chosen spks, sen 2, feat tensor(1.4919)\n",
            "selected spk: p270\n",
            "Other spks, sen 1, no feat tensor(1.0447)\n",
            "Other spks, sen 1, feat tensor(1.4106)\n",
            "Other spks, sen 2, no feat tensor(1.1701)\n",
            "Other spks, sen 2, feat tensor(1.6357)\n",
            "selected spk: p274\n",
            "Chosen spks, sen 1, no feat tensor(1.0812)\n",
            "Chosen spks, sen 1, feat tensor(1.9792)\n",
            "Chosen spks, sen 2, no feat tensor(0.0015)\n",
            "Chosen spks, sen 2, feat tensor(0.6687)\n",
            "selected spk: p278\n",
            "Other spks, sen 1, no feat tensor(-0.0565)\n",
            "Other spks, sen 1, feat tensor(0.3946)\n",
            "Other spks, sen 2, no feat tensor(0.6933)\n",
            "Other spks, sen 2, feat tensor(0.9411)\n",
            "selected spk: p275\n",
            "Chosen spks, sen 1, no feat tensor(1.3047)\n",
            "Chosen spks, sen 1, feat tensor(2.4353)\n",
            "Chosen spks, sen 2, no feat tensor(2.0413)\n",
            "Chosen spks, sen 2, feat tensor(2.7177)\n",
            "selected spk: p279\n",
            "Other spks, sen 1, no feat tensor(0.1259)\n",
            "Other spks, sen 1, feat tensor(0.8232)\n",
            "Other spks, sen 2, no feat tensor(-0.0818)\n",
            "Other spks, sen 2, feat tensor(0.6190)\n",
            "selected spk: p276\n",
            "Chosen spks, sen 1, no feat tensor(0.8306)\n",
            "Chosen spks, sen 1, feat tensor(1.3950)\n",
            "Chosen spks, sen 2, no feat tensor(0.1613)\n",
            "Chosen spks, sen 2, feat tensor(0.7585)\n",
            "selected spk: p280\n",
            "Other spks, sen 1, no feat tensor(0.0450)\n",
            "Other spks, sen 1, feat tensor(0.7278)\n",
            "Other spks, sen 2, no feat tensor(0.5061)\n",
            "Other spks, sen 2, feat tensor(0.8100)\n",
            "selected spk: p284\n",
            "Chosen spks, sen 1, no feat tensor(1.1220)\n",
            "Chosen spks, sen 1, feat tensor(2.2049)\n",
            "Chosen spks, sen 2, no feat tensor(-0.0772)\n",
            "Chosen spks, sen 2, feat tensor(0.6244)\n",
            "selected spk: p288\n",
            "Other spks, sen 1, no feat tensor(1.4713)\n",
            "Other spks, sen 1, feat tensor(1.6939)\n",
            "Other spks, sen 2, no feat tensor(0.3371)\n",
            "Other spks, sen 2, feat tensor(0.7465)\n",
            "selected spk: p285\n",
            "Chosen spks, sen 1, no feat tensor(-0.0077)\n",
            "Chosen spks, sen 1, feat tensor(0.4332)\n",
            "Chosen spks, sen 2, no feat tensor(1.2608)\n",
            "Chosen spks, sen 2, feat tensor(2.0944)\n",
            "selected spk: p292\n",
            "Other spks, sen 1, no feat tensor(0.0657)\n",
            "Other spks, sen 1, feat tensor(0.7701)\n",
            "Other spks, sen 2, no feat tensor(0.4403)\n",
            "Other spks, sen 2, feat tensor(0.7507)\n",
            "selected spk: p286\n",
            "Chosen spks, sen 1, no feat tensor(1.5591)\n",
            "Chosen spks, sen 1, feat tensor(2.0339)\n",
            "Chosen spks, sen 2, no feat tensor(0.4599)\n",
            "Chosen spks, sen 2, feat tensor(1.0398)\n",
            "selected spk: p293\n",
            "Other spks, sen 1, no feat tensor(0.8565)\n",
            "Other spks, sen 1, feat tensor(1.4272)\n",
            "Other spks, sen 2, no feat tensor(0.2038)\n",
            "Other spks, sen 2, feat tensor(0.7688)\n",
            "selected spk: p298\n",
            "Chosen spks, sen 1, no feat tensor(0.2261)\n",
            "Chosen spks, sen 1, feat tensor(0.9806)\n",
            "Chosen spks, sen 2, no feat tensor(0.8132)\n",
            "Chosen spks, sen 2, feat tensor(1.7516)\n",
            "selected spk: p302\n",
            "Other spks, sen 1, no feat tensor(1.6214)\n",
            "Other spks, sen 1, feat tensor(2.5210)\n",
            "Other spks, sen 2, no feat tensor(1.6181)\n",
            "Other spks, sen 2, feat tensor(2.2918)\n",
            "selected spk: p299\n",
            "Chosen spks, sen 1, no feat tensor(2.3382)\n",
            "Chosen spks, sen 1, feat tensor(2.8519)\n",
            "Chosen spks, sen 2, no feat tensor(2.4127)\n",
            "Chosen spks, sen 2, feat tensor(2.6991)\n",
            "selected spk: p303\n",
            "Other spks, sen 1, no feat tensor(-0.0365)\n",
            "Other spks, sen 1, feat tensor(0.4735)\n",
            "Other spks, sen 2, no feat tensor(0.7714)\n",
            "Other spks, sen 2, feat tensor(1.4430)\n",
            "selected spk: p300\n",
            "Chosen spks, sen 1, no feat tensor(0.9738)\n",
            "Chosen spks, sen 1, feat tensor(1.3574)\n",
            "Chosen spks, sen 2, no feat tensor(0.9255)\n",
            "Chosen spks, sen 2, feat tensor(1.2249)\n",
            "selected spk: p304\n",
            "Other spks, sen 1, no feat tensor(0.8615)\n",
            "Other spks, sen 1, feat tensor(1.3761)\n",
            "Other spks, sen 2, no feat tensor(1.0744)\n",
            "Other spks, sen 2, feat tensor(1.7963)\n",
            "selected spk: p308\n",
            "Chosen spks, sen 1, no feat tensor(1.0666)\n",
            "Chosen spks, sen 1, feat tensor(1.1385)\n",
            "Chosen spks, sen 2, no feat tensor(0.5774)\n",
            "Chosen spks, sen 2, feat tensor(1.3178)\n",
            "selected spk: p313\n",
            "Other spks, sen 1, no feat tensor(0.7722)\n",
            "Other spks, sen 1, feat tensor(0.8489)\n",
            "Other spks, sen 2, no feat tensor(0.1219)\n",
            "Other spks, sen 2, feat tensor(0.6474)\n",
            "selected spk: p310\n",
            "Chosen spks, sen 1, no feat tensor(0.2553)\n",
            "Chosen spks, sen 1, feat tensor(0.7323)\n",
            "Chosen spks, sen 2, no feat tensor(0.4286)\n",
            "Chosen spks, sen 2, feat tensor(0.9093)\n",
            "selected spk: p314\n",
            "Other spks, sen 1, no feat tensor(0.6567)\n",
            "Other spks, sen 1, feat tensor(1.2798)\n",
            "Other spks, sen 2, no feat tensor(0.8215)\n",
            "Other spks, sen 2, feat tensor(1.3326)\n",
            "selected spk: p311\n",
            "Chosen spks, sen 1, no feat tensor(1.0025)\n",
            "Chosen spks, sen 1, feat tensor(1.4244)\n",
            "Chosen spks, sen 2, no feat tensor(1.0201)\n",
            "Chosen spks, sen 2, feat tensor(1.4145)\n",
            "selected spk: p316\n",
            "Other spks, sen 1, no feat tensor(0.8677)\n",
            "Other spks, sen 1, feat tensor(1.9162)\n",
            "Other spks, sen 2, no feat tensor(0.7773)\n",
            "Other spks, sen 2, feat tensor(1.6291)\n",
            "selected spk: p326\n",
            "Chosen spks, sen 1, no feat tensor(0.3762)\n",
            "Chosen spks, sen 1, feat tensor(0.6024)\n",
            "Chosen spks, sen 2, no feat tensor(0.8514)\n",
            "Chosen spks, sen 2, feat tensor(1.2916)\n",
            "selected spk: p334\n",
            "Other spks, sen 1, no feat tensor(0.9593)\n",
            "Other spks, sen 1, feat tensor(1.1592)\n",
            "Other spks, sen 2, no feat tensor(1.0401)\n",
            "Other spks, sen 2, feat tensor(1.4718)\n",
            "selected spk: p329\n",
            "Chosen spks, sen 1, no feat tensor(0.6844)\n",
            "Chosen spks, sen 1, feat tensor(1.1612)\n",
            "Chosen spks, sen 2, no feat tensor(0.4473)\n",
            "Chosen spks, sen 2, feat tensor(1.2970)\n",
            "selected spk: p335\n",
            "Other spks, sen 1, no feat tensor(-0.0381)\n",
            "Other spks, sen 1, feat tensor(0.5242)\n",
            "Other spks, sen 2, no feat tensor(0.1553)\n",
            "Other spks, sen 2, feat tensor(0.9485)\n",
            "selected spk: p330\n",
            "Chosen spks, sen 1, no feat tensor(0.6712)\n",
            "Chosen spks, sen 1, feat tensor(0.9942)\n",
            "Chosen spks, sen 2, no feat tensor(0.3064)\n",
            "Chosen spks, sen 2, feat tensor(0.6269)\n",
            "selected spk: p336\n",
            "Other spks, sen 1, no feat tensor(0.7500)\n",
            "Other spks, sen 1, feat tensor(2.1675)\n",
            "Other spks, sen 2, no feat tensor(0.6995)\n",
            "Other spks, sen 2, feat tensor(1.3029)\n",
            "selected spk: p343\n",
            "Chosen spks, sen 1, no feat tensor(0.4448)\n",
            "Chosen spks, sen 1, feat tensor(0.9742)\n",
            "Chosen spks, sen 2, no feat tensor(0.7902)\n",
            "Chosen spks, sen 2, feat tensor(1.0530)\n",
            "selected spk: p360\n",
            "Other spks, sen 1, no feat tensor(0.7189)\n",
            "Other spks, sen 1, feat tensor(1.0962)\n",
            "Other spks, sen 2, no feat tensor(0.8664)\n",
            "Other spks, sen 2, feat tensor(1.0632)\n",
            "selected spk: p345\n",
            "Chosen spks, sen 1, no feat tensor(-0.0424)\n",
            "Chosen spks, sen 1, feat tensor(0.5006)\n",
            "Chosen spks, sen 2, no feat tensor(0.7909)\n",
            "Chosen spks, sen 2, feat tensor(1.4058)\n",
            "selected spk: p361\n",
            "Other spks, sen 1, no feat tensor(1.1031)\n",
            "Other spks, sen 1, feat tensor(1.6207)\n",
            "Other spks, sen 2, no feat tensor(1.9569)\n",
            "Other spks, sen 2, feat tensor(1.5911)\n",
            "selected spk: p347\n",
            "Chosen spks, sen 1, no feat tensor(0.8288)\n",
            "Chosen spks, sen 1, feat tensor(1.2659)\n",
            "Chosen spks, sen 2, no feat tensor(-0.0490)\n",
            "Chosen spks, sen 2, feat tensor(0.4322)\n",
            "selected spk: p362\n",
            "Other spks, sen 1, no feat tensor(-0.0718)\n",
            "Other spks, sen 1, feat tensor(0.3408)\n",
            "Other spks, sen 2, no feat tensor(0.4608)\n",
            "Other spks, sen 2, feat tensor(1.0015)\n",
            "[0.4187583923339844, 0.7810907363891602, 0.6107377409934998, 1.1925116777420044, 1.1557347774505615, 1.9796502590179443, 1.2480599880218506, 1.1148070096969604, -0.0710374265909195, 0.5878787040710449, 2.308978319168091, 1.6320642232894897, 0.9780967831611633, 0.8541042804718018, -0.01214891392737627, 0.5042514801025391, 1.0355430841445923, 1.58696448802948, -0.06537140905857086, 0.5543897151947021, 2.026681900024414, 2.146827220916748, 0.8748971223831177, 1.2582049369812012, -0.04038306698203087, 0.309361070394516, 0.12209099531173706, 0.7762647867202759, 0.8391225337982178, 1.138311743736267, 0.4094802737236023, 0.9843642711639404, 1.0021129846572876, 1.914602279663086, 1.2185850143432617, 2.419835090637207, -0.021824320778250694, 0.3878857493400574, 0.7678621411323547, 1.4238041639328003, 1.2608791589736938, 1.7206966876983643, 0.18198062479496002, 0.7565023303031921, 0.8749984502792358, 1.2482914924621582, 1.074204683303833, 1.2805840969085693, 1.0143773555755615, 2.086106300354004, 0.8485769033432007, 0.948173463344574, 0.5287189483642578, 1.1492178440093994, 1.2805185317993164, 2.1684422492980957, 0.9304591417312622, 2.1221923828125, 0.17706745862960815, 0.9221563339233398, 0.842553436756134, 1.6416385173797607, 0.5503129959106445, 0.8272230625152588, 0.9418754577636719, 2.0933260917663574, -0.016205981373786926, 0.7432042360305786, 0.5737273693084717, 1.3941923379898071, 0.810001015663147, 2.0368783473968506, 0.7105202078819275, 1.64504075050354, 0.7050681114196777, 1.1359683275222778, 1.3519015312194824, 1.2694065570831299, -0.002960985293611884, 0.5402096509933472, -0.02384045533835888, 0.5882692337036133, -0.018875008448958397, 0.33501705527305603, 1.0875091552734375, 1.3609379529953003, 1.0469156503677368, 1.4207379817962646, 0.7296294569969177, 1.2192754745483398, 0.8000402450561523, 1.4918816089630127, 1.0446516275405884, 1.4106314182281494, 1.1700913906097412, 1.635650634765625, 1.081195592880249, 1.9791836738586426, 0.0014902874827384949, 0.6686563491821289, -0.05649195984005928, 0.39463675022125244, 0.6932581067085266, 0.9411086440086365, 1.3046705722808838, 2.4353203773498535, 2.041264057159424, 2.717731475830078, 0.12587572634220123, 0.8231610059738159, -0.08182860910892487, 0.6189760565757751, 0.8305887579917908, 1.395031213760376, 0.1612914800643921, 0.7584713697433472, 0.044983163475990295, 0.7277752161026001, 0.5061137676239014, 0.8100361824035645, 1.1219680309295654, 2.204948663711548, -0.07716624438762665, 0.6244016885757446, 1.471299171447754, 1.693888545036316, 0.3370787799358368, 0.7464970946311951, -0.0077021862380206585, 0.43316689133644104, 1.2607612609863281, 2.094395637512207, 0.06567245721817017, 0.77010577917099, 0.44033151865005493, 0.750731348991394, 1.5590991973876953, 2.033926486968994, 0.45992976427078247, 1.0398370027542114, 0.8564968109130859, 1.4271907806396484, 0.20376817882061005, 0.7688095569610596, 0.22606444358825684, 0.9805562496185303, 0.813195526599884, 1.7515902519226074, 1.6214286088943481, 2.5210442543029785, 1.6180506944656372, 2.291839122772217, 2.338162422180176, 2.851921558380127, 2.412726402282715, 2.6990814208984375, -0.03651443123817444, 0.4735288619995117, 0.7713922262191772, 1.4430261850357056, 0.9737837910652161, 1.357357144355774, 0.9254956245422363, 1.2248611450195312, 0.8614786863327026, 1.3760788440704346, 1.0743651390075684, 1.7963144779205322, 1.0665819644927979, 1.1384899616241455, 0.5773687362670898, 1.3177745342254639, 0.7721560001373291, 0.8489498496055603, 0.1219349279999733, 0.6473815441131592, 0.25525352358818054, 0.7322831153869629, 0.4286264181137085, 0.9092618227005005, 0.6566975116729736, 1.2797682285308838, 0.8215337991714478, 1.332608699798584, 1.0024749040603638, 1.4243892431259155, 1.0201447010040283, 1.4145078659057617, 0.867713451385498, 1.9161884784698486, 0.7773259878158569, 1.629122257232666, 0.37622779607772827, 0.6023738384246826, 0.8514262437820435, 1.29163658618927, 0.9592759013175964, 1.1592130661010742, 1.040113091468811, 1.471839189529419, 0.6844147443771362, 1.1612303256988525, 0.44731247425079346, 1.2969601154327393, -0.038062550127506256, 0.5241512060165405, 0.15530769526958466, 0.9484647512435913, 0.6712380051612854, 0.9941535592079163, 0.3063739538192749, 0.6268665790557861, 0.7499566674232483, 2.1674551963806152, 0.6995192170143127, 1.3029170036315918, 0.4448275566101074, 0.9742377996444702, 0.7902119159698486, 1.052962303161621, 0.7189266681671143, 1.0962419509887695, 0.8663841485977173, 1.0631754398345947, -0.04242563992738724, 0.5006041526794434, 0.7908833026885986, 1.4058136940002441, 1.1030943393707275, 1.620681881904602, 1.9569196701049805, 1.5911321640014648, 0.8288280963897705, 1.2658944129943848, -0.04899672418832779, 0.43219318985939026, -0.07176428288221359, 0.3407863974571228, 0.46080657839775085, 1.001478910446167]\n",
            "['Chosen spks, sen 1, no feat', 'Chosen spks, sen 1, feat', 'Chosen spks, sen 2, no feat', 'Chosen spks, sen 2, feat', 'Other spks, sen 1, no feat', 'Other spks, sen 1, feat', 'Other spks, sen 2, no feat', 'Other spks, sen 2, feat', 'Chosen spks, sen 1, no feat', 'Chosen spks, sen 1, feat', 'Chosen spks, sen 2, no feat', 'Chosen spks, sen 2, feat', 'Other spks, sen 1, no feat', 'Other spks, sen 1, feat', 'Other spks, sen 2, no feat', 'Other spks, sen 2, feat', 'Chosen spks, sen 1, no feat', 'Chosen spks, sen 1, feat', 'Chosen spks, sen 2, no feat', 'Chosen spks, sen 2, feat', 'Other spks, sen 1, no feat', 'Other spks, sen 1, feat', 'Other spks, sen 2, no feat', 'Other spks, sen 2, feat', 'Chosen spks, sen 1, no feat', 'Chosen spks, sen 1, feat', 'Chosen spks, sen 2, no feat', 'Chosen spks, sen 2, feat', 'Other spks, sen 1, no feat', 'Other spks, sen 1, feat', 'Other spks, sen 2, no feat', 'Other spks, sen 2, feat', 'Chosen spks, sen 1, no feat', 'Chosen spks, sen 1, feat', 'Chosen spks, sen 2, no feat', 'Chosen spks, sen 2, feat', 'Other spks, sen 1, no feat', 'Other spks, sen 1, feat', 'Other spks, sen 2, no feat', 'Other spks, sen 2, feat', 'Chosen spks, sen 1, no feat', 'Chosen spks, sen 1, feat', 'Chosen spks, sen 2, no feat', 'Chosen spks, sen 2, feat', 'Other spks, sen 1, no feat', 'Other spks, sen 1, feat', 'Other spks, sen 2, no feat', 'Other spks, sen 2, feat', 'Chosen spks, sen 1, no feat', 'Chosen spks, sen 1, feat', 'Chosen spks, sen 2, no feat', 'Chosen spks, sen 2, feat', 'Other spks, sen 1, no feat', 'Other spks, sen 1, feat', 'Other spks, sen 2, no feat', 'Other spks, sen 2, feat', 'Chosen spks, sen 1, no feat', 'Chosen spks, sen 1, feat', 'Chosen spks, sen 2, no feat', 'Chosen spks, sen 2, feat', 'Other spks, sen 1, no feat', 'Other spks, sen 1, feat', 'Other spks, sen 2, no feat', 'Other spks, sen 2, feat', 'Chosen spks, sen 1, no feat', 'Chosen spks, sen 1, feat', 'Chosen spks, sen 2, no feat', 'Chosen spks, sen 2, feat', 'Other spks, sen 1, no feat', 'Other spks, sen 1, feat', 'Other spks, sen 2, no feat', 'Other spks, sen 2, feat', 'Chosen spks, sen 1, no feat', 'Chosen spks, sen 1, feat', 'Chosen spks, sen 2, no feat', 'Chosen spks, sen 2, feat', 'Other spks, sen 1, no feat', 'Other spks, sen 1, feat', 'Other spks, sen 2, no feat', 'Other spks, sen 2, feat', 'Chosen spks, sen 1, no feat', 'Chosen spks, sen 1, feat', 'Chosen spks, sen 2, no feat', 'Chosen spks, sen 2, feat', 'Other spks, sen 1, no feat', 'Other spks, sen 1, feat', 'Other spks, sen 2, no feat', 'Other spks, sen 2, feat', 'Chosen spks, sen 1, no feat', 'Chosen spks, sen 1, feat', 'Chosen spks, sen 2, no feat', 'Chosen spks, sen 2, feat', 'Other spks, sen 1, no feat', 'Other spks, sen 1, feat', 'Other spks, sen 2, no feat', 'Other spks, sen 2, feat', 'Chosen spks, sen 1, no feat', 'Chosen spks, sen 1, feat', 'Chosen spks, sen 2, no feat', 'Chosen spks, sen 2, feat', 'Other spks, sen 1, no feat', 'Other spks, sen 1, feat', 'Other spks, sen 2, no feat', 'Other spks, sen 2, feat', 'Chosen spks, sen 1, no feat', 'Chosen spks, sen 1, feat', 'Chosen spks, sen 2, no feat', 'Chosen spks, sen 2, feat', 'Other spks, sen 1, no feat', 'Other spks, sen 1, feat', 'Other spks, sen 2, no feat', 'Other spks, sen 2, feat', 'Chosen spks, sen 1, no feat', 'Chosen spks, sen 1, feat', 'Chosen spks, sen 2, no feat', 'Chosen spks, sen 2, feat', 'Other spks, sen 1, no feat', 'Other spks, sen 1, feat', 'Other spks, sen 2, no feat', 'Other spks, sen 2, feat', 'Chosen spks, sen 1, no feat', 'Chosen spks, sen 1, feat', 'Chosen spks, sen 2, no feat', 'Chosen spks, sen 2, feat', 'Other spks, sen 1, no feat', 'Other spks, sen 1, feat', 'Other spks, sen 2, no feat', 'Other spks, sen 2, feat', 'Chosen spks, sen 1, no feat', 'Chosen spks, sen 1, feat', 'Chosen spks, sen 2, no feat', 'Chosen spks, sen 2, feat', 'Other spks, sen 1, no feat', 'Other spks, sen 1, feat', 'Other spks, sen 2, no feat', 'Other spks, sen 2, feat', 'Chosen spks, sen 1, no feat', 'Chosen spks, sen 1, feat', 'Chosen spks, sen 2, no feat', 'Chosen spks, sen 2, feat', 'Other spks, sen 1, no feat', 'Other spks, sen 1, feat', 'Other spks, sen 2, no feat', 'Other spks, sen 2, feat', 'Chosen spks, sen 1, no feat', 'Chosen spks, sen 1, feat', 'Chosen spks, sen 2, no feat', 'Chosen spks, sen 2, feat', 'Other spks, sen 1, no feat', 'Other spks, sen 1, feat', 'Other spks, sen 2, no feat', 'Other spks, sen 2, feat', 'Chosen spks, sen 1, no feat', 'Chosen spks, sen 1, feat', 'Chosen spks, sen 2, no feat', 'Chosen spks, sen 2, feat', 'Other spks, sen 1, no feat', 'Other spks, sen 1, feat', 'Other spks, sen 2, no feat', 'Other spks, sen 2, feat', 'Chosen spks, sen 1, no feat', 'Chosen spks, sen 1, feat', 'Chosen spks, sen 2, no feat', 'Chosen spks, sen 2, feat', 'Other spks, sen 1, no feat', 'Other spks, sen 1, feat', 'Other spks, sen 2, no feat', 'Other spks, sen 2, feat', 'Chosen spks, sen 1, no feat', 'Chosen spks, sen 1, feat', 'Chosen spks, sen 2, no feat', 'Chosen spks, sen 2, feat', 'Other spks, sen 1, no feat', 'Other spks, sen 1, feat', 'Other spks, sen 2, no feat', 'Other spks, sen 2, feat', 'Chosen spks, sen 1, no feat', 'Chosen spks, sen 1, feat', 'Chosen spks, sen 2, no feat', 'Chosen spks, sen 2, feat', 'Other spks, sen 1, no feat', 'Other spks, sen 1, feat', 'Other spks, sen 2, no feat', 'Other spks, sen 2, feat', 'Chosen spks, sen 1, no feat', 'Chosen spks, sen 1, feat', 'Chosen spks, sen 2, no feat', 'Chosen spks, sen 2, feat', 'Other spks, sen 1, no feat', 'Other spks, sen 1, feat', 'Other spks, sen 2, no feat', 'Other spks, sen 2, feat', 'Chosen spks, sen 1, no feat', 'Chosen spks, sen 1, feat', 'Chosen spks, sen 2, no feat', 'Chosen spks, sen 2, feat', 'Other spks, sen 1, no feat', 'Other spks, sen 1, feat', 'Other spks, sen 2, no feat', 'Other spks, sen 2, feat', 'Chosen spks, sen 1, no feat', 'Chosen spks, sen 1, feat', 'Chosen spks, sen 2, no feat', 'Chosen spks, sen 2, feat', 'Other spks, sen 1, no feat', 'Other spks, sen 1, feat', 'Other spks, sen 2, no feat', 'Other spks, sen 2, feat', 'Chosen spks, sen 1, no feat', 'Chosen spks, sen 1, feat', 'Chosen spks, sen 2, no feat', 'Chosen spks, sen 2, feat', 'Other spks, sen 1, no feat', 'Other spks, sen 1, feat', 'Other spks, sen 2, no feat', 'Other spks, sen 2, feat', 'Chosen spks, sen 1, no feat', 'Chosen spks, sen 1, feat', 'Chosen spks, sen 2, no feat', 'Chosen spks, sen 2, feat', 'Other spks, sen 1, no feat', 'Other spks, sen 1, feat', 'Other spks, sen 2, no feat', 'Other spks, sen 2, feat', 'Chosen spks, sen 1, no feat', 'Chosen spks, sen 1, feat', 'Chosen spks, sen 2, no feat', 'Chosen spks, sen 2, feat', 'Other spks, sen 1, no feat', 'Other spks, sen 1, feat', 'Other spks, sen 2, no feat', 'Other spks, sen 2, feat', 'Chosen spks, sen 1, no feat', 'Chosen spks, sen 1, feat', 'Chosen spks, sen 2, no feat', 'Chosen spks, sen 2, feat', 'Other spks, sen 1, no feat', 'Other spks, sen 1, feat', 'Other spks, sen 2, no feat', 'Other spks, sen 2, feat']\n"
          ]
        }
      ]
    },
    {
      "cell_type": "code",
      "source": [
        "import pandas as pd\n",
        "Jitter = {}\n",
        "\n",
        "Jitter['Speaker, Sentence and Feature'] = speaker_sentence_list\n",
        "Jitter['Activations'] = activations_list\n",
        "\n",
        "# print(Jitter['Speaker and sentence'])\n",
        "frame = pd.DataFrame(Jitter)\n",
        "print(frame)"
      ],
      "metadata": {
        "colab": {
          "base_uri": "https://localhost:8080/"
        },
        "id": "d5RbV4zotY83",
        "outputId": "99940242-4bbd-4963-872a-d788c3c4e98e"
      },
      "execution_count": null,
      "outputs": [
        {
          "output_type": "stream",
          "name": "stdout",
          "text": [
            "    Speaker, Sentence and Feature  Activations\n",
            "0     Chosen spks, sen 1, no feat     0.418758\n",
            "1        Chosen spks, sen 1, feat     0.781091\n",
            "2     Chosen spks, sen 2, no feat     0.610738\n",
            "3        Chosen spks, sen 2, feat     1.192512\n",
            "4      Other spks, sen 1, no feat     1.155735\n",
            "..                            ...          ...\n",
            "235      Chosen spks, sen 2, feat     0.432193\n",
            "236    Other spks, sen 1, no feat    -0.071764\n",
            "237       Other spks, sen 1, feat     0.340786\n",
            "238    Other spks, sen 2, no feat     0.460807\n",
            "239       Other spks, sen 2, feat     1.001479\n",
            "\n",
            "[240 rows x 2 columns]\n"
          ]
        }
      ]
    },
    {
      "cell_type": "code",
      "source": [
        "import seaborn as sns\n",
        "sns.set(font_scale = 0.8)\n",
        "\n",
        "g = sns.stripplot('Speaker, Sentence and Feature', 'Activations', data=Jitter, jitter=0.2)\n",
        "g.set_xticklabels(g.get_xticklabels(), rotation=90)\n",
        "sns.despine()\n",
        "\n",
        "\n",
        "g.set_xlabel(\"Speaker, Sentence and Feature\", fontsize = 10)\n",
        "g.set_ylabel(\"Activation\", fontsize = 10)\n",
        "plt.subplots_adjust(bottom=0.5, top=.98, left=0.2, right=0.8)\n",
        "plt.savefig('easy.png', dpi=1200)"
      ],
      "metadata": {
        "colab": {
          "base_uri": "https://localhost:8080/",
          "height": 367
        },
        "id": "_m8x_OzJtuGA",
        "outputId": "e1a81fc7-c3e8-4b93-c4f5-875a7cc9e70a"
      },
      "execution_count": null,
      "outputs": [
        {
          "output_type": "stream",
          "name": "stderr",
          "text": [
            "/usr/local/lib/python3.7/dist-packages/seaborn/_decorators.py:43: FutureWarning: Pass the following variables as keyword args: x, y. From version 0.12, the only valid positional argument will be `data`, and passing other arguments without an explicit keyword will result in an error or misinterpretation.\n",
            "  FutureWarning\n"
          ]
        },
        {
          "output_type": "display_data",
          "data": {
            "text/plain": [
              "<Figure size 432x288 with 1 Axes>"
            ],
            "image/png": "[encoded data removed]"
          },
          "metadata": {}
        }
      ]
    },
    {
      "cell_type": "code",
      "source": [
        "# from here is just to check you have imported tts-inference.py correctly\n",
        "spk = spks[10]\n",
        "spembs = xvectors[spk]\n",
        "print(f\"selected spk: {spk}\")"
      ],
      "metadata": {
        "id": "H99_WrL5AMoj"
      },
      "execution_count": null,
      "outputs": []
    },
    {
      "cell_type": "code",
      "source": [
        "import soundfile as sf\n",
        "import time\n",
        "# x = \"Please call Stella. Ask her to bring these things with her from the store:  Six spoons of fresh snow peas, five thick slabs of blue cheese, and maybe a snack for her brother Bob.  We also need a small plastic snake and a big toy frog for the kids.  She can scoop these things into three red bags, and we will go meet her Wednesday at the train station.\"\n",
        "x = \"Please call Stella.  Ask her too.\"\n",
        "# __call__\n",
        "wav = text2speech(x, spembs=spembs)[\"wav\"]\n",
        "# print(text2speech(x, spembs=spembs)[\"feat_gen\"].shape)\n",
        "# print(text2speech(x, spembs=spembs)[\"feat_gen_denorm\"].shape)\n",
        "\n",
        "sf.write(\"out.wav\", wav.numpy(), 24000, \"PCM_16\")\n",
        "\n",
        "# Display the audio file below\n",
        "from IPython.display import display, Audio\n",
        "display(Audio(wav.view(-1).cpu().numpy(), rate=24000))"
      ],
      "metadata": {
        "id": "ftrSC8cZACsv"
      },
      "execution_count": null,
      "outputs": []
    },
    {
      "cell_type": "code",
      "source": [
        "index_map(layer, 23970)"
      ],
      "metadata": {
        "id": "dDaxASG7BUu9"
      },
      "execution_count": null,
      "outputs": []
    },
    {
      "cell_type": "code",
      "source": [
        "import soundfile as sf\n",
        "import time\n",
        "# x = \"Please call Stella. Ask her to bring these things with her from the store:  Six spoons of fresh snow peas, five thick slabs of blue cheese, and maybe a snack for her brother Bob.  We also need a small plastic snake and a big toy frog for the kids.  She can scoop these things into three red bags, and we will go meet her Wednesday at the train station.\"\n",
        "x = \"Please call Stella.  Ask her too.\"\n",
        "# __call__\n",
        "wav = text2speech2(x, spembs=spembs)[\"wav\"]\n",
        "# print(text2speech(x, spembs=spembs)[\"feat_gen\"].shape)\n",
        "# print(text2speech(x, spembs=spembs)[\"feat_gen_denorm\"].shape)\n",
        "\n",
        "sf.write(\"out.wav\", wav.numpy(), 24000, \"PCM_16\")\n",
        "\n",
        "# Display the audio file below\n",
        "from IPython.display import display, Audio\n",
        "display(Audio(wav.view(-1).cpu().numpy(), rate=24000))"
      ],
      "metadata": {
        "colab": {
          "base_uri": "https://localhost:8080/",
          "height": 52
        },
        "id": "lAYElcbnrG-P",
        "outputId": "d46de41f-746c-49c2-a2e8-20481533b3e6"
      },
      "execution_count": null,
      "outputs": [
        {
          "output_type": "display_data",
          "data": {
            "text/plain": [
              "<IPython.lib.display.Audio object>"
            ],
            "text/html": [
              "\n",
              "                <audio  controls=\"controls\" >\n",
              "                    <source src=\"data:audio/wav;base64,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\" type=\"audio/wav\" />\n",
              "                    Your browser does not support the audio element.\n",
              "                </audio>\n",
              "              "
            ]
          },
          "metadata": {}
        }
      ]
    },
    {
      "cell_type": "code",
      "source": [
        "text2speech.vocoder.remove_edits()"
      ],
      "metadata": {
        "id": "AuKV2b-ZmkWK"
      },
      "execution_count": null,
      "outputs": []
    },
    {
      "cell_type": "code",
      "source": [
        "x = \"Please call Stella.  Ask her too.\"\n",
        "# __call__\n",
        "wav = text2speech(x, spembs=spembs)[\"wav\"]\n",
        "# print(text2speech(x, spembs=spembs)[\"feat_gen\"].shape)\n",
        "# print(text2speech(x, spembs=spembs)[\"feat_gen_denorm\"].shape)\n",
        "\n",
        "sf.write(\"out.wav\", wav.numpy(), 24000, \"PCM_16\")\n",
        "\n",
        "# Display the audio file below\n",
        "from IPython.display import display, Audio\n",
        "display(Audio(wav.view(-1).cpu().numpy(), rate=24000))"
      ],
      "metadata": {
        "id": "TFfWv6gXAbQJ",
        "colab": {
          "base_uri": "https://localhost:8080/",
          "height": 52
        },
        "outputId": "0ed93d7e-29f7-4c15-db1c-f4fb1817cf9d"
      },
      "execution_count": null,
      "outputs": [
        {
          "output_type": "display_data",
          "data": {
            "text/plain": [
              "<IPython.lib.display.Audio object>"
            ],
            "text/html": [
              "\n",
              "                <audio  controls=\"controls\" >\n",
              "                    <source src=\"data:audio/wav;base64,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\" type=\"audio/wav\" />\n",
              "                    Your browser does not support the audio element.\n",
              "                </audio>\n",
              "              "
            ]
          },
          "metadata": {}
        }
      ]
    },
    {
      "cell_type": "code",
      "source": [
        "for layer in HiFiGAN_layers:\n",
        "  temp = text2speech.vocoder.retained_layer(layer).shape\n",
        "  print(layer, temp[0]*temp[1]*temp[2])"
      ],
      "metadata": {
        "id": "pOVtU_zboel0",
        "colab": {
          "base_uri": "https://localhost:8080/"
        },
        "outputId": "16ffe792-9b4f-48fa-965c-aada41f3ddb7"
      },
      "execution_count": null,
      "outputs": [
        {
          "output_type": "stream",
          "name": "stdout",
          "text": [
            "vocoder.upsamples.0.0 51200\n",
            "vocoder.upsamples.1.0 128000\n",
            "vocoder.upsamples.2.0 320000\n",
            "vocoder.upsamples.3.0 640000\n",
            "vocoder.blocks.0.convs1.0.0 128000\n",
            "vocoder.blocks.0.convs1.1.0 128000\n",
            "vocoder.blocks.0.convs1.2.0 128000\n",
            "vocoder.blocks.0.convs2.0.0 128000\n",
            "vocoder.blocks.0.convs2.1.0 128000\n",
            "vocoder.blocks.0.convs2.2.0 128000\n",
            "vocoder.blocks.1.convs1.0.0 128000\n",
            "vocoder.blocks.1.convs1.1.0 128000\n",
            "vocoder.blocks.1.convs1.2.0 128000\n",
            "vocoder.blocks.1.convs2.0.0 128000\n",
            "vocoder.blocks.1.convs2.1.0 128000\n",
            "vocoder.blocks.1.convs2.2.0 128000\n",
            "vocoder.blocks.2.convs1.0.0 128000\n",
            "vocoder.blocks.2.convs1.1.0 128000\n",
            "vocoder.blocks.2.convs1.2.0 128000\n",
            "vocoder.blocks.2.convs2.0.0 128000\n",
            "vocoder.blocks.2.convs2.1.0 128000\n",
            "vocoder.blocks.2.convs2.2.0 128000\n",
            "vocoder.blocks.3.convs1.0.0 320000\n",
            "vocoder.blocks.3.convs1.1.0 320000\n",
            "vocoder.blocks.3.convs1.2.0 320000\n",
            "vocoder.blocks.3.convs2.0.0 320000\n",
            "vocoder.blocks.3.convs2.1.0 320000\n",
            "vocoder.blocks.3.convs2.2.0 320000\n",
            "vocoder.blocks.4.convs1.0.0 320000\n",
            "vocoder.blocks.4.convs1.1.0 320000\n",
            "vocoder.blocks.4.convs1.2.0 320000\n",
            "vocoder.blocks.4.convs2.0.0 320000\n",
            "vocoder.blocks.4.convs2.1.0 320000\n",
            "vocoder.blocks.4.convs2.2.0 320000\n",
            "vocoder.blocks.5.convs1.0.0 320000\n",
            "vocoder.blocks.5.convs1.1.0 320000\n",
            "vocoder.blocks.5.convs1.2.0 320000\n",
            "vocoder.blocks.5.convs2.0.0 320000\n",
            "vocoder.blocks.5.convs2.1.0 320000\n",
            "vocoder.blocks.5.convs2.2.0 320000\n",
            "vocoder.blocks.6.convs1.0.0 640000\n",
            "vocoder.blocks.6.convs1.1.0 640000\n",
            "vocoder.blocks.6.convs1.2.0 640000\n",
            "vocoder.blocks.6.convs2.0.0 640000\n",
            "vocoder.blocks.6.convs2.1.0 640000\n",
            "vocoder.blocks.6.convs2.2.0 640000\n",
            "vocoder.blocks.7.convs1.0.0 640000\n",
            "vocoder.blocks.7.convs1.1.0 640000\n",
            "vocoder.blocks.7.convs1.2.0 640000\n",
            "vocoder.blocks.7.convs2.0.0 640000\n",
            "vocoder.blocks.7.convs2.1.0 640000\n",
            "vocoder.blocks.7.convs2.2.0 640000\n",
            "vocoder.blocks.8.convs1.0.0 640000\n",
            "vocoder.blocks.8.convs1.1.0 640000\n",
            "vocoder.blocks.8.convs1.2.0 640000\n",
            "vocoder.blocks.8.convs2.0.0 640000\n",
            "vocoder.blocks.8.convs2.1.0 640000\n",
            "vocoder.blocks.8.convs2.2.0 640000\n",
            "vocoder.blocks.9.convs1.0.0 960000\n",
            "vocoder.blocks.9.convs1.1.0 960000\n",
            "vocoder.blocks.9.convs1.2.0 960000\n",
            "vocoder.blocks.9.convs2.0.0 960000\n",
            "vocoder.blocks.9.convs2.1.0 960000\n",
            "vocoder.blocks.9.convs2.2.0 960000\n",
            "vocoder.blocks.10.convs1.0.0 960000\n",
            "vocoder.blocks.10.convs1.1.0 960000\n",
            "vocoder.blocks.10.convs1.2.0 960000\n",
            "vocoder.blocks.10.convs2.0.0 960000\n",
            "vocoder.blocks.10.convs2.1.0 960000\n",
            "vocoder.blocks.10.convs2.2.0 960000\n",
            "vocoder.blocks.11.convs1.0.0 960000\n",
            "vocoder.blocks.11.convs1.1.0 960000\n",
            "vocoder.blocks.11.convs1.2.0 960000\n",
            "vocoder.blocks.11.convs2.0.0 960000\n",
            "vocoder.blocks.11.convs2.1.0 960000\n",
            "vocoder.blocks.11.convs2.2.0 960000\n",
            "vocoder.output_conv.0 960000\n",
            "vocoder.output_conv.2 30000\n"
          ]
        }
      ]
    },
    {
      "cell_type": "code",
      "source": [],
      "metadata": {
        "id": "x_LDhq_kmSbW"
      },
      "execution_count": null,
      "outputs": []
    }
  ]
}